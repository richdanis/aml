{
 "cells": [
  {
   "cell_type": "code",
   "execution_count": 1,
   "id": "0b5b2a18",
   "metadata": {},
   "outputs": [],
   "source": [
    "import pandas as pd\n",
    "import numpy as np\n",
    "from sklearn.model_selection import train_test_split\n",
    "from sklearn.decomposition import PCA, KernelPCA\n",
    "from sklearn.linear_model import Ridge, Lasso\n",
    "from sklearn.metrics import r2_score\n",
    "from sklearn.kernel_ridge import KernelRidge"
   ]
  },
  {
   "cell_type": "code",
   "execution_count": 2,
   "id": "eab07b6f",
   "metadata": {},
   "outputs": [],
   "source": [
    "X_train = pd.read_csv(\"X_train.csv\")\n",
    "X_train = X_train.drop(columns=[\"id\"])"
   ]
  },
  {
   "cell_type": "code",
   "execution_count": 3,
   "id": "53fa0e19",
   "metadata": {},
   "outputs": [],
   "source": [
    "y_train = pd.read_csv(\"y_train.csv\")['y']"
   ]
  },
  {
   "cell_type": "code",
   "execution_count": 4,
   "id": "46376665",
   "metadata": {},
   "outputs": [],
   "source": [
    "X_test = pd.read_csv(\"X_test.csv\")\n",
    "ids = X_test[\"id\"]\n",
    "X_test = X_test.drop(columns=[\"id\"])"
   ]
  },
  {
   "cell_type": "markdown",
   "id": "1329bd54",
   "metadata": {},
   "source": [
    "Remove constant columns"
   ]
  },
  {
   "cell_type": "code",
   "execution_count": 5,
   "id": "80ead9ef",
   "metadata": {},
   "outputs": [],
   "source": [
    "X_test = X_test.loc[:, X_train.var() != 0.0]\n",
    "X_train = X_train.loc[:, X_train.var() != 0.0]"
   ]
  },
  {
   "cell_type": "markdown",
   "id": "e3788f36",
   "metadata": {},
   "source": [
    "Impute median"
   ]
  },
  {
   "cell_type": "code",
   "execution_count": 6,
   "id": "d131c710",
   "metadata": {},
   "outputs": [],
   "source": [
    "X_train = X_train.fillna(X_train.median())\n",
    "X_test = X_test.fillna(X_test.median())"
   ]
  },
  {
   "cell_type": "markdown",
   "id": "0d7aa2cb",
   "metadata": {},
   "source": [
    "Truncate"
   ]
  },
  {
   "cell_type": "code",
   "execution_count": 7,
   "id": "fd060405",
   "metadata": {},
   "outputs": [],
   "source": [
    "DELTA = 0.05\n",
    "bot = X_train.quantile(DELTA)\n",
    "top = X_train.quantile(1-DELTA)"
   ]
  },
  {
   "cell_type": "code",
   "execution_count": 8,
   "id": "ea64bafb",
   "metadata": {},
   "outputs": [],
   "source": [
    "for column in X_train.columns:\n",
    "    X_train.loc[X_train[column] < bot[column], column] = bot[column]\n",
    "    X_train.loc[X_train[column] > top[column], column] = top[column]"
   ]
  },
  {
   "cell_type": "markdown",
   "id": "c5dd2c4a",
   "metadata": {},
   "source": [
    "Normalize"
   ]
  },
  {
   "cell_type": "code",
   "execution_count": 9,
   "id": "03890440",
   "metadata": {},
   "outputs": [],
   "source": [
    "X_train = (X_train - X_train.mean())/X_train.std()\n",
    "X_test = (X_test - X_test.mean())/X_test.std()"
   ]
  },
  {
   "cell_type": "markdown",
   "id": "021ec0db",
   "metadata": {},
   "source": [
    "Shuffle and Train Test Split"
   ]
  },
  {
   "cell_type": "code",
   "execution_count": 10,
   "id": "15ccf35e",
   "metadata": {},
   "outputs": [],
   "source": [
    "X_train_, X_val, y_train_, y_val = train_test_split(X_train, y_train, test_size=0.2, random_state=0)"
   ]
  },
  {
   "cell_type": "markdown",
   "id": "402832d3",
   "metadata": {},
   "source": [
    "PCA"
   ]
  },
  {
   "cell_type": "code",
   "execution_count": 11,
   "id": "75502a8a",
   "metadata": {},
   "outputs": [
    {
     "name": "stdout",
     "output_type": "stream",
     "text": [
      "0.23104555837030805\n",
      "0.19376525424652366\n"
     ]
    }
   ],
   "source": [
    "pca = PCA(n_components=20)\n",
    "X_train_t = pca.fit_transform(X_train_)\n",
    "print(pca.explained_variance_ratio_.sum())\n",
    "print(pca.explained_variance_ratio_[:10].sum())"
   ]
  },
  {
   "cell_type": "code",
   "execution_count": 12,
   "id": "fde572ec",
   "metadata": {},
   "outputs": [],
   "source": [
    "X_val_t = pca.transform(X_val)\n",
    "X_test_t = pca.transform(X_test)"
   ]
  },
  {
   "cell_type": "markdown",
   "id": "dc64e12c",
   "metadata": {},
   "source": [
    "LASSO"
   ]
  },
  {
   "cell_type": "code",
   "execution_count": null,
   "id": "dea9ff53",
   "metadata": {},
   "outputs": [],
   "source": [
    "clf = Lasso(alpha=0.5)\n",
    "clf.fit(X_train_, y_train_)"
   ]
  },
  {
   "cell_type": "code",
   "execution_count": null,
   "id": "f0da876e",
   "metadata": {},
   "outputs": [],
   "source": [
    "(clf.coef_ > 0).sum()"
   ]
  },
  {
   "cell_type": "code",
   "execution_count": null,
   "id": "ccc7ecd7",
   "metadata": {},
   "outputs": [],
   "source": [
    "X_train_t = X_train_.loc[:,clf.coef_ > 0]\n",
    "X_val_t = X_val.loc[:, clf.coef_ > 0]\n",
    "X_test_t = X_test.loc[:, clf.coef_ > 0]"
   ]
  },
  {
   "cell_type": "markdown",
   "id": "7ed7c8e5",
   "metadata": {},
   "source": [
    "Ridge"
   ]
  },
  {
   "cell_type": "code",
   "execution_count": 13,
   "id": "1a63d426",
   "metadata": {},
   "outputs": [
    {
     "data": {
      "text/plain": [
       "Ridge()"
      ]
     },
     "execution_count": 13,
     "metadata": {},
     "output_type": "execute_result"
    }
   ],
   "source": [
    "ridge = Ridge(alpha=1.0)\n",
    "ridge.fit(X_train_t, y_train_)"
   ]
  },
  {
   "cell_type": "markdown",
   "id": "59fe42af",
   "metadata": {},
   "source": [
    "Evaluate"
   ]
  },
  {
   "cell_type": "code",
   "execution_count": 14,
   "id": "72ffc12b",
   "metadata": {},
   "outputs": [
    {
     "data": {
      "text/plain": [
       "0.36170754629481505"
      ]
     },
     "execution_count": 14,
     "metadata": {},
     "output_type": "execute_result"
    }
   ],
   "source": [
    "score = r2_score(y_val, ridge.predict(X_val_t))\n",
    "score"
   ]
  },
  {
   "cell_type": "markdown",
   "id": "08f3d338",
   "metadata": {},
   "source": [
    "Training Score"
   ]
  },
  {
   "cell_type": "code",
   "execution_count": 15,
   "id": "15167ba5",
   "metadata": {},
   "outputs": [
    {
     "data": {
      "text/plain": [
       "0.4394639041990358"
      ]
     },
     "execution_count": 15,
     "metadata": {},
     "output_type": "execute_result"
    }
   ],
   "source": [
    "r2_score(y_train_, ridge.predict(X_train_t))"
   ]
  },
  {
   "cell_type": "markdown",
   "id": "2d040cb7",
   "metadata": {},
   "source": [
    "Submission"
   ]
  },
  {
   "cell_type": "code",
   "execution_count": null,
   "id": "b81b8ef7",
   "metadata": {},
   "outputs": [],
   "source": [
    "sub = ridge.predict(pca.transform(X_test))"
   ]
  },
  {
   "cell_type": "code",
   "execution_count": null,
   "id": "b024dd35",
   "metadata": {},
   "outputs": [],
   "source": [
    "pd.DataFrame({\"id\": ids, \"y\": sub}).to_csv(\"/home/richard/Documents/AML Projects/Task1/data/sub.csv\", index=False)"
   ]
  },
  {
   "cell_type": "code",
   "execution_count": null,
   "id": "520940d3",
   "metadata": {},
   "outputs": [],
   "source": []
  }
 ],
 "metadata": {
  "kernelspec": {
   "display_name": "Python 3 (ipykernel)",
   "language": "python",
   "name": "python3"
  },
  "language_info": {
   "codemirror_mode": {
    "name": "ipython",
    "version": 3
   },
   "file_extension": ".py",
   "mimetype": "text/x-python",
   "name": "python",
   "nbconvert_exporter": "python",
   "pygments_lexer": "ipython3",
   "version": "3.9.11"
  }
 },
 "nbformat": 4,
 "nbformat_minor": 5
}

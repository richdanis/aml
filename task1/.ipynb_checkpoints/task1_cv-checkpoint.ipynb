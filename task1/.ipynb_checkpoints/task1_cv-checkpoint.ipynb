{
 "cells": [
  {
   "cell_type": "code",
   "execution_count": 363,
   "id": "0b5b2a18",
   "metadata": {},
   "outputs": [],
   "source": [
    "import pandas as pd\n",
    "import numpy as np\n",
    "from sklearn.decomposition import PCA, KernelPCA\n",
    "from sklearn.linear_model import Ridge, Lasso\n",
    "from sklearn.metrics import r2_score\n",
    "from sklearn.kernel_ridge import KernelRidge\n",
    "import numpy as np\n",
    "import copy"
   ]
  },
  {
   "cell_type": "code",
   "execution_count": 364,
   "id": "eab07b6f",
   "metadata": {},
   "outputs": [],
   "source": [
    "X = pd.read_csv(\"X_train.csv\")\n",
    "X = X.drop(columns=[\"id\"])"
   ]
  },
  {
   "cell_type": "code",
   "execution_count": 365,
   "id": "53fa0e19",
   "metadata": {},
   "outputs": [],
   "source": [
    "y = pd.read_csv(\"y_train.csv\")['y']"
   ]
  },
  {
   "cell_type": "code",
   "execution_count": 366,
   "id": "46376665",
   "metadata": {},
   "outputs": [],
   "source": [
    "X_test = pd.read_csv(\"X_test.csv\")\n",
    "ids = X_test[\"id\"]\n",
    "X_test = X_test.drop(columns=[\"id\"])"
   ]
  },
  {
   "cell_type": "markdown",
   "id": "1329bd54",
   "metadata": {},
   "source": [
    "Remove constant columns"
   ]
  },
  {
   "cell_type": "code",
   "execution_count": 367,
   "id": "80ead9ef",
   "metadata": {},
   "outputs": [
    {
     "data": {
      "text/plain": [
       "(1212, 828)"
      ]
     },
     "execution_count": 367,
     "metadata": {},
     "output_type": "execute_result"
    }
   ],
   "source": [
    "X_test = X_test.loc[:, X.var() != 0.0]\n",
    "X = X.loc[:, X.var() != 0.0]\n",
    "X.shape"
   ]
  },
  {
   "cell_type": "markdown",
   "id": "e3788f36",
   "metadata": {},
   "source": [
    "Impute median"
   ]
  },
  {
   "cell_type": "code",
   "execution_count": 368,
   "id": "d131c710",
   "metadata": {},
   "outputs": [],
   "source": [
    "X = X.fillna(X.median())\n",
    "X_test = X_test.fillna(X_test.median())"
   ]
  },
  {
   "cell_type": "markdown",
   "id": "0d7aa2cb",
   "metadata": {},
   "source": [
    "Truncate"
   ]
  },
  {
   "cell_type": "code",
   "execution_count": 369,
   "id": "fd060405",
   "metadata": {},
   "outputs": [],
   "source": [
    "def truncate(train, delta=0.01):\n",
    "    \n",
    "    bot = X.quantile(delta)\n",
    "    top = X.quantile(1-delta)\n",
    "    \n",
    "    for column in train.columns:\n",
    "        train.loc[train[column] < bot[column], column] = train[column].median()\n",
    "        train.loc[train[column] > top[column], column] = train[column].median()\n",
    "    \n",
    "    return train"
   ]
  },
  {
   "cell_type": "markdown",
   "id": "c5dd2c4a",
   "metadata": {},
   "source": [
    "Normalize"
   ]
  },
  {
   "cell_type": "code",
   "execution_count": 370,
   "id": "03890440",
   "metadata": {},
   "outputs": [],
   "source": [
    "def normalize(train):\n",
    "    return ((train - train.mean())/train.std()).to_numpy()"
   ]
  },
  {
   "cell_type": "markdown",
   "id": "402832d3",
   "metadata": {},
   "source": [
    "PCA"
   ]
  },
  {
   "cell_type": "code",
   "execution_count": 371,
   "id": "75502a8a",
   "metadata": {},
   "outputs": [],
   "source": [
    "def pca(train, val, target=None):\n",
    "    \n",
    "    pca = PCA(n_components=20)\n",
    "    train_t = pca.fit_transform(train)\n",
    "    val_t = pca.transform(val)\n",
    "    \n",
    "    return train_t, val_t"
   ]
  },
  {
   "cell_type": "markdown",
   "id": "7ed7c8e5",
   "metadata": {},
   "source": [
    "Cross Validation"
   ]
  },
  {
   "cell_type": "code",
   "execution_count": 372,
   "id": "b9c3f883",
   "metadata": {},
   "outputs": [],
   "source": [
    "X_t = truncate(copy.copy(X))\n",
    "X_t = normalize(X_t)\n",
    "mask = np.arange(X_t.shape[0])\n",
    "np.random.shuffle(mask)\n",
    "X_t = X_t[mask]\n",
    "y_t = y[mask]"
   ]
  },
  {
   "cell_type": "code",
   "execution_count": 373,
   "id": "1a862b3a",
   "metadata": {},
   "outputs": [],
   "source": [
    "step = X.shape[0] // 5\n",
    "r2_train = []\n",
    "r2_val = []\n",
    "\n",
    "for i in range(5):\n",
    "    \n",
    "    X_val, y_val = X_t[i*step:(i+1)*step], y_t[i*step:(i+1)*step]\n",
    "    X_train = np.concatenate((X_t[(i+1)*step:], X_t[:i*step]), axis=0)\n",
    "    y_train = np.concatenate((y_t[(i+1)*step:], y_t[:i*step]), axis=0)\n",
    "    \n",
    "    X_train_t, X_val_t = pca(X_train, X_val)\n",
    "    \n",
    "    ridge = Ridge(alpha=1.0)\n",
    "    ridge.fit(X_train_t, y_train)\n",
    "    \n",
    "    r2_train.append(r2_score(y_train, ridge.predict(X_train_t)))\n",
    "    r2_val.append(r2_score(y_val, ridge.predict(X_val_t)))"
   ]
  },
  {
   "cell_type": "code",
   "execution_count": 374,
   "id": "d69c1010",
   "metadata": {},
   "outputs": [
    {
     "data": {
      "text/plain": [
       "0.43479970021500536"
      ]
     },
     "execution_count": 374,
     "metadata": {},
     "output_type": "execute_result"
    }
   ],
   "source": [
    "sum(r2_val) / len(r2_val)"
   ]
  },
  {
   "cell_type": "code",
   "execution_count": 375,
   "id": "ff0d7b4c",
   "metadata": {},
   "outputs": [
    {
     "data": {
      "text/plain": [
       "0.46762678182429207"
      ]
     },
     "execution_count": 375,
     "metadata": {},
     "output_type": "execute_result"
    }
   ],
   "source": [
    "sum(r2_train) / len(r2_train)"
   ]
  },
  {
   "cell_type": "markdown",
   "id": "2d040cb7",
   "metadata": {},
   "source": [
    "Submission"
   ]
  },
  {
   "cell_type": "code",
   "execution_count": 340,
   "id": "b81b8ef7",
   "metadata": {},
   "outputs": [],
   "source": [
    "X_t = truncate(copy.copy(X))\n",
    "X_t = normalize(X_t)\n",
    "X_test_t = truncate(copy.copy(X_test))\n",
    "X_test_t = normalize(X_test_t)\n",
    "mask = np.arange(X_t.shape[0])\n",
    "np.random.shuffle(mask)\n",
    "X_t = X_t[mask]\n",
    "y_t = y[mask]\n",
    "X_train_t, X_test_t = pca(X_t, X_test_t)\n",
    "ridge = Ridge(alpha=1.0)\n",
    "ridge.fit(X_train_t, y_t)\n",
    "sub = ridge.predict(X_test_t)"
   ]
  },
  {
   "cell_type": "code",
   "execution_count": 344,
   "id": "b024dd35",
   "metadata": {},
   "outputs": [],
   "source": [
    "pd.DataFrame({\"id\": ids, \"y\": sub}).to_csv(\"sub_med.csv\", index=False)"
   ]
  },
  {
   "cell_type": "code",
   "execution_count": 342,
   "id": "16c50910",
   "metadata": {},
   "outputs": [
    {
     "data": {
      "text/plain": [
       "(776,)"
      ]
     },
     "execution_count": 342,
     "metadata": {},
     "output_type": "execute_result"
    }
   ],
   "source": [
    "sub.shape"
   ]
  },
  {
   "cell_type": "code",
   "execution_count": 343,
   "id": "00b54607",
   "metadata": {},
   "outputs": [
    {
     "data": {
      "text/plain": [
       "(776, 828)"
      ]
     },
     "execution_count": 343,
     "metadata": {},
     "output_type": "execute_result"
    }
   ],
   "source": [
    "X_test.shape"
   ]
  },
  {
   "cell_type": "code",
   "execution_count": null,
   "id": "a951c55b",
   "metadata": {},
   "outputs": [],
   "source": []
  }
 ],
 "metadata": {
  "kernelspec": {
   "display_name": "Python 3 (ipykernel)",
   "language": "python",
   "name": "python3"
  },
  "language_info": {
   "codemirror_mode": {
    "name": "ipython",
    "version": 3
   },
   "file_extension": ".py",
   "mimetype": "text/x-python",
   "name": "python",
   "nbconvert_exporter": "python",
   "pygments_lexer": "ipython3",
   "version": "3.9.11"
  }
 },
 "nbformat": 4,
 "nbformat_minor": 5
}

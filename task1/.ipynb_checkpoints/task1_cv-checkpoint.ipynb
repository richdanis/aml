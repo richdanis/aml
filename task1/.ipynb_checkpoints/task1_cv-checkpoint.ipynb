{
 "cells": [
  {
   "cell_type": "code",
   "execution_count": 709,
   "id": "0b5b2a18",
   "metadata": {},
   "outputs": [],
   "source": [
    "import pandas as pd\n",
    "import numpy as np\n",
    "from sklearn.decomposition import PCA, KernelPCA\n",
    "from sklearn.linear_model import Ridge, Lasso, HuberRegressor\n",
    "from sklearn.metrics import r2_score\n",
    "from sklearn.kernel_ridge import KernelRidge\n",
    "import numpy as np\n",
    "import copy\n",
    "import matplotlib.pyplot as plt\n",
    "from sklearn import mixture\n",
    "from sklearn.feature_selection import RFE\n",
    "from sklearn.ensemble import GradientBoostingRegressor\n",
    "from xgboost import XGBRegressor\n",
    "from sklearn.feature_selection import SelectKBest, f_regression\n",
    "import itertools\n",
    "from scipy import linalg\n",
    "import matplotlib as mpl\n",
    "import lightgbm"
   ]
  },
  {
   "cell_type": "code",
   "execution_count": 710,
   "id": "eab07b6f",
   "metadata": {},
   "outputs": [],
   "source": [
    "X = pd.read_csv(\"X_train.csv\")\n",
    "X = X.drop(columns=[\"id\"])"
   ]
  },
  {
   "cell_type": "code",
   "execution_count": 711,
   "id": "53fa0e19",
   "metadata": {},
   "outputs": [],
   "source": [
    "y = pd.read_csv(\"y_train.csv\")['y']"
   ]
  },
  {
   "cell_type": "code",
   "execution_count": 712,
   "id": "46376665",
   "metadata": {},
   "outputs": [],
   "source": [
    "X_test = pd.read_csv(\"X_test.csv\")\n",
    "ids = X_test[\"id\"]\n",
    "X_test = X_test.drop(columns=[\"id\"])"
   ]
  },
  {
   "cell_type": "markdown",
   "id": "1329bd54",
   "metadata": {},
   "source": [
    "Remove constant columns"
   ]
  },
  {
   "cell_type": "code",
   "execution_count": 713,
   "id": "80ead9ef",
   "metadata": {},
   "outputs": [
    {
     "data": {
      "text/plain": [
       "(1212, 828)"
      ]
     },
     "execution_count": 713,
     "metadata": {},
     "output_type": "execute_result"
    }
   ],
   "source": [
    "X_test = X_test.loc[:, X.var() != 0.0]\n",
    "X = X.loc[:, X.var() != 0.0]\n",
    "X.shape"
   ]
  },
  {
   "cell_type": "markdown",
   "id": "e3788f36",
   "metadata": {},
   "source": [
    "Impute median"
   ]
  },
  {
   "cell_type": "code",
   "execution_count": 714,
   "id": "d131c710",
   "metadata": {},
   "outputs": [],
   "source": [
    "X_test = (X_test - X.mean()) / X.std()\n",
    "X = (X - X.mean()) / X.std ()\n",
    "X = X.fillna(X.median())\n",
    "X_test = X_test.fillna(X.median())"
   ]
  },
  {
   "cell_type": "markdown",
   "id": "2a06e334",
   "metadata": {},
   "source": [
    "Remove highly correlated features"
   ]
  },
  {
   "cell_type": "code",
   "execution_count": 715,
   "id": "0a441524",
   "metadata": {},
   "outputs": [
    {
     "name": "stdout",
     "output_type": "stream",
     "text": [
      "Removed columns:  110\n"
     ]
    }
   ],
   "source": [
    "corr_matrix = X.corr().abs()\n",
    "\n",
    "# Select upper triangle of correlation matrix\n",
    "upper = corr_matrix.where(np.triu(np.ones(corr_matrix.shape), k=1).astype(bool))\n",
    "\n",
    "# Find features with correlation greater than 0.75\n",
    "to_drop = [column for column in upper.columns if any(upper[column] > 0.75)]\n",
    "print(\"Removed columns: \", len(to_drop))\n",
    "# Drop features \n",
    "X.drop(to_drop, axis=1, inplace=True)\n",
    "X_test.drop(to_drop, axis=1, inplace=True)"
   ]
  },
  {
   "cell_type": "code",
   "execution_count": 716,
   "id": "54fcfce7",
   "metadata": {},
   "outputs": [],
   "source": [
    "X = X.to_numpy()\n",
    "y = y.to_numpy()\n",
    "X_test = X_test.to_numpy()"
   ]
  },
  {
   "cell_type": "markdown",
   "id": "9ceb030e",
   "metadata": {},
   "source": [
    "Remove features with low correlation with target <br>\n",
    "Not entirely sure if this is useful, it removes a lot of features though"
   ]
  },
  {
   "cell_type": "code",
   "execution_count": 642,
   "id": "a40bd23a",
   "metadata": {},
   "outputs": [
    {
     "name": "stdout",
     "output_type": "stream",
     "text": [
      "Removed columns:  620\n"
     ]
    }
   ],
   "source": [
    "combined = np.concatenate((X, np.expand_dims(y, axis=-1)), axis=1)\n",
    "corr = np.corrcoef(combined, rowvar=False)\n",
    "corr_y = np.abs(corr[-1,:-1])\n",
    "print(\"Removed columns: \", ((corr_y) < 0.1).sum())\n",
    "X = X[:, corr_y > 0.05]\n",
    "X_test = X_test[:, corr_y > 0.05]"
   ]
  },
  {
   "cell_type": "code",
   "execution_count": 717,
   "id": "66cf4ab7",
   "metadata": {},
   "outputs": [
    {
     "data": {
      "text/plain": [
       "(1212, 718)"
      ]
     },
     "execution_count": 717,
     "metadata": {},
     "output_type": "execute_result"
    }
   ],
   "source": [
    "X.shape"
   ]
  },
  {
   "cell_type": "markdown",
   "id": "0d7aa2cb",
   "metadata": {},
   "source": [
    "Truncate"
   ]
  },
  {
   "cell_type": "code",
   "execution_count": 718,
   "id": "fd060405",
   "metadata": {},
   "outputs": [],
   "source": [
    "def truncate(train, test, delta=0.01):\n",
    "    \n",
    "    bot = X.quantile(delta)\n",
    "    top = X.quantile(1-delta)\n",
    "    \n",
    "    for column in train.columns:\n",
    "        train.loc[train[column] < bot[column], column] = train[column].median()\n",
    "        train.loc[train[column] > top[column], column] = train[column].median()\n",
    "        test.loc[test[column] < bot[column], column] = train[column].median()\n",
    "        test.loc[test[column] > top[column], column] = train[column].median()\n",
    "        \n",
    "    return train, test"
   ]
  },
  {
   "cell_type": "markdown",
   "id": "07655df4",
   "metadata": {},
   "source": [
    "Feature selection methods"
   ]
  },
  {
   "cell_type": "code",
   "execution_count": 719,
   "id": "6767566d",
   "metadata": {},
   "outputs": [],
   "source": [
    "def rfe(train, val, target, n=20):\n",
    "    \n",
    "    estimator = lightgbm.LGBMRegressor()\n",
    "    selector = RFE(estimator, n_features_to_select=n, step=1, verbose=0)\n",
    "    selector = selector.fit(train, target)\n",
    "    train = selector.transform(train)\n",
    "    val = selector.transform(val)\n",
    "    \n",
    "    return train, val"
   ]
  },
  {
   "cell_type": "code",
   "execution_count": 720,
   "id": "75502a8a",
   "metadata": {},
   "outputs": [],
   "source": [
    "def pca(train, val, n=20):\n",
    "    \n",
    "    pca = KernelPCA(kernel='rbf', n_components=n)\n",
    "    train_t = pca.fit_transform(train)\n",
    "    val_t = pca.transform(val)\n",
    "    \n",
    "    return train_t, val_t"
   ]
  },
  {
   "cell_type": "code",
   "execution_count": 721,
   "id": "39ec702a",
   "metadata": {},
   "outputs": [],
   "source": [
    "def lasso_select(train, val, target, alpha=1):\n",
    "    \n",
    "    clf = Lasso(alpha=alpha)\n",
    "    clf.fit(train, target)\n",
    "    train = train[:,clf.coef_ != 0]\n",
    "    val = val[:, clf.coef_ != 0]\n",
    "    print(\"Selected features: \" ,np.count_nonzero(clf.coef_))\n",
    "    \n",
    "    return train, val"
   ]
  },
  {
   "cell_type": "code",
   "execution_count": 722,
   "id": "34931133",
   "metadata": {},
   "outputs": [],
   "source": [
    "def sel_best(train, val, target, n=20):\n",
    "    \n",
    "    sel = SelectKBest(f_regression, k=n)\n",
    "    train_t = sel.fit_transform(train, target)\n",
    "    val_t = sel.transform(val)\n",
    "    \n",
    "    return train_t, val_t"
   ]
  },
  {
   "cell_type": "markdown",
   "id": "7ed7c8e5",
   "metadata": {},
   "source": [
    "Cross Validation"
   ]
  },
  {
   "cell_type": "code",
   "execution_count": 774,
   "id": "b9c3f883",
   "metadata": {},
   "outputs": [],
   "source": [
    "X_t = copy.copy(X)\n",
    "mask = np.arange(X_t.shape[0])\n",
    "np.random.shuffle(mask)\n",
    "X_t = X_t[mask]\n",
    "y_t = y[mask]"
   ]
  },
  {
   "cell_type": "code",
   "execution_count": 775,
   "id": "1a862b3a",
   "metadata": {},
   "outputs": [
    {
     "name": "stdout",
     "output_type": "stream",
     "text": [
      "Selected features:  19\n",
      "Selected features:  18\n",
      "Selected features:  19\n",
      "Selected features:  21\n",
      "Selected features:  18\n"
     ]
    }
   ],
   "source": [
    "step = X.shape[0] // 5\n",
    "r2_val_ridge, r2_train_ridge = 0, 0\n",
    "r2_val_xgb, r2_train_xgb = 0, 0\n",
    "r2_val_lgb, r2_train_lgb = 0, 0\n",
    "r2_val_gbr, r2_train_gbr = 0, 0\n",
    "\n",
    "for i in range(5):\n",
    "    \n",
    "    X_val, y_val = X_t[i*step:(i+1)*step], y_t[i*step:(i+1)*step]\n",
    "    X_train = np.concatenate((X_t[(i+1)*step:], X_t[:i*step]), axis=0)\n",
    "    y_train = np.concatenate((y_t[(i+1)*step:], y_t[:i*step]), axis=0)\n",
    "    \n",
    "    # feature selection\n",
    "    \n",
    "    X_train, X_val = lasso_select(X_train, X_val, y_train, alpha=0.7)\n",
    "    \n",
    "    # fit models\n",
    "    \n",
    "    ridge = Ridge(alpha=2)\n",
    "    xgb = XGBRegressor(max_depth=2, eta=0.1, reg_lambda=5)\n",
    "    lgb = lightgbm.LGBMRegressor(max_depth=2, learning_rate=0.015, n_estimators=500)\n",
    "    gbr = GradientBoostingRegressor(max_depth=2, learning_rate=0.03, n_estimators=400)\n",
    "    \n",
    "    ridge.fit(X_train, y_train)\n",
    "    xgb.fit(X_train, y_train)\n",
    "    lgb.fit(X_train, y_train)\n",
    "    gbr.fit(X_train, y_train)\n",
    "    \n",
    "    r2_val_ridge += r2_score(y_val, ridge.predict(X_val))\n",
    "    r2_val_xgb += r2_score(y_val, xgb.predict(X_val))\n",
    "    r2_val_lgb += r2_score(y_val, lgb.predict(X_val))\n",
    "    r2_val_gbr += r2_score(y_val, gbr.predict(X_val))\n",
    "    \n",
    "    r2_train_ridge += r2_score(y_train, ridge.predict(X_train))\n",
    "    r2_train_xgb += r2_score(y_train, xgb.predict(X_train))\n",
    "    r2_train_lgb += r2_score(y_train, lgb.predict(X_train))\n",
    "    r2_train_gbr += r2_score(y_train, gbr.predict(X_train))"
   ]
  },
  {
   "cell_type": "markdown",
   "id": "44681380",
   "metadata": {},
   "source": [
    "Validation Scores"
   ]
  },
  {
   "cell_type": "code",
   "execution_count": 776,
   "id": "d69c1010",
   "metadata": {},
   "outputs": [
    {
     "name": "stdout",
     "output_type": "stream",
     "text": [
      "Ridge:  0.31653372130153573\n",
      "XGB:  0.4553854027301091\n",
      "LGB:  0.46582396759095585\n",
      "GBR: 0.4573052606407234\n"
     ]
    }
   ],
   "source": [
    "print(\"Ridge: \", r2_val_ridge/5)\n",
    "print(\"XGB: \", r2_val_xgb/5)\n",
    "print(\"LGB: \", r2_val_lgb/5)\n",
    "print(\"GBR:\", r2_val_gbr/5)"
   ]
  },
  {
   "cell_type": "markdown",
   "id": "ab699091",
   "metadata": {},
   "source": [
    "Train Scores"
   ]
  },
  {
   "cell_type": "code",
   "execution_count": 777,
   "id": "ff0d7b4c",
   "metadata": {},
   "outputs": [
    {
     "name": "stdout",
     "output_type": "stream",
     "text": [
      "Ridge:  0.403011163327629\n",
      "XGB:  0.6823728611828044\n",
      "LGB:  0.6288417113650716\n",
      "GBR: 0.7249101329167192\n"
     ]
    }
   ],
   "source": [
    "print(\"Ridge: \", r2_train_ridge/5)\n",
    "print(\"XGB: \", r2_train_xgb/5)\n",
    "print(\"LGB: \", r2_train_lgb/5)\n",
    "print(\"GBR:\", r2_train_gbr/5)"
   ]
  },
  {
   "cell_type": "markdown",
   "id": "2d040cb7",
   "metadata": {},
   "source": [
    "Submission"
   ]
  },
  {
   "cell_type": "code",
   "execution_count": null,
   "id": "b81b8ef7",
   "metadata": {},
   "outputs": [],
   "source": [
    "sub = gbr.predict(X_test_s)"
   ]
  },
  {
   "cell_type": "code",
   "execution_count": null,
   "id": "b024dd35",
   "metadata": {},
   "outputs": [],
   "source": [
    "pd.DataFrame({\"id\": ids, \"y\": sub}).to_csv(\"sub_gbr.csv\", index=False)"
   ]
  }
 ],
 "metadata": {
  "kernelspec": {
   "display_name": "Python 3 (ipykernel)",
   "language": "python",
   "name": "python3"
  },
  "language_info": {
   "codemirror_mode": {
    "name": "ipython",
    "version": 3
   },
   "file_extension": ".py",
   "mimetype": "text/x-python",
   "name": "python",
   "nbconvert_exporter": "python",
   "pygments_lexer": "ipython3",
   "version": "3.9.11"
  }
 },
 "nbformat": 4,
 "nbformat_minor": 5
}

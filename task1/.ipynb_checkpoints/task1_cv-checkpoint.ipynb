{
 "cells": [
  {
   "cell_type": "code",
   "execution_count": 86,
   "id": "0b5b2a18",
   "metadata": {},
   "outputs": [],
   "source": [
    "import pandas as pd\n",
    "import numpy as np\n",
    "from sklearn.decomposition import PCA\n",
    "from sklearn.linear_model import Ridge, Lasso\n",
    "from sklearn.metrics import r2_score\n",
    "import numpy as np\n",
    "import matplotlib.pyplot as plt\n",
    "from sklearn.feature_selection import RFE\n",
    "from sklearn.ensemble import GradientBoostingRegressor\n",
    "from xgboost import XGBRegressor\n",
    "from lightgbm import LGBMRegressor\n",
    "from catboost import CatBoostRegressor\n",
    "from sklearn.model_selection import RepeatedKFold\n",
    "from sklearn.preprocessing import RobustScaler, StandardScaler\n",
    "from sklearn.impute import SimpleImputer\n",
    "from sklearn.cluster import DBSCAN"
   ]
  },
  {
   "cell_type": "code",
   "execution_count": 87,
   "id": "eab07b6f",
   "metadata": {},
   "outputs": [],
   "source": [
    "X = pd.read_csv(\"X_train.csv\")\n",
    "X = X.drop(columns=[\"id\"])"
   ]
  },
  {
   "cell_type": "code",
   "execution_count": 88,
   "id": "53fa0e19",
   "metadata": {},
   "outputs": [],
   "source": [
    "y = pd.read_csv(\"y_train.csv\")['y']"
   ]
  },
  {
   "cell_type": "code",
   "execution_count": 89,
   "id": "46376665",
   "metadata": {},
   "outputs": [],
   "source": [
    "X_test = pd.read_csv(\"X_test.csv\")\n",
    "ids = X_test[\"id\"]\n",
    "X_test = X_test.drop(columns=[\"id\"])"
   ]
  },
  {
   "cell_type": "markdown",
   "id": "1329bd54",
   "metadata": {},
   "source": [
    "Remove constant columns"
   ]
  },
  {
   "cell_type": "code",
   "execution_count": 90,
   "id": "80ead9ef",
   "metadata": {},
   "outputs": [],
   "source": [
    "X_test = X_test.loc[:, X.var() != 0.0]\n",
    "X = X.loc[:, X.var() != 0.0]"
   ]
  },
  {
   "cell_type": "markdown",
   "id": "2a06e334",
   "metadata": {},
   "source": [
    "Remove highly correlated features"
   ]
  },
  {
   "cell_type": "code",
   "execution_count": 91,
   "id": "0a441524",
   "metadata": {},
   "outputs": [
    {
     "name": "stdout",
     "output_type": "stream",
     "text": [
      "Removed columns:  53\n"
     ]
    }
   ],
   "source": [
    "corr_matrix = X.corr().abs()\n",
    "\n",
    "# Select upper triangle of correlation matrix\n",
    "upper = corr_matrix.where(np.triu(np.ones(corr_matrix.shape), k=1).astype(bool))\n",
    "\n",
    "# Find features with correlation greater than 0.9\n",
    "to_drop = [column for column in upper.columns if any(upper[column] > 0.9)]\n",
    "print(\"Removed columns: \", len(to_drop))\n",
    "# Drop features \n",
    "X.drop(to_drop, axis=1, inplace=True)\n",
    "X_test.drop(to_drop, axis=1, inplace=True)"
   ]
  },
  {
   "cell_type": "markdown",
   "id": "e3788f36",
   "metadata": {},
   "source": [
    "Scale"
   ]
  },
  {
   "cell_type": "code",
   "execution_count": 92,
   "id": "cfaefd40",
   "metadata": {},
   "outputs": [],
   "source": [
    "transformer = RobustScaler()\n",
    "X = transformer.fit_transform(X)\n",
    "X_test = transformer.transform(X_test)"
   ]
  },
  {
   "cell_type": "markdown",
   "id": "888f03a6",
   "metadata": {},
   "source": [
    "Impute median"
   ]
  },
  {
   "cell_type": "code",
   "execution_count": 93,
   "id": "d131c710",
   "metadata": {},
   "outputs": [],
   "source": [
    "imp_median = SimpleImputer(missing_values=np.nan, strategy='median')\n",
    "X = imp_median.fit_transform(X)\n",
    "X_test = imp_median.transform(X_test)"
   ]
  },
  {
   "cell_type": "code",
   "execution_count": 94,
   "id": "54fcfce7",
   "metadata": {},
   "outputs": [],
   "source": [
    "y = y.to_numpy()"
   ]
  },
  {
   "cell_type": "markdown",
   "id": "07655df4",
   "metadata": {},
   "source": [
    "Feature selection methods"
   ]
  },
  {
   "cell_type": "code",
   "execution_count": 95,
   "id": "75502a8a",
   "metadata": {},
   "outputs": [],
   "source": [
    "def pca(train, val, n=20):\n",
    "    \n",
    "    pca = PCA(whiten=True, n_components=n)\n",
    "    train_t = pca.fit_transform(train)\n",
    "    val_t = pca.transform(val)\n",
    "    \n",
    "    return train_t, val_t"
   ]
  },
  {
   "cell_type": "code",
   "execution_count": 96,
   "id": "39ec702a",
   "metadata": {},
   "outputs": [],
   "source": [
    "def lasso_select(train, val, target, alpha=1):\n",
    "    \n",
    "    clf = Lasso(alpha=alpha)\n",
    "    clf.fit(train, target)\n",
    "    coef = clf.coef_\n",
    "    \n",
    "    # select features with non-zero lasso coefficients\n",
    "    \n",
    "    train = train[:, coef != 0]\n",
    "    val = val[:, coef != 0]\n",
    "    print(\"Selected features: \" ,np.count_nonzero(clf.coef_))\n",
    "    \n",
    "    return train, val"
   ]
  },
  {
   "cell_type": "markdown",
   "id": "7ed7c8e5",
   "metadata": {},
   "source": [
    "Cross Validation"
   ]
  },
  {
   "cell_type": "code",
   "execution_count": 97,
   "id": "1a862b3a",
   "metadata": {},
   "outputs": [
    {
     "name": "stdout",
     "output_type": "stream",
     "text": [
      "Selected features:  18\n",
      "Selected features:  18\n",
      "Selected features:  17\n",
      "Selected features:  18\n",
      "Selected features:  19\n",
      "Selected features:  19\n",
      "Selected features:  19\n",
      "Selected features:  17\n",
      "Selected features:  15\n",
      "Selected features:  20\n",
      "Selected features:  21\n",
      "Selected features:  16\n",
      "Selected features:  19\n",
      "Selected features:  17\n",
      "Selected features:  17\n",
      "Selected features:  16\n",
      "Selected features:  18\n",
      "Selected features:  20\n",
      "Selected features:  18\n",
      "Selected features:  15\n",
      "Selected features:  17\n",
      "Selected features:  17\n",
      "Selected features:  17\n",
      "Selected features:  19\n",
      "Selected features:  18\n",
      "Selected features:  18\n",
      "Selected features:  19\n",
      "Selected features:  18\n",
      "Selected features:  17\n",
      "Selected features:  20\n",
      "Selected features:  21\n",
      "Selected features:  17\n",
      "Selected features:  18\n",
      "Selected features:  17\n",
      "Selected features:  17\n",
      "Selected features:  16\n",
      "Selected features:  19\n",
      "Selected features:  17\n",
      "Selected features:  18\n",
      "Selected features:  15\n",
      "Selected features:  18\n",
      "Selected features:  17\n",
      "Selected features:  17\n",
      "Selected features:  19\n",
      "Selected features:  18\n",
      "Selected features:  19\n",
      "Selected features:  21\n",
      "Selected features:  18\n",
      "Selected features:  19\n",
      "Selected features:  19\n"
     ]
    }
   ],
   "source": [
    "k = 10\n",
    "n_folds = 5\n",
    "\n",
    "rkf = RepeatedKFold(n_splits=n_folds, n_repeats=k)\n",
    "\n",
    "r2_val_ridge, r2_train_ridge = 0, 0\n",
    "r2_val_xgb, r2_train_xgb = 0, 0\n",
    "r2_val_lgb, r2_train_lgb = 0, 0\n",
    "r2_val_gbr, r2_train_gbr = 0, 0\n",
    "r2_val_cat, r2_train_cat = 0, 0\n",
    "\n",
    "for train_index, val_index in rkf.split(X):\n",
    "    \n",
    "    X_train, X_val = X[train_index], X[val_index]\n",
    "    y_train, y_val = y[train_index], y[val_index]\n",
    "\n",
    "    # feature selection\n",
    "\n",
    "    X_train, X_val = lasso_select(X_train, X_val, y_train, alpha=0.7)\n",
    "        \n",
    "    # outlier removal\n",
    "    \n",
    "    dbscan = DBSCAN(eps=4, min_samples=40)\n",
    "    dbscan.fit(X_train)\n",
    "    before = X_train.shape[0]\n",
    "    X_train = X_train[dbscan.labels_ != -1]\n",
    "    print(\"Outliers removed: \", before - X_train.shape[0])\n",
    "\n",
    "    # fit models\n",
    "\n",
    "    ridge = Ridge(alpha=2)\n",
    "    xgb = XGBRegressor(max_depth=2, eta=0.1, reg_lambda=5)\n",
    "    lgb = LGBMRegressor()\n",
    "    gbr = GradientBoostingRegressor()\n",
    "    cat = CatBoostRegressor(verbose=False, allow_writing_files=False)\n",
    "\n",
    "    ridge.fit(X_train, y_train)\n",
    "    xgb.fit(X_train, y_train)\n",
    "    lgb.fit(X_train, y_train)\n",
    "    gbr.fit(X_train, y_train)\n",
    "    cat.fit(X_train, y_train)\n",
    "\n",
    "    r2_val_ridge += r2_score(y_val, ridge.predict(X_val))\n",
    "    r2_val_xgb += r2_score(y_val, xgb.predict(X_val))\n",
    "    r2_val_lgb += r2_score(y_val, lgb.predict(X_val))\n",
    "    r2_val_gbr += r2_score(y_val, gbr.predict(X_val))\n",
    "    r2_val_cat += r2_score(y_val, cat.predict(X_val))\n",
    "\n",
    "    r2_train_ridge += r2_score(y_train, ridge.predict(X_train))\n",
    "    r2_train_xgb += r2_score(y_train, xgb.predict(X_train))\n",
    "    r2_train_lgb += r2_score(y_train, lgb.predict(X_train))\n",
    "    r2_train_gbr += r2_score(y_train, gbr.predict(X_train))\n",
    "    r2_train_cat += r2_score(y_train, cat.predict(X_train))"
   ]
  },
  {
   "cell_type": "markdown",
   "id": "44681380",
   "metadata": {},
   "source": [
    "Validation Scores"
   ]
  },
  {
   "cell_type": "code",
   "execution_count": 98,
   "id": "d69c1010",
   "metadata": {},
   "outputs": [
    {
     "name": "stdout",
     "output_type": "stream",
     "text": [
      "Ridge: 0.34653804976979624\n",
      "XGB: 0.468803692637444\n",
      "LGB: 0.4777992111814588\n",
      "GBR: 0.4634140095833609\n",
      "Cat 0.5088410553727866\n"
     ]
    }
   ],
   "source": [
    "print(\"Ridge:\", r2_val_ridge/(n_folds*k))\n",
    "print(\"XGB:\", r2_val_xgb/(n_folds*k))\n",
    "print(\"LGB:\", r2_val_lgb/(n_folds*k))\n",
    "print(\"GBR:\", r2_val_gbr/(n_folds*k))\n",
    "print(\"Cat\", r2_val_cat/(n_folds*k))"
   ]
  },
  {
   "cell_type": "markdown",
   "id": "ab699091",
   "metadata": {},
   "source": [
    "Train Scores"
   ]
  },
  {
   "cell_type": "code",
   "execution_count": 99,
   "id": "ff0d7b4c",
   "metadata": {},
   "outputs": [
    {
     "name": "stdout",
     "output_type": "stream",
     "text": [
      "Ridge: 0.3963338704560547\n",
      "XGB: 0.6857695832735453\n",
      "LGB: 0.9556834804563412\n",
      "GBR: 0.8172977853483961\n",
      "Cat: 0.9774356534497847\n"
     ]
    }
   ],
   "source": [
    "print(\"Ridge:\", r2_train_ridge/(n_folds*k))\n",
    "print(\"XGB:\", r2_train_xgb/(n_folds*k))\n",
    "print(\"LGB:\", r2_train_lgb/(n_folds*k))\n",
    "print(\"GBR:\", r2_train_gbr/(n_folds*k))\n",
    "print(\"Cat:\", r2_train_cat/(n_folds*k))"
   ]
  },
  {
   "cell_type": "markdown",
   "id": "d1f5bca6",
   "metadata": {},
   "source": [
    "<h3> Results: </h3>\n",
    "lasso 0.7, correlated feature removal at 0.9: <br>\n",
    "1. Ridge: 0.34106056914528515 <br>\n",
    "2. XGB: 0.4732512178890452 <br>\n",
    "3. LGB: 0.48213427727725927 <br>\n",
    "4. GBR: 0.47345544221294494 <br>\n",
    "5. Cat 0.5147129879649083 <br>\n",
    "\n",
    "<br>\n",
    "removing features with low correlation with target is not useful\n",
    "<br>\n",
    "Robust Scaler <br>\n",
    "1. Ridge: 0.34223038357372415 <br>\n",
    "2. XGB: 0.46853086163501784 <br>\n",
    "3. LGB: 0.4827957318822244 <br>\n",
    "4. GBR: 0.4638285545174996 <br>\n",
    "5. Cat 0.5156525376456286 <br>\n"
   ]
  },
  {
   "cell_type": "markdown",
   "id": "2d040cb7",
   "metadata": {},
   "source": [
    "Submission"
   ]
  },
  {
   "cell_type": "code",
   "execution_count": 54,
   "id": "211e89c9",
   "metadata": {},
   "outputs": [
    {
     "name": "stdout",
     "output_type": "stream",
     "text": [
      "Selected features:  17\n"
     ]
    }
   ],
   "source": [
    "X_sub, X_test_sub = lasso_select(X, X_test, y, alpha=0.7)\n",
    "cat = CatBoostRegressor(verbose=False, allow_writing_files=False)\n",
    "cat.fit(X_sub, y)\n",
    "sub = cat.predict(X_test_sub)"
   ]
  },
  {
   "cell_type": "code",
   "execution_count": 55,
   "id": "b024dd35",
   "metadata": {},
   "outputs": [],
   "source": [
    "pd.DataFrame({\"id\": ids, \"y\": sub}).to_csv(\"sub_cat.csv\", index=False)"
   ]
  },
  {
   "cell_type": "code",
   "execution_count": 119,
   "id": "148e8489",
   "metadata": {},
   "outputs": [
    {
     "data": {
      "text/plain": [
       "(1212, 775)"
      ]
     },
     "execution_count": 119,
     "metadata": {},
     "output_type": "execute_result"
    }
   ],
   "source": [
    "X.shape"
   ]
  },
  {
   "cell_type": "code",
   "execution_count": null,
   "id": "cd208562",
   "metadata": {},
   "outputs": [],
   "source": []
  }
 ],
 "metadata": {
  "kernelspec": {
   "display_name": "Python 3 (ipykernel)",
   "language": "python",
   "name": "python3"
  },
  "language_info": {
   "codemirror_mode": {
    "name": "ipython",
    "version": 3
   },
   "file_extension": ".py",
   "mimetype": "text/x-python",
   "name": "python",
   "nbconvert_exporter": "python",
   "pygments_lexer": "ipython3",
   "version": "3.9.11"
  }
 },
 "nbformat": 4,
 "nbformat_minor": 5
}

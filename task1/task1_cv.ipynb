{
 "cells": [
  {
   "cell_type": "code",
   "execution_count": 412,
   "id": "0b5b2a18",
   "metadata": {},
   "outputs": [],
   "source": [
    "import pandas as pd\n",
    "import numpy as np\n",
    "from sklearn.decomposition import PCA\n",
    "from sklearn.linear_model import Ridge, Lasso\n",
    "from sklearn.metrics import r2_score\n",
    "import numpy as np\n",
    "import matplotlib.pyplot as plt\n",
    "from sklearn.feature_selection import RFE\n",
    "from sklearn.ensemble import GradientBoostingRegressor\n",
    "from xgboost import XGBRegressor\n",
    "from lightgbm import LGBMRegressor\n",
    "from catboost import CatBoostRegressor\n",
    "from sklearn.model_selection import RepeatedKFold\n",
    "from sklearn.preprocessing import RobustScaler, StandardScaler\n",
    "from sklearn.impute import SimpleImputer\n",
    "from sklearn.cluster import DBSCAN"
   ]
  },
  {
   "cell_type": "code",
   "execution_count": 413,
   "id": "eab07b6f",
   "metadata": {},
   "outputs": [],
   "source": [
    "X = pd.read_csv(\"X_train.csv\")\n",
    "X = X.drop(columns=[\"id\"])"
   ]
  },
  {
   "cell_type": "code",
   "execution_count": 414,
   "id": "53fa0e19",
   "metadata": {},
   "outputs": [],
   "source": [
    "y = pd.read_csv(\"y_train.csv\")['y']"
   ]
  },
  {
   "cell_type": "code",
   "execution_count": 415,
   "id": "46376665",
   "metadata": {},
   "outputs": [],
   "source": [
    "X_test = pd.read_csv(\"X_test.csv\")\n",
    "ids = X_test[\"id\"]\n",
    "X_test = X_test.drop(columns=[\"id\"])"
   ]
  },
  {
   "cell_type": "markdown",
   "id": "1329bd54",
   "metadata": {},
   "source": [
    "Remove constant columns"
   ]
  },
  {
   "cell_type": "code",
   "execution_count": 416,
   "id": "80ead9ef",
   "metadata": {},
   "outputs": [],
   "source": [
    "X_test = X_test.loc[:, X.var() != 0.0]\n",
    "X = X.loc[:, X.var() != 0.0]"
   ]
  },
  {
   "cell_type": "markdown",
   "id": "2a06e334",
   "metadata": {},
   "source": [
    "Remove highly correlated features"
   ]
  },
  {
   "cell_type": "code",
   "execution_count": 417,
   "id": "0a441524",
   "metadata": {},
   "outputs": [
    {
     "name": "stdout",
     "output_type": "stream",
     "text": [
      "Removed columns:  53\n"
     ]
    }
   ],
   "source": [
    "corr_matrix = X.corr().abs()\n",
    "\n",
    "# Select upper triangle of correlation matrix\n",
    "upper = corr_matrix.where(np.triu(np.ones(corr_matrix.shape), k=1).astype(bool))\n",
    "\n",
    "# Find features with correlation greater than 0.9\n",
    "to_drop = [column for column in upper.columns if any(upper[column] > 0.9)]\n",
    "print(\"Removed columns: \", len(to_drop))\n",
    "# Drop features \n",
    "X.drop(to_drop, axis=1, inplace=True)\n",
    "X_test.drop(to_drop, axis=1, inplace=True)"
   ]
  },
  {
   "cell_type": "markdown",
   "id": "e3788f36",
   "metadata": {},
   "source": [
    "Scale"
   ]
  },
  {
   "cell_type": "code",
   "execution_count": 418,
   "id": "035e58ed",
   "metadata": {},
   "outputs": [],
   "source": [
    "transformer = StandardScaler()\n",
    "X = transformer.fit_transform(X)\n",
    "X_test = transformer.transform(X_test)"
   ]
  },
  {
   "cell_type": "markdown",
   "id": "68c9ae12",
   "metadata": {},
   "source": [
    "Impute median"
   ]
  },
  {
   "cell_type": "code",
   "execution_count": 419,
   "id": "d131c710",
   "metadata": {},
   "outputs": [],
   "source": [
    "transformer = RobustScaler()\n",
    "X = transformer.fit_transform(X)\n",
    "X_test = transformer.transform(X_test)\n",
    "\n",
    "imp_median = SimpleImputer(missing_values=np.nan, strategy='median')\n",
    "X = imp_median.fit_transform(X)\n",
    "X_test = imp_median.transform(X_test)"
   ]
  },
  {
   "cell_type": "code",
   "execution_count": 420,
   "id": "54fcfce7",
   "metadata": {},
   "outputs": [],
   "source": [
    "y = y.to_numpy()"
   ]
  },
  {
   "cell_type": "markdown",
   "id": "07655df4",
   "metadata": {},
   "source": [
    "Feature selection with Lasso"
   ]
  },
  {
   "cell_type": "code",
   "execution_count": 421,
   "id": "39ec702a",
   "metadata": {},
   "outputs": [],
   "source": [
    "def lasso_select(train, val, target, alpha=1):\n",
    "    \n",
    "    clf = Lasso(alpha=alpha)\n",
    "    clf.fit(train, target)\n",
    "    coef = clf.coef_\n",
    "    \n",
    "    # select features with non-zero lasso coefficients\n",
    "    \n",
    "    train = train[:, coef != 0]\n",
    "    val = val[:, coef != 0]\n",
    "    print(\"Selected features: \" ,np.count_nonzero(clf.coef_))\n",
    "    \n",
    "    return train, val"
   ]
  },
  {
   "cell_type": "markdown",
   "id": "7ed7c8e5",
   "metadata": {},
   "source": [
    "Cross Validation"
   ]
  },
  {
   "cell_type": "code",
   "execution_count": 422,
   "id": "6bd44897",
   "metadata": {},
   "outputs": [
    {
     "name": "stdout",
     "output_type": "stream",
     "text": [
      "Selected features:  19\n"
     ]
    }
   ],
   "source": [
    "X_s, X_test_s = lasso_select(X, X_test, y, alpha=0.73)"
   ]
  },
  {
   "cell_type": "code",
   "execution_count": 423,
   "id": "5088c233",
   "metadata": {},
   "outputs": [
    {
     "name": "stdout",
     "output_type": "stream",
     "text": [
      "Outliers removed:  64\n"
     ]
    }
   ],
   "source": [
    "dbscan = DBSCAN(eps=4.9, min_samples=40)\n",
    "dbscan.fit(X_s)\n",
    "X_t = X_s[dbscan.labels_ != -1]\n",
    "y_t = y[dbscan.labels_ != -1]\n",
    "print(\"Outliers removed: \", (dbscan.labels_ == -1).sum())"
   ]
  },
  {
   "cell_type": "code",
   "execution_count": null,
   "id": "1a862b3a",
   "metadata": {},
   "outputs": [],
   "source": [
    "k = 1\n",
    "n_folds = 5\n",
    "\n",
    "rkf = RepeatedKFold(n_splits=n_folds, n_repeats=k)\n",
    "\n",
    "r2_val_ridge, r2_train_ridge = 0, 0\n",
    "r2_val_xgb, r2_train_xgb = 0, 0\n",
    "r2_val_lgb, r2_train_lgb = 0, 0\n",
    "r2_val_gbr, r2_train_gbr = 0, 0\n",
    "r2_val_cat, r2_train_cat = 0, 0\n",
    "\n",
    "for train_index, val_index in rkf.split(X_t):\n",
    "    \n",
    "    X_train, X_val = X_t[train_index], X_t[val_index]\n",
    "    y_train, y_val = y_t[train_index], y_t[val_index]\n",
    "\n",
    "    # fit models\n",
    "\n",
    "    ridge = Ridge(alpha=1)\n",
    "    xgb = XGBRegressor(max_depth=2, eta=0.1, reg_lambda=5)\n",
    "    lgb = LGBMRegressor(max_depth=2, reg_lambda=1)\n",
    "    gbr = GradientBoostingRegressor()\n",
    "    cat = CatBoostRegressor(verbose=False, allow_writing_files=False)\n",
    "\n",
    "    ridge.fit(X_train, y_train)\n",
    "    xgb.fit(X_train, y_train)\n",
    "    lgb.fit(X_train, y_train)\n",
    "    gbr.fit(X_train, y_train)\n",
    "    cat.fit(X_train, y_train)\n",
    "\n",
    "    r2_val_ridge += r2_score(y_val, ridge.predict(X_val))\n",
    "    r2_val_xgb += r2_score(y_val, xgb.predict(X_val))\n",
    "    r2_val_lgb += r2_score(y_val, lgb.predict(X_val))\n",
    "    r2_val_gbr += r2_score(y_val, gbr.predict(X_val))\n",
    "    r2_val_cat += r2_score(y_val, cat.predict(X_val))\n",
    "\n",
    "    r2_train_ridge += r2_score(y_train, ridge.predict(X_train))\n",
    "    r2_train_xgb += r2_score(y_train, xgb.predict(X_train))\n",
    "    r2_train_lgb += r2_score(y_train, lgb.predict(X_train))\n",
    "    r2_train_gbr += r2_score(y_train, gbr.predict(X_train))\n",
    "    r2_train_cat += r2_score(y_train, cat.predict(X_train))"
   ]
  },
  {
   "cell_type": "markdown",
   "id": "44681380",
   "metadata": {},
   "source": [
    "Validation Scores"
   ]
  },
  {
   "cell_type": "code",
   "execution_count": null,
   "id": "d69c1010",
   "metadata": {},
   "outputs": [],
   "source": [
    "print(\"Ridge:\", r2_val_ridge/(n_folds*k))\n",
    "print(\"XGB:\", r2_val_xgb/(n_folds*k))\n",
    "print(\"LGB:\", r2_val_lgb/(n_folds*k))\n",
    "print(\"GBR:\", r2_val_gbr/(n_folds*k))\n",
    "print(\"Cat\", r2_val_cat/(n_folds*k))"
   ]
  },
  {
   "cell_type": "markdown",
   "id": "ab699091",
   "metadata": {},
   "source": [
    "Train Scores"
   ]
  },
  {
   "cell_type": "code",
   "execution_count": null,
   "id": "ff0d7b4c",
   "metadata": {},
   "outputs": [],
   "source": [
    "print(\"Ridge:\", r2_train_ridge/(n_folds*k))\n",
    "print(\"XGB:\", r2_train_xgb/(n_folds*k))\n",
    "print(\"LGB:\", r2_train_lgb/(n_folds*k))\n",
    "print(\"GBR:\", r2_train_gbr/(n_folds*k))\n",
    "print(\"Cat:\", r2_train_cat/(n_folds*k))"
   ]
  },
  {
   "cell_type": "markdown",
   "id": "2d040cb7",
   "metadata": {},
   "source": [
    "Submission"
   ]
  },
  {
   "cell_type": "code",
   "execution_count": 390,
   "id": "211e89c9",
   "metadata": {},
   "outputs": [],
   "source": [
    "cat = CatBoostRegressor(verbose=False, allow_writing_files=False)\n",
    "cat.fit(X_t, y_t)\n",
    "sub = cat.predict(X_test_s)"
   ]
  },
  {
   "cell_type": "code",
   "execution_count": 391,
   "id": "b024dd35",
   "metadata": {},
   "outputs": [],
   "source": [
    "pd.DataFrame({\"id\": ids, \"y\": sub}).to_csv(\"sub_cat.csv\", index=False)"
   ]
  },
  {
   "cell_type": "code",
   "execution_count": 119,
   "id": "148e8489",
   "metadata": {},
   "outputs": [
    {
     "data": {
      "text/plain": [
       "(1212, 775)"
      ]
     },
     "execution_count": 119,
     "metadata": {},
     "output_type": "execute_result"
    }
   ],
   "source": [
    "X.shape"
   ]
  },
  {
   "cell_type": "code",
   "execution_count": null,
   "id": "cd208562",
   "metadata": {},
   "outputs": [],
   "source": []
  }
 ],
 "metadata": {
  "kernelspec": {
   "display_name": "Python 3 (ipykernel)",
   "language": "python",
   "name": "python3"
  },
  "language_info": {
   "codemirror_mode": {
    "name": "ipython",
    "version": 3
   },
   "file_extension": ".py",
   "mimetype": "text/x-python",
   "name": "python",
   "nbconvert_exporter": "python",
   "pygments_lexer": "ipython3",
   "version": "3.9.11"
  }
 },
 "nbformat": 4,
 "nbformat_minor": 5
}

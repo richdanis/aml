{
 "cells": [
  {
   "cell_type": "markdown",
   "metadata": {},
   "source": [
    "# Unet Implementation"
   ]
  },
  {
   "cell_type": "code",
   "execution_count": 156,
   "metadata": {},
   "outputs": [],
   "source": [
    "import pickle\n",
    "import gzip\n",
    "import numpy as np\n",
    "import os\n",
    "import time\n",
    "import cv2\n",
    "import torch\n",
    "import torch.nn as nn\n",
    "import torch.nn.functional as F\n",
    "import torchvision.transforms as transforms\n",
    "from torch.utils.data import DataLoader, TensorDataset\n",
    "import torch.optim as optim\n",
    "import segmentation_models_pytorch as smp\n",
    "from matplotlib import pyplot as plt\n",
    "from torchsummary import summary"
   ]
  },
  {
   "cell_type": "code",
   "execution_count": 52,
   "metadata": {},
   "outputs": [],
   "source": [
    "use_cuda = torch.cuda.is_available()\n",
    "device = torch.device(\"cuda:0\" if use_cuda else \"cpu\")"
   ]
  },
  {
   "cell_type": "markdown",
   "metadata": {},
   "source": [
    "### Helper functions"
   ]
  },
  {
   "cell_type": "code",
   "execution_count": 53,
   "metadata": {},
   "outputs": [],
   "source": [
    "def load_zipped_pickle(filename):\n",
    "    with gzip.open(filename, 'rb') as f:\n",
    "        loaded_object = pickle.load(f)\n",
    "        return loaded_object"
   ]
  },
  {
   "cell_type": "code",
   "execution_count": 118,
   "metadata": {},
   "outputs": [],
   "source": [
    "def save_zipped_pickle(obj, filename):\n",
    "    with gzip.open(filename, 'wb') as f:\n",
    "        pickle.dump(obj, f, 2)\n",
    "        \n",
    "def flatten(dicts):\n",
    "    \n",
    "    # extract the annotated video frames, their labels\n",
    "    # and the boxes\n",
    "    \n",
    "    images = []\n",
    "    boxes = []\n",
    "    labels = []\n",
    "    \n",
    "    for i, dic in enumerate(dicts):\n",
    "        \n",
    "        video = dic['video']\n",
    "        frames = dic['frames']\n",
    "        dic_labels = dic['label']\n",
    "        \n",
    "        images.append((video[:,:,frames[0]] / 255).astype('float32'))\n",
    "        images.append((video[:,:,frames[1]] / 255).astype('float32'))\n",
    "        images.append((video[:,:,frames[2]] / 255).astype('float32'))\n",
    "        \n",
    "        labels.append(dic_labels[:,:,frames[0]].astype('float32'))\n",
    "        labels.append(dic_labels[:,:,frames[1]].astype('float32'))\n",
    "        labels.append(dic_labels[:,:,frames[2]].astype('float32'))\n",
    "        \n",
    "        boxes.append(dic['box'].astype('uint8'))\n",
    "        boxes.append(dic['box'].astype('uint8'))\n",
    "        boxes.append(dic['box'].astype('uint8'))\n",
    "        \n",
    "    return images, boxes, labels\n",
    "\n",
    "def resize(images, boxes, labels, size):\n",
    "    \n",
    "    # resize images, boxes and labels\n",
    "\n",
    "    for i in range(len(images)):\n",
    "        \n",
    "        images[i] = cv2.resize(images[i], size, interpolation = cv2.INTER_CUBIC)\n",
    "        boxes[i] = cv2.resize(boxes[i], size, interpolation = cv2.INTER_CUBIC)\n",
    "        labels[i] = cv2.resize(labels[i], size, interpolation = cv2.INTER_CUBIC)\n",
    "        \n",
    "        # add number of channels (in this case 1) at the front for the\n",
    "        # right input shape for the pytorch layers\n",
    "        \n",
    "        images[i] = np.expand_dims(images[i], axis=0)\n",
    "        images[i] = np.expand_dims(images[i], axis=0)\n",
    "        \n",
    "        labels[i] = np.expand_dims(labels[i], axis=0)\n",
    "        \n",
    "    return np.concatenate(images, axis=0), boxes, np.concatenate(labels, axis=0)"
   ]
  },
  {
   "cell_type": "markdown",
   "metadata": {},
   "source": [
    "### Load data"
   ]
  },
  {
   "cell_type": "code",
   "execution_count": 119,
   "metadata": {},
   "outputs": [],
   "source": [
    "# load data\n",
    "train_data = load_zipped_pickle(\"data/train.pkl\")\n",
    "test_data = load_zipped_pickle(\"data/test.pkl\")"
   ]
  },
  {
   "cell_type": "code",
   "execution_count": 120,
   "metadata": {},
   "outputs": [],
   "source": [
    "size = (128, 128)"
   ]
  },
  {
   "cell_type": "markdown",
   "metadata": {},
   "source": [
    "### Preprocessing"
   ]
  },
  {
   "cell_type": "code",
   "execution_count": 229,
   "metadata": {},
   "outputs": [],
   "source": [
    "images, boxes, labels = flatten(train_data)\n",
    "images, boxes, labels = resize(images, boxes, labels, size)"
   ]
  },
  {
   "cell_type": "code",
   "execution_count": 230,
   "metadata": {},
   "outputs": [],
   "source": [
    "train_images = torch.from_numpy(images[184:]).to(device)\n",
    "train_labels = torch.from_numpy(labels[184:]).to(device)\n",
    "# TODO: add data augmentation, denoising, other preprocessing steps?\n",
    "# TODO: split into train and validation sets"
   ]
  },
  {
   "cell_type": "markdown",
   "metadata": {},
   "source": [
    "### Model"
   ]
  },
  {
   "cell_type": "code",
   "execution_count": 231,
   "metadata": {},
   "outputs": [],
   "source": [
    "class Unet(nn.Module):\n",
    "    \n",
    "    def __init__(self, filters=64):\n",
    "        \n",
    "        super().__init__()\n",
    "        \n",
    "        self.max_pool = nn.MaxPool2d(2)\n",
    "        \n",
    "        self.block_enc_1 = self.conv_block(1, filters)\n",
    "        self.block_enc_2 = self.conv_block(filters, 2*filters)\n",
    "        self.block_enc_3 = self.conv_block(2*filters, 4*filters)\n",
    "        \n",
    "        self.block_inbetween = self.conv_block(4*filters, 8*filters, True)\n",
    "        \n",
    "        self.block_dec_1 = self.conv_block(8*filters, 4*filters, True)\n",
    "        self.block_dec_2 = self.conv_block(4*filters, 2*filters, True)\n",
    "        \n",
    "        self.block_last = self.conv_block(2*filters, filters, True, True)\n",
    "        \n",
    "    def conv_block(self, channels, filters, enc=False, last=False):\n",
    "        \n",
    "        modules = []\n",
    "        \n",
    "        modules.append(nn.Conv2d(channels, filters, 3, 1, padding='same'))\n",
    "        modules.append(nn.ReLU())\n",
    "        modules.append(nn.Conv2d(filters, filters, 3, 1, padding='same'))\n",
    "        modules.append(nn.ReLU())\n",
    "\n",
    "        if enc:\n",
    "            if not last:\n",
    "                modules.append(nn.ConvTranspose2d(filters, filters//2, 2, stride=(2,2)))\n",
    "            else:\n",
    "                modules.append(nn.Conv2d(filters, 1, 1, 1))\n",
    "                modules.append(nn.Sigmoid())\n",
    "            \n",
    "        return nn.Sequential(*modules)\n",
    "            \n",
    "    def forward(self, x):\n",
    "        \n",
    "        # encoder\n",
    "        \n",
    "        x1 = self.block_enc_1(x)\n",
    "        x2 = self.max_pool(x1)\n",
    "        \n",
    "        x3 = self.block_enc_2(x2)\n",
    "        x4 = self.max_pool(x3)\n",
    "        \n",
    "        x5 = self.block_enc_3(x4)\n",
    "        x6 = self.max_pool(x5)\n",
    "        \n",
    "        # between encoder and decoder\n",
    "        \n",
    "        x7 = self.block_inbetween(x6)\n",
    "        \n",
    "        # decoder\n",
    "        \n",
    "        x8 = self.block_dec_1(torch.cat((x7, x5), dim=1))\n",
    "        x9 = self.block_dec_2(torch.cat((x8, x3), dim=1))\n",
    "        \n",
    "        x10 = self.block_last(torch.cat((x9, x1), dim=1))\n",
    "        \n",
    "        return x10"
   ]
  },
  {
   "cell_type": "markdown",
   "metadata": {},
   "source": [
    "### Train"
   ]
  },
  {
   "cell_type": "code",
   "execution_count": 232,
   "metadata": {},
   "outputs": [],
   "source": [
    "def iou(inputs, targets):       \n",
    "        \n",
    "        inputs = inputs.squeeze()\n",
    "        inputs = torch.round(inputs)\n",
    "        \n",
    "        intersection = (inputs * targets).sum(dim=(1, 2))\n",
    "        total = (inputs + targets).sum(dim=(1, 2))\n",
    "        union = total - intersection \n",
    "        \n",
    "        IoU = intersection / union\n",
    "                \n",
    "        return IoU"
   ]
  },
  {
   "cell_type": "code",
   "execution_count": 233,
   "metadata": {},
   "outputs": [
    {
     "ename": "IndentationError",
     "evalue": "expected an indented block (3965556404.py, line 2)",
     "output_type": "error",
     "traceback": [
      "\u001b[1;36m  Input \u001b[1;32mIn [233]\u001b[1;36m\u001b[0m\n\u001b[1;33m    # TODO: calculate IoU for validation dataset\u001b[0m\n\u001b[1;37m                                                ^\u001b[0m\n\u001b[1;31mIndentationError\u001b[0m\u001b[1;31m:\u001b[0m expected an indented block\n"
     ]
    }
   ],
   "source": [
    "def val_loss(model, val_loader):\n",
    "    # TODO: calculate IoU for validation dataset"
   ]
  },
  {
   "cell_type": "code",
   "execution_count": 238,
   "metadata": {},
   "outputs": [],
   "source": [
    "unet = Unet(filters=64).to(device)\n",
    "optimizer = torch.optim.Adam(unet.parameters(), lr=1e-4)\n",
    "criterion = smp.losses.JaccardLoss(mode='binary')\n",
    "#criterion = torch.nn.BCEWithLogitsLoss()"
   ]
  },
  {
   "cell_type": "code",
   "execution_count": 239,
   "metadata": {},
   "outputs": [],
   "source": [
    "train_tensorset = TensorDataset(train_images, train_labels)\n",
    "train_loader = DataLoader(train_tensorset, batch_size=5)"
   ]
  },
  {
   "cell_type": "markdown",
   "metadata": {},
   "source": [
    "### Train Loop"
   ]
  },
  {
   "cell_type": "code",
   "execution_count": 240,
   "metadata": {},
   "outputs": [
    {
     "name": "stdout",
     "output_type": "stream",
     "text": [
      "Epoch 0 | Train IoU: 0.0067 | Train loss: 0.9933 |  Duration 3.85 sec\n",
      "Epoch 5 | Train IoU: 0.0067 | Train loss: 0.9933 |  Duration 0.06 sec\n",
      "Epoch 10 | Train IoU: 0.0067 | Train loss: 0.9930 |  Duration 0.06 sec\n",
      "Epoch 15 | Train IoU: 0.0157 | Train loss: 0.9926 |  Duration 0.06 sec\n",
      "Epoch 20 | Train IoU: 0.0203 | Train loss: 0.9924 |  Duration 0.06 sec\n",
      "Epoch 25 | Train IoU: 0.0189 | Train loss: 0.9916 |  Duration 0.06 sec\n",
      "Epoch 30 | Train IoU: 0.0201 | Train loss: 0.9916 |  Duration 0.06 sec\n",
      "Epoch 35 | Train IoU: 0.0239 | Train loss: 0.9914 |  Duration 0.06 sec\n",
      "Epoch 40 | Train IoU: 0.0253 | Train loss: 0.9914 |  Duration 0.07 sec\n",
      "Epoch 45 | Train IoU: 0.0244 | Train loss: 0.9913 |  Duration 0.06 sec\n",
      "Epoch 50 | Train IoU: 0.0642 | Train loss: 0.9912 |  Duration 0.06 sec\n",
      "Epoch 55 | Train IoU: 0.0594 | Train loss: 0.9909 |  Duration 0.06 sec\n",
      "Epoch 60 | Train IoU: 0.0855 | Train loss: 0.9908 |  Duration 0.07 sec\n",
      "Epoch 65 | Train IoU: 0.1373 | Train loss: 0.9907 |  Duration 0.06 sec\n",
      "Epoch 70 | Train IoU: 0.1225 | Train loss: 0.9907 |  Duration 0.08 sec\n",
      "Epoch 75 | Train IoU: 0.1860 | Train loss: 0.9906 |  Duration 0.07 sec\n",
      "Epoch 80 | Train IoU: 0.1843 | Train loss: 0.9905 |  Duration 0.06 sec\n",
      "Epoch 85 | Train IoU: 0.1892 | Train loss: 0.9905 |  Duration 0.06 sec\n",
      "Epoch 90 | Train IoU: 0.0708 | Train loss: 0.9908 |  Duration 0.07 sec\n",
      "Epoch 95 | Train IoU: 0.1006 | Train loss: 0.9906 |  Duration 0.05 sec\n",
      "Epoch 100 | Train IoU: 0.1976 | Train loss: 0.9905 |  Duration 0.07 sec\n",
      "Epoch 105 | Train IoU: 0.2474 | Train loss: 0.9905 |  Duration 0.06 sec\n",
      "Epoch 110 | Train IoU: 0.2822 | Train loss: 0.9904 |  Duration 0.06 sec\n",
      "Epoch 115 | Train IoU: 0.2217 | Train loss: 0.9905 |  Duration 0.06 sec\n",
      "Epoch 120 | Train IoU: 0.3151 | Train loss: 0.9904 |  Duration 0.06 sec\n",
      "Epoch 125 | Train IoU: 0.3551 | Train loss: 0.9904 |  Duration 0.06 sec\n",
      "Epoch 130 | Train IoU: 0.2400 | Train loss: 0.9904 |  Duration 0.06 sec\n",
      "Epoch 135 | Train IoU: 0.4095 | Train loss: 0.9904 |  Duration 0.06 sec\n",
      "Epoch 140 | Train IoU: 0.3676 | Train loss: 0.9904 |  Duration 0.06 sec\n",
      "Epoch 145 | Train IoU: 0.3121 | Train loss: 0.9904 |  Duration 0.07 sec\n",
      "Epoch 150 | Train IoU: 0.2769 | Train loss: 0.9904 |  Duration 0.06 sec\n",
      "Epoch 155 | Train IoU: 0.1871 | Train loss: 0.9904 |  Duration 0.07 sec\n",
      "Epoch 160 | Train IoU: 0.3100 | Train loss: 0.9904 |  Duration 0.06 sec\n",
      "Epoch 165 | Train IoU: 0.3565 | Train loss: 0.9904 |  Duration 0.06 sec\n",
      "Epoch 170 | Train IoU: 0.3988 | Train loss: 0.9904 |  Duration 0.06 sec\n",
      "Epoch 175 | Train IoU: 0.4566 | Train loss: 0.9903 |  Duration 0.06 sec\n",
      "Epoch 180 | Train IoU: 0.5378 | Train loss: 0.9903 |  Duration 0.06 sec\n",
      "Epoch 185 | Train IoU: 0.4792 | Train loss: 0.9904 |  Duration 0.06 sec\n",
      "Epoch 190 | Train IoU: 0.4436 | Train loss: 0.9903 |  Duration 0.06 sec\n",
      "Epoch 195 | Train IoU: 0.3523 | Train loss: 0.9904 |  Duration 0.06 sec\n",
      "Epoch 200 | Train IoU: 0.4802 | Train loss: 0.9904 |  Duration 0.06 sec\n",
      "Epoch 205 | Train IoU: 0.3024 | Train loss: 0.9904 |  Duration 0.07 sec\n",
      "Epoch 210 | Train IoU: 0.4804 | Train loss: 0.9904 |  Duration 0.06 sec\n",
      "Epoch 215 | Train IoU: 0.5002 | Train loss: 0.9903 |  Duration 0.06 sec\n",
      "Epoch 220 | Train IoU: 0.5263 | Train loss: 0.9903 |  Duration 0.06 sec\n",
      "Epoch 225 | Train IoU: 0.5422 | Train loss: 0.9903 |  Duration 0.06 sec\n",
      "Epoch 230 | Train IoU: 0.5689 | Train loss: 0.9903 |  Duration 0.06 sec\n",
      "Epoch 235 | Train IoU: 0.5346 | Train loss: 0.9903 |  Duration 0.06 sec\n",
      "Epoch 240 | Train IoU: 0.5075 | Train loss: 0.9903 |  Duration 0.06 sec\n",
      "Epoch 245 | Train IoU: 0.4515 | Train loss: 0.9903 |  Duration 0.06 sec\n",
      "Epoch 250 | Train IoU: 0.5376 | Train loss: 0.9903 |  Duration 0.06 sec\n",
      "Epoch 255 | Train IoU: 0.5712 | Train loss: 0.9903 |  Duration 0.07 sec\n",
      "Epoch 260 | Train IoU: 0.5576 | Train loss: 0.9903 |  Duration 0.06 sec\n",
      "Epoch 265 | Train IoU: 0.5260 | Train loss: 0.9903 |  Duration 0.06 sec\n",
      "Epoch 270 | Train IoU: 0.5096 | Train loss: 0.9903 |  Duration 0.06 sec\n",
      "Epoch 275 | Train IoU: 0.3684 | Train loss: 0.9904 |  Duration 0.06 sec\n",
      "Epoch 280 | Train IoU: 0.4420 | Train loss: 0.9904 |  Duration 0.06 sec\n",
      "Epoch 285 | Train IoU: 0.5459 | Train loss: 0.9903 |  Duration 0.06 sec\n",
      "Epoch 290 | Train IoU: 0.5408 | Train loss: 0.9903 |  Duration 0.07 sec\n",
      "Epoch 295 | Train IoU: 0.5171 | Train loss: 0.9903 |  Duration 0.06 sec\n",
      "Epoch 300 | Train IoU: 0.4487 | Train loss: 0.9903 |  Duration 0.06 sec\n",
      "Epoch 305 | Train IoU: 0.5428 | Train loss: 0.9903 |  Duration 0.06 sec\n",
      "Epoch 310 | Train IoU: 0.5667 | Train loss: 0.9903 |  Duration 0.06 sec\n",
      "Epoch 315 | Train IoU: 0.5745 | Train loss: 0.9903 |  Duration 0.07 sec\n"
     ]
    }
   ],
   "source": [
    "for epoch in range(1000):\n",
    "    \n",
    "    t = time.time()\n",
    "    num_samples_epoch = 0\n",
    "    train_loss_cum = 0\n",
    "    IoU = torch.Tensor().to(device)\n",
    "    \n",
    "    for x,y in train_loader:\n",
    "        \n",
    "        x,y = x.to(device), y.to(device)\n",
    "        optimizer.zero_grad()\n",
    "        unet.train()\n",
    "        output = unet(x)\n",
    "        loss = criterion(output.squeeze(), y.squeeze())\n",
    "        loss.backward()\n",
    "        optimizer.step()\n",
    "        \n",
    "        # keep track of training loss\n",
    "        num_samples_epoch += x.shape[0]\n",
    "        train_loss_cum += loss * x.shape[0]\n",
    "        \n",
    "        # need the median IoU\n",
    "        #unet.eval()\n",
    "        with torch.no_grad():\n",
    "            IoU = torch.cat((IoU, iou(output, y)))\n",
    "    train_loss = train_loss_cum / num_samples_epoch\n",
    "    train_iou = torch.median(IoU)   \n",
    "    epoch_duration = time.time() - t\n",
    "    \n",
    "    if train_iou > 0.6:\n",
    "        break\n",
    "    \n",
    "    if epoch % 5 == 0:\n",
    "        print(f'Epoch {epoch} | Train IoU: {train_iou:.4f} | '\n",
    "              f'Train loss: {train_loss:.4f} | '\n",
    "              #f' Validation loss: {val_loss:.4f} | '\n",
    "              f' Duration {epoch_duration:.2f} sec')"
   ]
  },
  {
   "cell_type": "code",
   "execution_count": null,
   "metadata": {},
   "outputs": [],
   "source": [
    "from torchsummary import summary\n",
    "summary = summary(unet, (1, 128, 128))"
   ]
  },
  {
   "cell_type": "code",
   "execution_count": 243,
   "metadata": {},
   "outputs": [],
   "source": [
    "unet = unet.to('cpu')\n",
    "train_images = train_images.to('cpu')\n",
    "res = unet(train_images)"
   ]
  },
  {
   "cell_type": "code",
   "execution_count": 246,
   "metadata": {},
   "outputs": [
    {
     "data": {
      "image/png": "[encoded data removed]",
      "text/plain": [
       "<Figure size 432x288 with 1 Axes>"
      ]
     },
     "metadata": {
      "needs_background": "light"
     },
     "output_type": "display_data"
    },
    {
     "data": {
      "image/png": "[encoded data removed]",
      "text/plain": [
       "<Figure size 432x288 with 1 Axes>"
      ]
     },
     "metadata": {
      "needs_background": "light"
     },
     "output_type": "display_data"
    },
    {
     "data": {
      "image/png": "[encoded data removed]",
      "text/plain": [
       "<Figure size 432x288 with 1 Axes>"
      ]
     },
     "metadata": {
      "needs_background": "light"
     },
     "output_type": "display_data"
    },
    {
     "data": {
      "image/png": "[encoded data removed]",
      "text/plain": [
       "<Figure size 432x288 with 1 Axes>"
      ]
     },
     "metadata": {
      "needs_background": "light"
     },
     "output_type": "display_data"
    },
    {
     "data": {
      "image/png": "[encoded data removed]",
      "text/plain": [
       "<Figure size 432x288 with 1 Axes>"
      ]
     },
     "metadata": {
      "needs_background": "light"
     },
     "output_type": "display_data"
    },
    {
     "data": {
      "image/png": "[encoded data removed]",
      "text/plain": [
       "<Figure size 432x288 with 1 Axes>"
      ]
     },
     "metadata": {
      "needs_background": "light"
     },
     "output_type": "display_data"
    },
    {
     "data": {
      "image/png": "[encoded data removed]",
      "text/plain": [
       "<Figure size 432x288 with 1 Axes>"
      ]
     },
     "metadata": {
      "needs_background": "light"
     },
     "output_type": "display_data"
    },
    {
     "data": {
      "image/png": "[encoded data removed]",
      "text/plain": [
       "<Figure size 432x288 with 1 Axes>"
      ]
     },
     "metadata": {
      "needs_background": "light"
     },
     "output_type": "display_data"
    },
    {
     "data": {
      "image/png": "[encoded data removed]",
      "text/plain": [
       "<Figure size 432x288 with 1 Axes>"
      ]
     },
     "metadata": {
      "needs_background": "light"
     },
     "output_type": "display_data"
    },
    {
     "data": {
      "image/png": "[encoded data removed]",
      "text/plain": [
       "<Figure size 432x288 with 1 Axes>"
      ]
     },
     "metadata": {
      "needs_background": "light"
     },
     "output_type": "display_data"
    },
    {
     "data": {
      "image/png": "[encoded data removed]",
      "text/plain": [
       "<Figure size 432x288 with 1 Axes>"
      ]
     },
     "metadata": {
      "needs_background": "light"
     },
     "output_type": "display_data"
    }
   ],
   "source": [
    "for i in range(res.shape[0]):\n",
    "    plt.imshow(res[i].squeeze().cpu().detach().numpy(), cmap='gray')\n",
    "    plt.show()"
   ]
  },
  {
   "cell_type": "code",
   "execution_count": 248,
   "metadata": {},
   "outputs": [
    {
     "data": {
      "image/png": "[encoded data removed]",
      "text/plain": [
       "<Figure size 432x288 with 1 Axes>"
      ]
     },
     "metadata": {
      "needs_background": "light"
     },
     "output_type": "display_data"
    },
    {
     "data": {
      "image/png": "[encoded data removed]",
      "text/plain": [
       "<Figure size 432x288 with 1 Axes>"
      ]
     },
     "metadata": {
      "needs_background": "light"
     },
     "output_type": "display_data"
    },
    {
     "data": {
      "image/png": "[encoded data removed]",
      "text/plain": [
       "<Figure size 432x288 with 1 Axes>"
      ]
     },
     "metadata": {
      "needs_background": "light"
     },
     "output_type": "display_data"
    },
    {
     "data": {
      "image/png": "[encoded data removed]",
      "text/plain": [
       "<Figure size 432x288 with 1 Axes>"
      ]
     },
     "metadata": {
      "needs_background": "light"
     },
     "output_type": "display_data"
    },
    {
     "data": {
      "image/png": "[encoded data removed]",
      "text/plain": [
       "<Figure size 432x288 with 1 Axes>"
      ]
     },
     "metadata": {
      "needs_background": "light"
     },
     "output_type": "display_data"
    },
    {
     "data": {
      "image/png": "[encoded data removed]",
      "text/plain": [
       "<Figure size 432x288 with 1 Axes>"
      ]
     },
     "metadata": {
      "needs_background": "light"
     },
     "output_type": "display_data"
    },
    {
     "data": {
      "image/png": "[encoded data removed]",
      "text/plain": [
       "<Figure size 432x288 with 1 Axes>"
      ]
     },
     "metadata": {
      "needs_background": "light"
     },
     "output_type": "display_data"
    },
    {
     "data": {
      "image/png": "[encoded data removed]",
      "text/plain": [
       "<Figure size 432x288 with 1 Axes>"
      ]
     },
     "metadata": {
      "needs_background": "light"
     },
     "output_type": "display_data"
    },
    {
     "data": {
      "image/png": "[encoded data removed]",
      "text/plain": [
       "<Figure size 432x288 with 1 Axes>"
      ]
     },
     "metadata": {
      "needs_background": "light"
     },
     "output_type": "display_data"
    },
    {
     "data": {
      "image/png": "[encoded data removed]",
      "text/plain": [
       "<Figure size 432x288 with 1 Axes>"
      ]
     },
     "metadata": {
      "needs_background": "light"
     },
     "output_type": "display_data"
    },
    {
     "data": {
      "image/png": "[encoded data removed]",
      "text/plain": [
       "<Figure size 432x288 with 1 Axes>"
      ]
     },
     "metadata": {
      "needs_background": "light"
     },
     "output_type": "display_data"
    }
   ],
   "source": [
    "for i in range(res.shape[0]):\n",
    "    plt.imshow(train_labels[i].squeeze().cpu().detach().numpy(), cmap='gray')\n",
    "    plt.show()"
   ]
  },
  {
   "cell_type": "code",
   "execution_count": 251,
   "metadata": {},
   "outputs": [
    {
     "data": {
      "text/plain": [
       "tensor([0.4955, 0.5841, 0.6951, 0.5456, 0.5525, 0.5830, 0.6261, 0.4557, 0.5603,\n",
       "        0.5930, 0.5948], grad_fn=<DivBackward0>)"
      ]
     },
     "execution_count": 251,
     "metadata": {},
     "output_type": "execute_result"
    }
   ],
   "source": [
    "iou(res, train_labels.to('cpu'))"
   ]
  },
  {
   "cell_type": "code",
   "execution_count": null,
   "metadata": {},
   "outputs": [],
   "source": []
  }
 ],
 "metadata": {
  "kernelspec": {
   "display_name": "Python 3 (ipykernel)",
   "language": "python",
   "name": "python3"
  },
  "language_info": {
   "codemirror_mode": {
    "name": "ipython",
    "version": 3
   },
   "file_extension": ".py",
   "mimetype": "text/x-python",
   "name": "python",
   "nbconvert_exporter": "python",
   "pygments_lexer": "ipython3",
   "version": "3.9.11"
  },
  "vscode": {
   "interpreter": {
    "hash": "586f7db3c72cdbd2111a5fe733ffa252a59827d1d7df0e37a9fca40f971001cc"
   }
  }
 },
 "nbformat": 4,
 "nbformat_minor": 4
}

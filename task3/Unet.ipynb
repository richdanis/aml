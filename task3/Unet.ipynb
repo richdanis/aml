{
 "cells": [
  {
   "cell_type": "markdown",
   "metadata": {},
   "source": [
    "# Unet Implementation"
   ]
  },
  {
   "cell_type": "code",
   "execution_count": 64,
   "metadata": {},
   "outputs": [],
   "source": [
    "import pickle\n",
    "import gzip\n",
    "import numpy as np\n",
    "import os\n",
    "import time\n",
    "import cv2\n",
    "import torch\n",
    "import torch.nn as nn\n",
    "import torchvision.transforms as transforms\n",
    "from torch.utils.data import Dataset, DataLoader, TensorDataset\n",
    "import torch.optim as optim\n",
    "import segmentation_models_pytorch as smp\n",
    "from matplotlib import pyplot as plt\n",
    "from torchsummary import summary\n",
    "import albumentations as A\n",
    "from albumentations.pytorch import ToTensorV2"
   ]
  },
  {
   "cell_type": "code",
   "execution_count": 65,
   "metadata": {},
   "outputs": [],
   "source": [
    "use_cuda = torch.cuda.is_available()\n",
    "device = torch.device(\"cuda:0\" if use_cuda else \"cpu\")"
   ]
  },
  {
   "cell_type": "markdown",
   "metadata": {},
   "source": [
    "### Helper functions"
   ]
  },
  {
   "cell_type": "code",
   "execution_count": 66,
   "metadata": {},
   "outputs": [],
   "source": [
    "def load_zipped_pickle(filename):\n",
    "    with gzip.open(filename, 'rb') as f:\n",
    "        loaded_object = pickle.load(f)\n",
    "        return loaded_object"
   ]
  },
  {
   "cell_type": "code",
   "execution_count": 67,
   "metadata": {},
   "outputs": [],
   "source": [
    "def save_zipped_pickle(obj, filename):\n",
    "    with gzip.open(filename, 'wb') as f:\n",
    "        pickle.dump(obj, f, 2)\n",
    "        \n",
    "def flatten(dicts):\n",
    "    \n",
    "    # extract the annotated video frames, their labels\n",
    "    # and the boxes\n",
    "    \n",
    "    images = []\n",
    "    boxes = []\n",
    "    labels = []\n",
    "    \n",
    "    for i, dic in enumerate(dicts):\n",
    "        \n",
    "        video = dic['video']\n",
    "        frames = dic['frames']\n",
    "        dic_labels = dic['label']\n",
    "        \n",
    "        images.append((video[:,:,frames[0]] / 255).astype('float32'))\n",
    "        images.append((video[:,:,frames[1]] / 255).astype('float32'))\n",
    "        images.append((video[:,:,frames[2]] / 255).astype('float32'))\n",
    "        \n",
    "        labels.append(dic_labels[:,:,frames[0]].astype('float32'))\n",
    "        labels.append(dic_labels[:,:,frames[1]].astype('float32'))\n",
    "        labels.append(dic_labels[:,:,frames[2]].astype('float32'))\n",
    "        \n",
    "    return images, labels\n",
    "\n",
    "class SegDataset(Dataset):\n",
    "    \n",
    "    def __init__(self, images, labels, transform=None):\n",
    "        self.transform = transform\n",
    "        self.images = images\n",
    "        self.labels = labels\n",
    "\n",
    "    def __len__(self):\n",
    "        return len(self.images)\n",
    "\n",
    "    def __getitem__(self, idx):\n",
    "        \n",
    "        image = self.images[idx]\n",
    "        mask = self.labels[idx]\n",
    "        \n",
    "        if self.transform is not None:\n",
    "            transformed = self.transform(image=image, mask=mask)\n",
    "            image = transformed[\"image\"]\n",
    "            mask = transformed[\"mask\"]\n",
    "            \n",
    "        return image, mask"
   ]
  },
  {
   "cell_type": "markdown",
   "metadata": {},
   "source": [
    "### Load data"
   ]
  },
  {
   "cell_type": "code",
   "execution_count": 5,
   "metadata": {},
   "outputs": [],
   "source": [
    "# load data\n",
    "train_data = load_zipped_pickle(\"data/train.pkl\")\n",
    "test_data = load_zipped_pickle(\"data/test.pkl\")"
   ]
  },
  {
   "cell_type": "code",
   "execution_count": 6,
   "metadata": {},
   "outputs": [],
   "source": [
    "size = (128, 128)"
   ]
  },
  {
   "cell_type": "markdown",
   "metadata": {},
   "source": [
    "### Preprocessing"
   ]
  },
  {
   "cell_type": "code",
   "execution_count": 79,
   "metadata": {},
   "outputs": [],
   "source": [
    "# turn dictionaries into lists of images and labels\n",
    "images, labels = flatten(train_data)\n",
    "# last 19 are expert images, take 6 of them to form validation dataset\n",
    "train_images, train_labels = images[:177], labels[:177]\n",
    "val_images, val_labels = images[177:], labels[177:]"
   ]
  },
  {
   "cell_type": "markdown",
   "metadata": {},
   "source": [
    "### Augmentation"
   ]
  },
  {
   "cell_type": "code",
   "execution_count": 80,
   "metadata": {},
   "outputs": [],
   "source": [
    "train_aug = A.Compose(\n",
    "    [\n",
    "        A.Resize(128, 128),\n",
    "        A.augmentations.geometric.transforms.Affine(\n",
    "            scale=(0.7, 1.3), \n",
    "            translate_percent=(0,0.1), \n",
    "            rotate=(-30,30), \n",
    "            shear=(-20, 20), \n",
    "            p=1)\n",
    "    ]\n",
    ")\n",
    "\n",
    "train_to_tensor = A.Compose(\n",
    "    [\n",
    "        A.Resize(128,128),\n",
    "        ToTensorV2()\n",
    "    ]\n",
    "\n",
    ")\n",
    "val_to_tensor = A.Compose(\n",
    "    [\n",
    "        A.Resize(128, 128),\n",
    "        ToTensorV2()\n",
    "    ]\n",
    ")"
   ]
  },
  {
   "cell_type": "code",
   "execution_count": 81,
   "metadata": {},
   "outputs": [],
   "source": [
    "train_images = train_images * 6\n",
    "train_labels = train_labels * 6"
   ]
  },
  {
   "cell_type": "code",
   "execution_count": 82,
   "metadata": {},
   "outputs": [],
   "source": [
    "for i in range(len(train_images) // 8, len(train_images)):\n",
    "    transformed = train_aug(image=train_images[i], mask=train_labels[i])\n",
    "    train_images[i] = transformed[\"image\"]\n",
    "    train_labels[i] = transformed[\"mask\"]"
   ]
  },
  {
   "cell_type": "code",
   "execution_count": 89,
   "metadata": {},
   "outputs": [],
   "source": [
    "train_dataset = SegDataset(train_images, train_labels, train_to_tensor)\n",
    "train_loader = DataLoader(train_dataset, batch_size=4, pin_memory=True, shuffle=True)\n",
    "val_dataset = SegDataset(val_images, val_labels, val_to_tensor)\n",
    "val_loader = DataLoader(val_dataset, batch_size=6, pin_memory=True)"
   ]
  },
  {
   "cell_type": "markdown",
   "metadata": {},
   "source": [
    "### Model"
   ]
  },
  {
   "cell_type": "code",
   "execution_count": 90,
   "metadata": {},
   "outputs": [],
   "source": [
    "class Unet(nn.Module):\n",
    "    \n",
    "    def __init__(self, filters=64):\n",
    "        \n",
    "        super().__init__()\n",
    "        \n",
    "        # following advice of the TA, first only with 3 encoder\n",
    "        # and 3 decoder blocks instead of 4 as in the paper\n",
    "        \n",
    "        self.max_pool = nn.MaxPool2d(2)\n",
    "        \n",
    "        self.block_enc_1 = self.conv_block(1, filters)\n",
    "        self.block_enc_2 = self.conv_block(filters, 2*filters)\n",
    "        self.block_enc_3 = self.conv_block(2*filters, 4*filters)\n",
    "        \n",
    "        self.block_inbetween = self.conv_block(4*filters, 8*filters, True)\n",
    "        \n",
    "        self.block_dec_1 = self.conv_block(8*filters, 4*filters, True)\n",
    "        self.block_dec_2 = self.conv_block(4*filters, 2*filters, True)\n",
    "        \n",
    "        self.block_last = self.conv_block(2*filters, filters, True, True)\n",
    "        \n",
    "    def conv_block(self, channels, filters, dec=False, last=False):\n",
    "        \n",
    "        modules = []\n",
    "        \n",
    "        if not dec:\n",
    "            modules.append(nn.Dropout(p=0.5))\n",
    "        \n",
    "        modules.append(nn.Conv2d(channels, filters, 3, 1, padding='same'))\n",
    "        modules.append(nn.ReLU())\n",
    "        modules.append(nn.Conv2d(filters, filters, 3, 1, padding='same'))\n",
    "        modules.append(nn.ReLU())\n",
    "        \n",
    "        # if not decoder, then we add upscaling layer\n",
    "        # if last layer, then we add conv 1x1 and sigmoid to get logits in (0, 1)\n",
    "        if dec:\n",
    "            if not last:\n",
    "                modules.append(nn.ConvTranspose2d(filters, filters//2, 2, stride=(2,2)))\n",
    "            else:\n",
    "                modules.append(nn.Conv2d(filters, 1, 1, 1))\n",
    "                modules.append(nn.Sigmoid())\n",
    "            \n",
    "        return nn.Sequential(*modules)\n",
    "            \n",
    "    def forward(self, x):\n",
    "        \n",
    "        # encoder\n",
    "        \n",
    "        x1 = self.block_enc_1(x)\n",
    "        x2 = self.max_pool(x1)\n",
    "        \n",
    "        x3 = self.block_enc_2(x2)\n",
    "        x4 = self.max_pool(x3)\n",
    "        \n",
    "        x5 = self.block_enc_3(x4)\n",
    "        x6 = self.max_pool(x5)\n",
    "        \n",
    "        # between encoder and decoder\n",
    "        \n",
    "        x7 = self.block_inbetween(x6)\n",
    "        \n",
    "        # decoder\n",
    "        \n",
    "        x8 = self.block_dec_1(torch.cat((x7, x5), dim=1))\n",
    "        x9 = self.block_dec_2(torch.cat((x8, x3), dim=1))\n",
    "        \n",
    "        x10 = self.block_last(torch.cat((x9, x1), dim=1))\n",
    "        \n",
    "        return x10"
   ]
  },
  {
   "cell_type": "markdown",
   "metadata": {},
   "source": [
    "### Train"
   ]
  },
  {
   "cell_type": "code",
   "execution_count": 91,
   "metadata": {},
   "outputs": [],
   "source": [
    "def iou_metric(inputs, targets):       \n",
    "        \n",
    "        # remove channel dimension (C = 1) with squeeze\n",
    "        inputs = inputs.squeeze()\n",
    "        \n",
    "        # round to 0 or 1\n",
    "        inputs = torch.round(inputs)\n",
    "        \n",
    "        # get intersection and union\n",
    "        intersection = (inputs * targets).sum(dim=(1, 2))\n",
    "        total = (inputs + targets).sum(dim=(1, 2))\n",
    "        union = total - intersection \n",
    "        \n",
    "        IoU = intersection / union\n",
    "                \n",
    "        return IoU"
   ]
  },
  {
   "cell_type": "code",
   "execution_count": 92,
   "metadata": {},
   "outputs": [],
   "source": [
    "def evaluate(model, val_loader):\n",
    "    \n",
    "    val_iou_list = torch.Tensor().to(device)\n",
    "    \n",
    "    for x,y in val_loader:\n",
    "        \n",
    "        x,y = x.to(device), y.to(device)\n",
    "        output = unet(x)\n",
    "        val_iou_list = torch.cat((val_iou_list, iou_metric(output, y)))\n",
    "    \n",
    "    return torch.median(val_iou_list)"
   ]
  },
  {
   "cell_type": "code",
   "execution_count": 102,
   "metadata": {},
   "outputs": [],
   "source": [
    "unet = Unet(filters=16).to(device)\n",
    "optimizer = torch.optim.Adam(unet.parameters(), lr=5e-5)\n",
    "#criterion = smp.losses.FocalLoss(mode='binary')\n",
    "criterion = smp.losses.JaccardLoss(mode='binary')"
   ]
  },
  {
   "cell_type": "markdown",
   "metadata": {},
   "source": [
    "### Train Loop"
   ]
  },
  {
   "cell_type": "code",
   "execution_count": 103,
   "metadata": {},
   "outputs": [
    {
     "name": "stdout",
     "output_type": "stream",
     "text": [
      "Epoch 1 | Train IoU: 0.0142 | Train loss: 0.9911 |  Validation IoU: 0.0213 |  Duration 8.65 sec\n",
      "Epoch 2 | Train IoU: 0.0360 | Train loss: 0.9890 |  Validation IoU: 0.0338 |  Duration 8.36 sec\n",
      "Epoch 3 | Train IoU: 0.0721 | Train loss: 0.9883 |  Validation IoU: 0.0898 |  Duration 8.31 sec\n",
      "Epoch 4 | Train IoU: 0.0835 | Train loss: 0.9882 |  Validation IoU: 0.0848 |  Duration 8.32 sec\n",
      "Epoch 5 | Train IoU: 0.0907 | Train loss: 0.9881 |  Validation IoU: 0.0909 |  Duration 8.35 sec\n",
      "Epoch 6 | Train IoU: 0.0984 | Train loss: 0.9881 |  Validation IoU: 0.1232 |  Duration 8.34 sec\n",
      "Epoch 7 | Train IoU: 0.1049 | Train loss: 0.9880 |  Validation IoU: 0.0892 |  Duration 8.36 sec\n",
      "Epoch 8 | Train IoU: 0.1127 | Train loss: 0.9879 |  Validation IoU: 0.1852 |  Duration 8.37 sec\n",
      "Epoch 9 | Train IoU: 0.1167 | Train loss: 0.9879 |  Validation IoU: 0.1765 |  Duration 8.34 sec\n",
      "Epoch 10 | Train IoU: 0.1171 | Train loss: 0.9879 |  Validation IoU: 0.2060 |  Duration 8.31 sec\n",
      "Epoch 11 | Train IoU: 0.1304 | Train loss: 0.9878 |  Validation IoU: 0.1846 |  Duration 8.38 sec\n",
      "Epoch 12 | Train IoU: 0.1360 | Train loss: 0.9878 |  Validation IoU: 0.1193 |  Duration 8.38 sec\n",
      "Epoch 13 | Train IoU: 0.1464 | Train loss: 0.9878 |  Validation IoU: 0.1190 |  Duration 8.40 sec\n",
      "Epoch 14 | Train IoU: 0.1476 | Train loss: 0.9878 |  Validation IoU: 0.1840 |  Duration 8.41 sec\n",
      "Epoch 15 | Train IoU: 0.1545 | Train loss: 0.9877 |  Validation IoU: 0.1832 |  Duration 8.42 sec\n",
      "Epoch 16 | Train IoU: 0.1546 | Train loss: 0.9877 |  Validation IoU: 0.1981 |  Duration 8.43 sec\n",
      "Epoch 17 | Train IoU: 0.1693 | Train loss: 0.9877 |  Validation IoU: 0.1643 |  Duration 8.47 sec\n",
      "Epoch 18 | Train IoU: 0.1609 | Train loss: 0.9877 |  Validation IoU: 0.1529 |  Duration 8.37 sec\n",
      "Epoch 19 | Train IoU: 0.1683 | Train loss: 0.9877 |  Validation IoU: 0.1014 |  Duration 8.40 sec\n",
      "Epoch 20 | Train IoU: 0.1764 | Train loss: 0.9877 |  Validation IoU: 0.1252 |  Duration 8.45 sec\n",
      "Epoch 21 | Train IoU: 0.1792 | Train loss: 0.9877 |  Validation IoU: 0.1950 |  Duration 8.45 sec\n",
      "Epoch 22 | Train IoU: 0.1886 | Train loss: 0.9876 |  Validation IoU: 0.2084 |  Duration 8.47 sec\n",
      "Epoch 23 | Train IoU: 0.1891 | Train loss: 0.9877 |  Validation IoU: 0.1388 |  Duration 8.46 sec\n",
      "Epoch 24 | Train IoU: 0.1863 | Train loss: 0.9876 |  Validation IoU: 0.1505 |  Duration 8.46 sec\n",
      "Epoch 25 | Train IoU: 0.1885 | Train loss: 0.9876 |  Validation IoU: 0.2129 |  Duration 8.46 sec\n",
      "Epoch 26 | Train IoU: 0.1940 | Train loss: 0.9876 |  Validation IoU: 0.1966 |  Duration 8.45 sec\n",
      "Epoch 27 | Train IoU: 0.1989 | Train loss: 0.9876 |  Validation IoU: 0.1764 |  Duration 8.47 sec\n",
      "Epoch 28 | Train IoU: 0.1993 | Train loss: 0.9876 |  Validation IoU: 0.1851 |  Duration 8.51 sec\n",
      "Epoch 29 | Train IoU: 0.1932 | Train loss: 0.9876 |  Validation IoU: 0.2136 |  Duration 8.48 sec\n",
      "Epoch 30 | Train IoU: 0.2073 | Train loss: 0.9876 |  Validation IoU: 0.2049 |  Duration 8.53 sec\n",
      "Epoch 31 | Train IoU: 0.2048 | Train loss: 0.9876 |  Validation IoU: 0.1281 |  Duration 8.47 sec\n",
      "Epoch 32 | Train IoU: 0.2018 | Train loss: 0.9876 |  Validation IoU: 0.1751 |  Duration 8.48 sec\n",
      "Epoch 33 | Train IoU: 0.2112 | Train loss: 0.9876 |  Validation IoU: 0.1886 |  Duration 8.56 sec\n",
      "Epoch 34 | Train IoU: 0.2162 | Train loss: 0.9876 |  Validation IoU: 0.1806 |  Duration 8.46 sec\n",
      "Epoch 35 | Train IoU: 0.2068 | Train loss: 0.9876 |  Validation IoU: 0.2459 |  Duration 8.38 sec\n",
      "Epoch 36 | Train IoU: 0.2222 | Train loss: 0.9876 |  Validation IoU: 0.2000 |  Duration 8.46 sec\n",
      "Epoch 37 | Train IoU: 0.2268 | Train loss: 0.9876 |  Validation IoU: 0.1884 |  Duration 8.41 sec\n",
      "Epoch 38 | Train IoU: 0.2237 | Train loss: 0.9876 |  Validation IoU: 0.1664 |  Duration 8.39 sec\n",
      "Epoch 39 | Train IoU: 0.2256 | Train loss: 0.9876 |  Validation IoU: 0.2162 |  Duration 8.38 sec\n",
      "Epoch 40 | Train IoU: 0.2272 | Train loss: 0.9876 |  Validation IoU: 0.1758 |  Duration 8.42 sec\n",
      "Epoch 41 | Train IoU: 0.2286 | Train loss: 0.9876 |  Validation IoU: 0.2204 |  Duration 8.45 sec\n",
      "Epoch 42 | Train IoU: 0.2250 | Train loss: 0.9876 |  Validation IoU: 0.1772 |  Duration 8.46 sec\n",
      "Epoch 43 | Train IoU: 0.2324 | Train loss: 0.9876 |  Validation IoU: 0.2172 |  Duration 8.42 sec\n",
      "Epoch 44 | Train IoU: 0.2344 | Train loss: 0.9875 |  Validation IoU: 0.2207 |  Duration 8.41 sec\n",
      "Epoch 45 | Train IoU: 0.2339 | Train loss: 0.9875 |  Validation IoU: 0.1572 |  Duration 8.47 sec\n",
      "Epoch 46 | Train IoU: 0.2347 | Train loss: 0.9875 |  Validation IoU: 0.1933 |  Duration 8.47 sec\n",
      "Epoch 47 | Train IoU: 0.2392 | Train loss: 0.9875 |  Validation IoU: 0.1737 |  Duration 8.45 sec\n",
      "Epoch 48 | Train IoU: 0.2448 | Train loss: 0.9875 |  Validation IoU: 0.1886 |  Duration 8.43 sec\n",
      "Epoch 49 | Train IoU: 0.2403 | Train loss: 0.9875 |  Validation IoU: 0.1327 |  Duration 8.40 sec\n",
      "Epoch 50 | Train IoU: 0.2462 | Train loss: 0.9875 |  Validation IoU: 0.2606 |  Duration 8.43 sec\n",
      "Epoch 51 | Train IoU: 0.2516 | Train loss: 0.9875 |  Validation IoU: 0.1959 |  Duration 8.43 sec\n",
      "Epoch 52 | Train IoU: 0.2507 | Train loss: 0.9875 |  Validation IoU: 0.1745 |  Duration 8.46 sec\n",
      "Epoch 53 | Train IoU: 0.2564 | Train loss: 0.9875 |  Validation IoU: 0.1706 |  Duration 8.42 sec\n",
      "Epoch 54 | Train IoU: 0.2490 | Train loss: 0.9875 |  Validation IoU: 0.2325 |  Duration 8.44 sec\n",
      "Epoch 55 | Train IoU: 0.2385 | Train loss: 0.9875 |  Validation IoU: 0.2246 |  Duration 8.47 sec\n",
      "Epoch 56 | Train IoU: 0.2589 | Train loss: 0.9875 |  Validation IoU: 0.1890 |  Duration 8.38 sec\n",
      "Epoch 57 | Train IoU: 0.2520 | Train loss: 0.9875 |  Validation IoU: 0.2189 |  Duration 8.45 sec\n",
      "Epoch 58 | Train IoU: 0.2518 | Train loss: 0.9875 |  Validation IoU: 0.1929 |  Duration 8.45 sec\n",
      "Epoch 59 | Train IoU: 0.2629 | Train loss: 0.9875 |  Validation IoU: 0.2653 |  Duration 8.43 sec\n",
      "Epoch 60 | Train IoU: 0.2565 | Train loss: 0.9875 |  Validation IoU: 0.1832 |  Duration 8.44 sec\n",
      "Epoch 61 | Train IoU: 0.2565 | Train loss: 0.9875 |  Validation IoU: 0.2420 |  Duration 8.43 sec\n",
      "Epoch 62 | Train IoU: 0.2753 | Train loss: 0.9875 |  Validation IoU: 0.1850 |  Duration 8.44 sec\n",
      "Epoch 63 | Train IoU: 0.2707 | Train loss: 0.9875 |  Validation IoU: 0.2342 |  Duration 8.46 sec\n",
      "Epoch 64 | Train IoU: 0.2642 | Train loss: 0.9875 |  Validation IoU: 0.3029 |  Duration 8.44 sec\n",
      "Epoch 65 | Train IoU: 0.2603 | Train loss: 0.9875 |  Validation IoU: 0.2484 |  Duration 8.44 sec\n",
      "Epoch 66 | Train IoU: 0.2716 | Train loss: 0.9875 |  Validation IoU: 0.2590 |  Duration 8.45 sec\n",
      "Epoch 67 | Train IoU: 0.2741 | Train loss: 0.9875 |  Validation IoU: 0.2263 |  Duration 8.45 sec\n",
      "Epoch 68 | Train IoU: 0.2695 | Train loss: 0.9875 |  Validation IoU: 0.2722 |  Duration 8.44 sec\n",
      "Epoch 69 | Train IoU: 0.2729 | Train loss: 0.9875 |  Validation IoU: 0.2784 |  Duration 8.45 sec\n",
      "Epoch 70 | Train IoU: 0.2678 | Train loss: 0.9875 |  Validation IoU: 0.2462 |  Duration 8.43 sec\n",
      "Epoch 71 | Train IoU: 0.2757 | Train loss: 0.9875 |  Validation IoU: 0.2723 |  Duration 8.53 sec\n",
      "Epoch 72 | Train IoU: 0.2745 | Train loss: 0.9875 |  Validation IoU: 0.2510 |  Duration 8.49 sec\n",
      "Epoch 73 | Train IoU: 0.2843 | Train loss: 0.9875 |  Validation IoU: 0.2269 |  Duration 8.45 sec\n",
      "Epoch 74 | Train IoU: 0.2689 | Train loss: 0.9875 |  Validation IoU: 0.2917 |  Duration 8.42 sec\n",
      "Epoch 75 | Train IoU: 0.2815 | Train loss: 0.9875 |  Validation IoU: 0.2494 |  Duration 8.46 sec\n",
      "Epoch 76 | Train IoU: 0.2838 | Train loss: 0.9875 |  Validation IoU: 0.2118 |  Duration 8.44 sec\n",
      "Epoch 77 | Train IoU: 0.2847 | Train loss: 0.9875 |  Validation IoU: 0.2425 |  Duration 8.46 sec\n",
      "Epoch 78 | Train IoU: 0.2812 | Train loss: 0.9875 |  Validation IoU: 0.2781 |  Duration 8.45 sec\n",
      "Epoch 79 | Train IoU: 0.2920 | Train loss: 0.9875 |  Validation IoU: 0.2379 |  Duration 8.48 sec\n",
      "Epoch 80 | Train IoU: 0.2843 | Train loss: 0.9875 |  Validation IoU: 0.2520 |  Duration 8.45 sec\n",
      "Epoch 81 | Train IoU: 0.2885 | Train loss: 0.9875 |  Validation IoU: 0.1933 |  Duration 8.43 sec\n",
      "Epoch 82 | Train IoU: 0.2940 | Train loss: 0.9875 |  Validation IoU: 0.2507 |  Duration 8.47 sec\n",
      "Epoch 83 | Train IoU: 0.2932 | Train loss: 0.9875 |  Validation IoU: 0.3106 |  Duration 8.45 sec\n",
      "Epoch 84 | Train IoU: 0.2957 | Train loss: 0.9875 |  Validation IoU: 0.2341 |  Duration 8.47 sec\n",
      "Epoch 85 | Train IoU: 0.2998 | Train loss: 0.9875 |  Validation IoU: 0.2480 |  Duration 8.44 sec\n"
     ]
    },
    {
     "name": "stdout",
     "output_type": "stream",
     "text": [
      "Epoch 86 | Train IoU: 0.2963 | Train loss: 0.9875 |  Validation IoU: 0.2388 |  Duration 8.45 sec\n",
      "Epoch 87 | Train IoU: 0.2928 | Train loss: 0.9875 |  Validation IoU: 0.3333 |  Duration 8.45 sec\n",
      "Epoch 88 | Train IoU: 0.2959 | Train loss: 0.9875 |  Validation IoU: 0.2839 |  Duration 8.45 sec\n",
      "Epoch 89 | Train IoU: 0.2946 | Train loss: 0.9875 |  Validation IoU: 0.2270 |  Duration 8.45 sec\n",
      "Epoch 90 | Train IoU: 0.2899 | Train loss: 0.9875 |  Validation IoU: 0.2532 |  Duration 8.47 sec\n",
      "Epoch 91 | Train IoU: 0.2941 | Train loss: 0.9875 |  Validation IoU: 0.2671 |  Duration 8.46 sec\n",
      "Epoch 92 | Train IoU: 0.2951 | Train loss: 0.9875 |  Validation IoU: 0.2344 |  Duration 8.46 sec\n",
      "Epoch 93 | Train IoU: 0.3056 | Train loss: 0.9875 |  Validation IoU: 0.2276 |  Duration 8.44 sec\n",
      "Epoch 94 | Train IoU: 0.3055 | Train loss: 0.9875 |  Validation IoU: 0.2715 |  Duration 8.45 sec\n",
      "Epoch 95 | Train IoU: 0.3031 | Train loss: 0.9875 |  Validation IoU: 0.2920 |  Duration 8.45 sec\n",
      "Epoch 96 | Train IoU: 0.3085 | Train loss: 0.9875 |  Validation IoU: 0.3125 |  Duration 8.47 sec\n",
      "Epoch 97 | Train IoU: 0.2933 | Train loss: 0.9875 |  Validation IoU: 0.2971 |  Duration 8.45 sec\n",
      "Epoch 98 | Train IoU: 0.2974 | Train loss: 0.9875 |  Validation IoU: 0.2574 |  Duration 8.46 sec\n",
      "Epoch 99 | Train IoU: 0.2854 | Train loss: 0.9875 |  Validation IoU: 0.3043 |  Duration 8.45 sec\n",
      "Epoch 100 | Train IoU: 0.3018 | Train loss: 0.9875 |  Validation IoU: 0.2544 |  Duration 8.44 sec\n",
      "Epoch 101 | Train IoU: 0.3045 | Train loss: 0.9875 |  Validation IoU: 0.2883 |  Duration 8.47 sec\n",
      "Epoch 102 | Train IoU: 0.3118 | Train loss: 0.9875 |  Validation IoU: 0.2870 |  Duration 8.47 sec\n",
      "Epoch 103 | Train IoU: 0.3057 | Train loss: 0.9875 |  Validation IoU: 0.2809 |  Duration 8.46 sec\n",
      "Epoch 104 | Train IoU: 0.3156 | Train loss: 0.9875 |  Validation IoU: 0.2759 |  Duration 8.44 sec\n",
      "Epoch 105 | Train IoU: 0.3180 | Train loss: 0.9875 |  Validation IoU: 0.2228 |  Duration 8.47 sec\n",
      "Epoch 106 | Train IoU: 0.3154 | Train loss: 0.9875 |  Validation IoU: 0.2422 |  Duration 8.46 sec\n",
      "Epoch 107 | Train IoU: 0.3121 | Train loss: 0.9875 |  Validation IoU: 0.2688 |  Duration 8.45 sec\n",
      "Epoch 108 | Train IoU: 0.3077 | Train loss: 0.9875 |  Validation IoU: 0.2949 |  Duration 8.46 sec\n",
      "Epoch 109 | Train IoU: 0.3181 | Train loss: 0.9875 |  Validation IoU: 0.2817 |  Duration 8.45 sec\n",
      "Epoch 110 | Train IoU: 0.3041 | Train loss: 0.9875 |  Validation IoU: 0.2879 |  Duration 8.44 sec\n",
      "Epoch 111 | Train IoU: 0.3149 | Train loss: 0.9875 |  Validation IoU: 0.2986 |  Duration 8.44 sec\n",
      "Epoch 112 | Train IoU: 0.3223 | Train loss: 0.9874 |  Validation IoU: 0.3007 |  Duration 8.45 sec\n",
      "Epoch 113 | Train IoU: 0.3204 | Train loss: 0.9875 |  Validation IoU: 0.2511 |  Duration 8.41 sec\n",
      "Epoch 114 | Train IoU: 0.3183 | Train loss: 0.9875 |  Validation IoU: 0.2846 |  Duration 8.44 sec\n",
      "Epoch 115 | Train IoU: 0.3210 | Train loss: 0.9875 |  Validation IoU: 0.2846 |  Duration 8.44 sec\n",
      "Epoch 116 | Train IoU: 0.3251 | Train loss: 0.9875 |  Validation IoU: 0.3066 |  Duration 8.45 sec\n",
      "Epoch 117 | Train IoU: 0.3220 | Train loss: 0.9875 |  Validation IoU: 0.2941 |  Duration 8.45 sec\n",
      "Epoch 118 | Train IoU: 0.3172 | Train loss: 0.9875 |  Validation IoU: 0.2943 |  Duration 8.45 sec\n",
      "Epoch 119 | Train IoU: 0.3194 | Train loss: 0.9875 |  Validation IoU: 0.3113 |  Duration 8.45 sec\n",
      "Epoch 120 | Train IoU: 0.3234 | Train loss: 0.9874 |  Validation IoU: 0.2702 |  Duration 8.45 sec\n",
      "Epoch 121 | Train IoU: 0.3279 | Train loss: 0.9874 |  Validation IoU: 0.2923 |  Duration 8.47 sec\n",
      "Epoch 122 | Train IoU: 0.3187 | Train loss: 0.9875 |  Validation IoU: 0.2725 |  Duration 8.46 sec\n",
      "Epoch 123 | Train IoU: 0.3213 | Train loss: 0.9875 |  Validation IoU: 0.2571 |  Duration 8.44 sec\n",
      "Epoch 124 | Train IoU: 0.3245 | Train loss: 0.9874 |  Validation IoU: 0.3176 |  Duration 8.44 sec\n",
      "Epoch 125 | Train IoU: 0.3298 | Train loss: 0.9874 |  Validation IoU: 0.2966 |  Duration 8.44 sec\n",
      "Epoch 126 | Train IoU: 0.3296 | Train loss: 0.9874 |  Validation IoU: 0.2667 |  Duration 8.44 sec\n",
      "Epoch 127 | Train IoU: 0.3288 | Train loss: 0.9874 |  Validation IoU: 0.3134 |  Duration 8.44 sec\n",
      "Epoch 128 | Train IoU: 0.3277 | Train loss: 0.9874 |  Validation IoU: 0.3104 |  Duration 8.46 sec\n",
      "Epoch 129 | Train IoU: 0.3300 | Train loss: 0.9874 |  Validation IoU: 0.3096 |  Duration 8.46 sec\n",
      "Epoch 130 | Train IoU: 0.3354 | Train loss: 0.9874 |  Validation IoU: 0.2944 |  Duration 8.45 sec\n",
      "Epoch 131 | Train IoU: 0.3375 | Train loss: 0.9874 |  Validation IoU: 0.2915 |  Duration 8.45 sec\n",
      "Epoch 132 | Train IoU: 0.3327 | Train loss: 0.9874 |  Validation IoU: 0.3228 |  Duration 8.46 sec\n",
      "Epoch 133 | Train IoU: 0.3297 | Train loss: 0.9874 |  Validation IoU: 0.2599 |  Duration 8.44 sec\n",
      "Epoch 134 | Train IoU: 0.3316 | Train loss: 0.9874 |  Validation IoU: 0.3220 |  Duration 8.46 sec\n",
      "Epoch 135 | Train IoU: 0.3295 | Train loss: 0.9874 |  Validation IoU: 0.3198 |  Duration 8.45 sec\n",
      "Epoch 136 | Train IoU: 0.3426 | Train loss: 0.9874 |  Validation IoU: 0.2788 |  Duration 8.46 sec\n",
      "Epoch 137 | Train IoU: 0.3449 | Train loss: 0.9874 |  Validation IoU: 0.3216 |  Duration 8.46 sec\n",
      "Epoch 138 | Train IoU: 0.3347 | Train loss: 0.9874 |  Validation IoU: 0.2910 |  Duration 8.46 sec\n",
      "Epoch 139 | Train IoU: 0.3341 | Train loss: 0.9874 |  Validation IoU: 0.2909 |  Duration 8.44 sec\n",
      "Epoch 140 | Train IoU: 0.3409 | Train loss: 0.9874 |  Validation IoU: 0.3279 |  Duration 8.46 sec\n",
      "Epoch 141 | Train IoU: 0.3418 | Train loss: 0.9874 |  Validation IoU: 0.3106 |  Duration 8.46 sec\n",
      "Epoch 142 | Train IoU: 0.3376 | Train loss: 0.9874 |  Validation IoU: 0.2745 |  Duration 8.44 sec\n",
      "Epoch 143 | Train IoU: 0.3254 | Train loss: 0.9874 |  Validation IoU: 0.2907 |  Duration 8.45 sec\n",
      "Epoch 144 | Train IoU: 0.3484 | Train loss: 0.9874 |  Validation IoU: 0.2645 |  Duration 8.45 sec\n",
      "Epoch 145 | Train IoU: 0.3349 | Train loss: 0.9874 |  Validation IoU: 0.3006 |  Duration 8.45 sec\n",
      "Epoch 146 | Train IoU: 0.3322 | Train loss: 0.9874 |  Validation IoU: 0.2952 |  Duration 8.44 sec\n",
      "Epoch 147 | Train IoU: 0.3447 | Train loss: 0.9874 |  Validation IoU: 0.3274 |  Duration 8.45 sec\n",
      "Epoch 148 | Train IoU: 0.3529 | Train loss: 0.9874 |  Validation IoU: 0.2910 |  Duration 8.45 sec\n",
      "Epoch 149 | Train IoU: 0.3299 | Train loss: 0.9875 |  Validation IoU: 0.3006 |  Duration 8.44 sec\n",
      "Epoch 150 | Train IoU: 0.3432 | Train loss: 0.9874 |  Validation IoU: 0.3291 |  Duration 8.46 sec\n",
      "Epoch 151 | Train IoU: 0.3448 | Train loss: 0.9874 |  Validation IoU: 0.2694 |  Duration 8.47 sec\n",
      "Epoch 152 | Train IoU: 0.3474 | Train loss: 0.9874 |  Validation IoU: 0.3556 |  Duration 8.45 sec\n",
      "Epoch 153 | Train IoU: 0.3479 | Train loss: 0.9874 |  Validation IoU: 0.2781 |  Duration 8.50 sec\n",
      "Epoch 154 | Train IoU: 0.3548 | Train loss: 0.9874 |  Validation IoU: 0.3101 |  Duration 8.43 sec\n",
      "Epoch 155 | Train IoU: 0.3544 | Train loss: 0.9874 |  Validation IoU: 0.2840 |  Duration 8.46 sec\n",
      "Epoch 156 | Train IoU: 0.3528 | Train loss: 0.9874 |  Validation IoU: 0.3130 |  Duration 8.46 sec\n",
      "Epoch 157 | Train IoU: 0.3409 | Train loss: 0.9874 |  Validation IoU: 0.2764 |  Duration 8.45 sec\n",
      "Epoch 158 | Train IoU: 0.3532 | Train loss: 0.9874 |  Validation IoU: 0.3282 |  Duration 8.46 sec\n",
      "Epoch 159 | Train IoU: 0.3527 | Train loss: 0.9874 |  Validation IoU: 0.3564 |  Duration 8.45 sec\n",
      "Epoch 160 | Train IoU: 0.3629 | Train loss: 0.9874 |  Validation IoU: 0.2872 |  Duration 8.44 sec\n",
      "Epoch 161 | Train IoU: 0.3628 | Train loss: 0.9874 |  Validation IoU: 0.3263 |  Duration 8.43 sec\n",
      "Epoch 162 | Train IoU: 0.3553 | Train loss: 0.9874 |  Validation IoU: 0.3025 |  Duration 8.44 sec\n",
      "Epoch 163 | Train IoU: 0.3512 | Train loss: 0.9874 |  Validation IoU: 0.2349 |  Duration 8.45 sec\n",
      "Epoch 164 | Train IoU: 0.3565 | Train loss: 0.9874 |  Validation IoU: 0.2308 |  Duration 8.46 sec\n",
      "Epoch 165 | Train IoU: 0.3476 | Train loss: 0.9874 |  Validation IoU: 0.2414 |  Duration 8.45 sec\n",
      "Epoch 166 | Train IoU: 0.3440 | Train loss: 0.9874 |  Validation IoU: 0.0560 |  Duration 8.46 sec\n",
      "Epoch 167 | Train IoU: 0.3570 | Train loss: 0.9874 |  Validation IoU: 0.3323 |  Duration 8.43 sec\n",
      "Epoch 168 | Train IoU: 0.3657 | Train loss: 0.9874 |  Validation IoU: 0.2524 |  Duration 8.45 sec\n",
      "Epoch 169 | Train IoU: 0.3480 | Train loss: 0.9874 |  Validation IoU: 0.3293 |  Duration 8.45 sec\n"
     ]
    },
    {
     "name": "stdout",
     "output_type": "stream",
     "text": [
      "Epoch 170 | Train IoU: 0.3440 | Train loss: 0.9874 |  Validation IoU: 0.2913 |  Duration 8.45 sec\n",
      "Epoch 171 | Train IoU: 0.3544 | Train loss: 0.9874 |  Validation IoU: 0.3465 |  Duration 8.45 sec\n",
      "Epoch 172 | Train IoU: 0.3599 | Train loss: 0.9874 |  Validation IoU: 0.3011 |  Duration 8.45 sec\n",
      "Epoch 173 | Train IoU: 0.3594 | Train loss: 0.9874 |  Validation IoU: 0.3142 |  Duration 8.47 sec\n",
      "Epoch 174 | Train IoU: 0.3616 | Train loss: 0.9874 |  Validation IoU: 0.2545 |  Duration 8.44 sec\n",
      "Epoch 175 | Train IoU: 0.3657 | Train loss: 0.9874 |  Validation IoU: 0.2551 |  Duration 8.45 sec\n",
      "Epoch 176 | Train IoU: 0.3609 | Train loss: 0.9874 |  Validation IoU: 0.3018 |  Duration 8.43 sec\n",
      "Epoch 177 | Train IoU: 0.3577 | Train loss: 0.9874 |  Validation IoU: 0.3584 |  Duration 8.46 sec\n",
      "Epoch 178 | Train IoU: 0.3625 | Train loss: 0.9874 |  Validation IoU: 0.2740 |  Duration 8.45 sec\n",
      "Epoch 179 | Train IoU: 0.3619 | Train loss: 0.9874 |  Validation IoU: 0.3273 |  Duration 8.43 sec\n",
      "Epoch 180 | Train IoU: 0.3639 | Train loss: 0.9874 |  Validation IoU: 0.2692 |  Duration 8.47 sec\n",
      "Epoch 181 | Train IoU: 0.3634 | Train loss: 0.9874 |  Validation IoU: 0.3274 |  Duration 8.44 sec\n",
      "Epoch 182 | Train IoU: 0.3645 | Train loss: 0.9874 |  Validation IoU: 0.3056 |  Duration 8.45 sec\n",
      "Epoch 183 | Train IoU: 0.3642 | Train loss: 0.9874 |  Validation IoU: 0.2893 |  Duration 8.45 sec\n",
      "Epoch 184 | Train IoU: 0.3636 | Train loss: 0.9874 |  Validation IoU: 0.3245 |  Duration 8.46 sec\n",
      "Epoch 185 | Train IoU: 0.3669 | Train loss: 0.9874 |  Validation IoU: 0.3179 |  Duration 8.45 sec\n",
      "Epoch 186 | Train IoU: 0.3699 | Train loss: 0.9874 |  Validation IoU: 0.3349 |  Duration 8.45 sec\n",
      "Epoch 187 | Train IoU: 0.3693 | Train loss: 0.9874 |  Validation IoU: 0.2276 |  Duration 8.45 sec\n",
      "Epoch 188 | Train IoU: 0.3611 | Train loss: 0.9874 |  Validation IoU: 0.2080 |  Duration 8.47 sec\n",
      "Epoch 189 | Train IoU: 0.3620 | Train loss: 0.9874 |  Validation IoU: 0.2627 |  Duration 8.45 sec\n",
      "Epoch 190 | Train IoU: 0.3644 | Train loss: 0.9874 |  Validation IoU: 0.1732 |  Duration 8.43 sec\n",
      "Epoch 191 | Train IoU: 0.3670 | Train loss: 0.9874 |  Validation IoU: 0.3204 |  Duration 8.45 sec\n",
      "Epoch 192 | Train IoU: 0.3589 | Train loss: 0.9874 |  Validation IoU: 0.3333 |  Duration 8.68 sec\n",
      "Epoch 193 | Train IoU: 0.3631 | Train loss: 0.9874 |  Validation IoU: 0.1778 |  Duration 8.61 sec\n",
      "Epoch 194 | Train IoU: 0.3614 | Train loss: 0.9874 |  Validation IoU: 0.2012 |  Duration 8.53 sec\n",
      "Epoch 195 | Train IoU: 0.3669 | Train loss: 0.9874 |  Validation IoU: 0.2383 |  Duration 8.45 sec\n",
      "Epoch 196 | Train IoU: 0.3721 | Train loss: 0.9874 |  Validation IoU: 0.2857 |  Duration 8.46 sec\n",
      "Epoch 197 | Train IoU: 0.3808 | Train loss: 0.9874 |  Validation IoU: 0.3146 |  Duration 8.45 sec\n",
      "Epoch 198 | Train IoU: 0.3722 | Train loss: 0.9874 |  Validation IoU: 0.3568 |  Duration 8.45 sec\n",
      "Epoch 199 | Train IoU: 0.3765 | Train loss: 0.9874 |  Validation IoU: 0.1852 |  Duration 8.44 sec\n",
      "Epoch 200 | Train IoU: 0.3591 | Train loss: 0.9874 |  Validation IoU: 0.3029 |  Duration 8.45 sec\n",
      "Epoch 201 | Train IoU: 0.3701 | Train loss: 0.9874 |  Validation IoU: 0.1457 |  Duration 8.46 sec\n",
      "Epoch 202 | Train IoU: 0.3741 | Train loss: 0.9874 |  Validation IoU: 0.1800 |  Duration 8.45 sec\n",
      "Epoch 203 | Train IoU: 0.3768 | Train loss: 0.9874 |  Validation IoU: 0.2629 |  Duration 8.45 sec\n",
      "Epoch 204 | Train IoU: 0.3659 | Train loss: 0.9874 |  Validation IoU: 0.1353 |  Duration 8.47 sec\n",
      "Epoch 205 | Train IoU: 0.3684 | Train loss: 0.9874 |  Validation IoU: 0.1933 |  Duration 8.44 sec\n",
      "Epoch 206 | Train IoU: 0.3726 | Train loss: 0.9874 |  Validation IoU: 0.1463 |  Duration 8.46 sec\n",
      "Epoch 207 | Train IoU: 0.3755 | Train loss: 0.9874 |  Validation IoU: 0.2520 |  Duration 8.46 sec\n",
      "Epoch 208 | Train IoU: 0.3686 | Train loss: 0.9874 |  Validation IoU: 0.2348 |  Duration 8.45 sec\n",
      "Epoch 209 | Train IoU: 0.3808 | Train loss: 0.9874 |  Validation IoU: 0.2831 |  Duration 8.44 sec\n",
      "Epoch 210 | Train IoU: 0.3763 | Train loss: 0.9874 |  Validation IoU: 0.2294 |  Duration 8.46 sec\n",
      "Epoch 211 | Train IoU: 0.3694 | Train loss: 0.9874 |  Validation IoU: 0.3153 |  Duration 8.45 sec\n",
      "Epoch 212 | Train IoU: 0.3678 | Train loss: 0.9874 |  Validation IoU: 0.0682 |  Duration 8.46 sec\n",
      "Epoch 213 | Train IoU: 0.3764 | Train loss: 0.9874 |  Validation IoU: 0.1020 |  Duration 8.44 sec\n",
      "Epoch 214 | Train IoU: 0.3710 | Train loss: 0.9874 |  Validation IoU: 0.2273 |  Duration 8.46 sec\n",
      "Epoch 215 | Train IoU: 0.3741 | Train loss: 0.9874 |  Validation IoU: 0.3121 |  Duration 8.42 sec\n",
      "Epoch 216 | Train IoU: 0.3756 | Train loss: 0.9874 |  Validation IoU: 0.1587 |  Duration 8.42 sec\n",
      "Epoch 217 | Train IoU: 0.3745 | Train loss: 0.9874 |  Validation IoU: 0.0000 |  Duration 8.44 sec\n",
      "Epoch 218 | Train IoU: 0.3765 | Train loss: 0.9874 |  Validation IoU: 0.2194 |  Duration 8.46 sec\n",
      "Epoch 219 | Train IoU: 0.3762 | Train loss: 0.9874 |  Validation IoU: 0.2857 |  Duration 8.46 sec\n",
      "Epoch 220 | Train IoU: 0.3722 | Train loss: 0.9874 |  Validation IoU: 0.2357 |  Duration 8.41 sec\n",
      "Epoch 221 | Train IoU: 0.3800 | Train loss: 0.9874 |  Validation IoU: 0.1802 |  Duration 8.47 sec\n",
      "Epoch 222 | Train IoU: 0.3833 | Train loss: 0.9874 |  Validation IoU: 0.3361 |  Duration 8.48 sec\n",
      "Epoch 223 | Train IoU: 0.3714 | Train loss: 0.9874 |  Validation IoU: 0.2920 |  Duration 8.45 sec\n",
      "Epoch 224 | Train IoU: 0.3689 | Train loss: 0.9874 |  Validation IoU: 0.3000 |  Duration 8.45 sec\n",
      "Epoch 225 | Train IoU: 0.3587 | Train loss: 0.9874 |  Validation IoU: 0.3506 |  Duration 8.43 sec\n",
      "Epoch 226 | Train IoU: 0.3725 | Train loss: 0.9874 |  Validation IoU: 0.2182 |  Duration 8.46 sec\n",
      "Epoch 227 | Train IoU: 0.3860 | Train loss: 0.9874 |  Validation IoU: 0.1818 |  Duration 8.45 sec\n",
      "Epoch 228 | Train IoU: 0.3949 | Train loss: 0.9874 |  Validation IoU: 0.1546 |  Duration 8.45 sec\n",
      "Epoch 229 | Train IoU: 0.3840 | Train loss: 0.9874 |  Validation IoU: 0.3532 |  Duration 8.46 sec\n",
      "Epoch 230 | Train IoU: 0.3886 | Train loss: 0.9874 |  Validation IoU: 0.3365 |  Duration 8.45 sec\n",
      "Epoch 231 | Train IoU: 0.3889 | Train loss: 0.9874 |  Validation IoU: 0.2442 |  Duration 8.42 sec\n",
      "Epoch 232 | Train IoU: 0.3907 | Train loss: 0.9874 |  Validation IoU: 0.2512 |  Duration 8.47 sec\n",
      "Epoch 233 | Train IoU: 0.3927 | Train loss: 0.9874 |  Validation IoU: 0.1667 |  Duration 8.38 sec\n",
      "Epoch 234 | Train IoU: 0.3839 | Train loss: 0.9874 |  Validation IoU: 0.1311 |  Duration 8.45 sec\n",
      "Epoch 235 | Train IoU: 0.3894 | Train loss: 0.9874 |  Validation IoU: 0.2524 |  Duration 8.47 sec\n",
      "Epoch 236 | Train IoU: 0.3841 | Train loss: 0.9874 |  Validation IoU: 0.3333 |  Duration 8.45 sec\n",
      "Epoch 237 | Train IoU: 0.3840 | Train loss: 0.9874 |  Validation IoU: 0.2450 |  Duration 8.45 sec\n",
      "Epoch 238 | Train IoU: 0.3879 | Train loss: 0.9874 |  Validation IoU: 0.1343 |  Duration 8.44 sec\n",
      "Epoch 239 | Train IoU: 0.3887 | Train loss: 0.9874 |  Validation IoU: 0.1792 |  Duration 8.44 sec\n",
      "Epoch 240 | Train IoU: 0.3873 | Train loss: 0.9874 |  Validation IoU: 0.1313 |  Duration 8.45 sec\n",
      "Epoch 241 | Train IoU: 0.4012 | Train loss: 0.9874 |  Validation IoU: 0.0148 |  Duration 8.45 sec\n",
      "Epoch 242 | Train IoU: 0.3877 | Train loss: 0.9874 |  Validation IoU: 0.2732 |  Duration 8.44 sec\n",
      "Epoch 243 | Train IoU: 0.3874 | Train loss: 0.9874 |  Validation IoU: 0.2378 |  Duration 8.44 sec\n",
      "Epoch 244 | Train IoU: 0.3828 | Train loss: 0.9874 |  Validation IoU: 0.2794 |  Duration 8.45 sec\n",
      "Epoch 245 | Train IoU: 0.3908 | Train loss: 0.9874 |  Validation IoU: 0.0000 |  Duration 8.46 sec\n",
      "Epoch 246 | Train IoU: 0.3913 | Train loss: 0.9874 |  Validation IoU: 0.1781 |  Duration 8.45 sec\n",
      "Epoch 247 | Train IoU: 0.3976 | Train loss: 0.9874 |  Validation IoU: 0.0197 |  Duration 8.46 sec\n",
      "Epoch 248 | Train IoU: 0.3889 | Train loss: 0.9874 |  Validation IoU: 0.0086 |  Duration 8.43 sec\n",
      "Epoch 249 | Train IoU: 0.3949 | Train loss: 0.9874 |  Validation IoU: 0.3315 |  Duration 8.47 sec\n",
      "Epoch 250 | Train IoU: 0.3750 | Train loss: 0.9874 |  Validation IoU: 0.3801 |  Duration 8.46 sec\n",
      "Epoch 251 | Train IoU: 0.3837 | Train loss: 0.9874 |  Validation IoU: 0.0000 |  Duration 8.45 sec\n",
      "Epoch 252 | Train IoU: 0.3888 | Train loss: 0.9874 |  Validation IoU: 0.0000 |  Duration 8.44 sec\n",
      "Epoch 253 | Train IoU: 0.3900 | Train loss: 0.9874 |  Validation IoU: 0.0565 |  Duration 8.46 sec\n"
     ]
    },
    {
     "name": "stdout",
     "output_type": "stream",
     "text": [
      "Epoch 254 | Train IoU: 0.3953 | Train loss: 0.9874 |  Validation IoU: 0.2755 |  Duration 8.42 sec\n",
      "Epoch 255 | Train IoU: 0.3984 | Train loss: 0.9874 |  Validation IoU: 0.2653 |  Duration 8.44 sec\n",
      "Epoch 256 | Train IoU: 0.4021 | Train loss: 0.9874 |  Validation IoU: 0.1797 |  Duration 8.43 sec\n",
      "Epoch 257 | Train IoU: 0.4000 | Train loss: 0.9874 |  Validation IoU: 0.0426 |  Duration 8.47 sec\n",
      "Epoch 258 | Train IoU: 0.3989 | Train loss: 0.9874 |  Validation IoU: 0.0000 |  Duration 8.43 sec\n",
      "Epoch 259 | Train IoU: 0.3879 | Train loss: 0.9874 |  Validation IoU: 0.1961 |  Duration 8.47 sec\n",
      "Epoch 260 | Train IoU: 0.4036 | Train loss: 0.9874 |  Validation IoU: 0.0787 |  Duration 8.45 sec\n",
      "Epoch 261 | Train IoU: 0.3874 | Train loss: 0.9874 |  Validation IoU: 0.0638 |  Duration 8.44 sec\n",
      "Epoch 262 | Train IoU: 0.4063 | Train loss: 0.9874 |  Validation IoU: 0.0000 |  Duration 8.45 sec\n",
      "Epoch 263 | Train IoU: 0.3935 | Train loss: 0.9874 |  Validation IoU: 0.0000 |  Duration 8.48 sec\n",
      "Epoch 264 | Train IoU: 0.3962 | Train loss: 0.9874 |  Validation IoU: 0.0000 |  Duration 8.44 sec\n",
      "Epoch 265 | Train IoU: 0.3991 | Train loss: 0.9874 |  Validation IoU: 0.0500 |  Duration 8.45 sec\n",
      "Epoch 266 | Train IoU: 0.3978 | Train loss: 0.9874 |  Validation IoU: 0.0000 |  Duration 8.46 sec\n",
      "Epoch 267 | Train IoU: 0.3947 | Train loss: 0.9874 |  Validation IoU: 0.2129 |  Duration 8.45 sec\n",
      "Epoch 268 | Train IoU: 0.3846 | Train loss: 0.9874 |  Validation IoU: 0.0000 |  Duration 8.45 sec\n",
      "Epoch 269 | Train IoU: 0.3968 | Train loss: 0.9874 |  Validation IoU: 0.0000 |  Duration 8.46 sec\n",
      "Epoch 270 | Train IoU: 0.3992 | Train loss: 0.9874 |  Validation IoU: 0.2781 |  Duration 8.45 sec\n",
      "Epoch 271 | Train IoU: 0.4021 | Train loss: 0.9874 |  Validation IoU: 0.1259 |  Duration 8.40 sec\n",
      "Epoch 272 | Train IoU: 0.3910 | Train loss: 0.9874 |  Validation IoU: 0.2945 |  Duration 8.45 sec\n",
      "Epoch 273 | Train IoU: 0.3938 | Train loss: 0.9874 |  Validation IoU: 0.0000 |  Duration 8.46 sec\n",
      "Epoch 274 | Train IoU: 0.3872 | Train loss: 0.9874 |  Validation IoU: 0.0938 |  Duration 8.45 sec\n",
      "Epoch 275 | Train IoU: 0.3982 | Train loss: 0.9874 |  Validation IoU: 0.0924 |  Duration 8.44 sec\n",
      "Epoch 276 | Train IoU: 0.3986 | Train loss: 0.9874 |  Validation IoU: 0.0000 |  Duration 8.46 sec\n",
      "Epoch 277 | Train IoU: 0.3915 | Train loss: 0.9874 |  Validation IoU: 0.0000 |  Duration 8.47 sec\n",
      "Epoch 278 | Train IoU: 0.4073 | Train loss: 0.9874 |  Validation IoU: 0.0431 |  Duration 8.45 sec\n",
      "Epoch 279 | Train IoU: 0.4059 | Train loss: 0.9874 |  Validation IoU: 0.0000 |  Duration 8.45 sec\n",
      "Epoch 280 | Train IoU: 0.4013 | Train loss: 0.9874 |  Validation IoU: 0.3391 |  Duration 8.45 sec\n",
      "Epoch 281 | Train IoU: 0.4038 | Train loss: 0.9874 |  Validation IoU: 0.1298 |  Duration 8.45 sec\n",
      "Epoch 282 | Train IoU: 0.4047 | Train loss: 0.9874 |  Validation IoU: 0.2083 |  Duration 8.45 sec\n",
      "Epoch 283 | Train IoU: 0.3901 | Train loss: 0.9874 |  Validation IoU: 0.1554 |  Duration 8.45 sec\n",
      "Epoch 284 | Train IoU: 0.3965 | Train loss: 0.9874 |  Validation IoU: 0.0777 |  Duration 8.43 sec\n",
      "Epoch 285 | Train IoU: 0.3993 | Train loss: 0.9874 |  Validation IoU: 0.1444 |  Duration 8.45 sec\n",
      "Epoch 286 | Train IoU: 0.3927 | Train loss: 0.9874 |  Validation IoU: 0.2857 |  Duration 8.45 sec\n",
      "Epoch 287 | Train IoU: 0.4105 | Train loss: 0.9874 |  Validation IoU: 0.0566 |  Duration 8.45 sec\n",
      "Epoch 288 | Train IoU: 0.3934 | Train loss: 0.9874 |  Validation IoU: 0.1550 |  Duration 8.46 sec\n",
      "Epoch 289 | Train IoU: 0.4064 | Train loss: 0.9874 |  Validation IoU: 0.2015 |  Duration 8.43 sec\n",
      "Epoch 290 | Train IoU: 0.4016 | Train loss: 0.9874 |  Validation IoU: 0.0796 |  Duration 8.46 sec\n",
      "Epoch 291 | Train IoU: 0.3967 | Train loss: 0.9874 |  Validation IoU: 0.0976 |  Duration 8.45 sec\n",
      "Epoch 292 | Train IoU: 0.3984 | Train loss: 0.9874 |  Validation IoU: 0.0000 |  Duration 8.49 sec\n",
      "Epoch 293 | Train IoU: 0.3915 | Train loss: 0.9874 |  Validation IoU: 0.2789 |  Duration 8.40 sec\n",
      "Epoch 294 | Train IoU: 0.4025 | Train loss: 0.9874 |  Validation IoU: 0.1769 |  Duration 8.52 sec\n",
      "Epoch 295 | Train IoU: 0.4084 | Train loss: 0.9874 |  Validation IoU: 0.0240 |  Duration 8.57 sec\n",
      "Epoch 296 | Train IoU: 0.4049 | Train loss: 0.9874 |  Validation IoU: 0.0000 |  Duration 8.47 sec\n",
      "Epoch 297 | Train IoU: 0.4034 | Train loss: 0.9874 |  Validation IoU: 0.0000 |  Duration 8.60 sec\n",
      "Epoch 298 | Train IoU: 0.4142 | Train loss: 0.9874 |  Validation IoU: 0.0000 |  Duration 8.57 sec\n",
      "Epoch 299 | Train IoU: 0.3993 | Train loss: 0.9874 |  Validation IoU: 0.1933 |  Duration 8.56 sec\n"
     ]
    }
   ],
   "source": [
    "val_ious = []\n",
    "train_ious = []\n",
    "\n",
    "for epoch in range(1,300):\n",
    "    \n",
    "    t = time.time()\n",
    "    num_samples_epoch = 0\n",
    "    train_loss_cum = 0\n",
    "    train_iou_list = torch.Tensor().to(device)\n",
    "    \n",
    "    for x,y in train_loader:\n",
    "        \n",
    "        x,y = x.to(device), y.to(device)\n",
    "        \n",
    "        optimizer.zero_grad()\n",
    "        unet.train()\n",
    "        \n",
    "        output = unet(x)\n",
    "        loss = criterion(output.squeeze(), y) # + criterion2(output.squeeze(), y)\n",
    "        \n",
    "        loss.backward()\n",
    "        optimizer.step()\n",
    "        \n",
    "        # keep track of training loss\n",
    "        num_samples_epoch += x.shape[0]\n",
    "        train_loss_cum += loss * x.shape[0]\n",
    "        \n",
    "        # calculate train IoU scores and concat\n",
    "        unet.eval()\n",
    "        with torch.no_grad():\n",
    "            train_iou_list = torch.cat((train_iou_list, iou_metric(output, y)))\n",
    "    \n",
    "    # get median IoU on validation data\n",
    "    with torch.no_grad():\n",
    "        val_iou = evaluate(unet, val_loader)\n",
    "            \n",
    "    # average train_loss\n",
    "    train_loss = train_loss_cum / num_samples_epoch\n",
    "    \n",
    "    # get median IoU on train data\n",
    "    train_iou = torch.median(train_iou_list)   \n",
    "    \n",
    "    train_ious.append(train_iou)\n",
    "    val_ious.append(val_iou)\n",
    "    \n",
    "    epoch_duration = time.time() - t\n",
    "\n",
    "    print(f'Epoch {epoch} | Train IoU: {train_iou:.4f} | '\n",
    "          f'Train loss: {train_loss:.4f} | '\n",
    "          f' Validation IoU: {val_iou:.4f} | '\n",
    "          f' Duration {epoch_duration:.2f} sec')"
   ]
  },
  {
   "cell_type": "markdown",
   "metadata": {},
   "source": [
    "### Visualizing some results"
   ]
  },
  {
   "cell_type": "code",
   "execution_count": null,
   "metadata": {},
   "outputs": [],
   "source": [
    "# shows summary of model like in tensorflow\n",
    "summary = summary(unet, (1, 128, 128))"
   ]
  },
  {
   "cell_type": "code",
   "execution_count": 109,
   "metadata": {},
   "outputs": [],
   "source": [
    "for i in range(len(train_ious)):\n",
    "    train_ious[i] = train_ious[i].cpu().numpy()\n",
    "    val_ious[i] = val_ious[i].cpu().numpy()"
   ]
  },
  {
   "cell_type": "code",
   "execution_count": 114,
   "metadata": {},
   "outputs": [],
   "source": [
    "# mean\n",
    "mean_5_val_ious = []\n",
    "for i in range(len(val_ious) // 5):\n",
    "    mean_5_val_ious.append(np.mean(val_ious[i*5:(i+1)*5]))"
   ]
  },
  {
   "cell_type": "code",
   "execution_count": 121,
   "metadata": {},
   "outputs": [
    {
     "data": {
      "text/plain": [
       "[<matplotlib.lines.Line2D at 0x2203e58de50>]"
      ]
     },
     "execution_count": 121,
     "metadata": {},
     "output_type": "execute_result"
    },
    {
     "data": {
      "image/png": "[encoded data removed]",
      "text/plain": [
       "<Figure size 432x288 with 1 Axes>"
      ]
     },
     "metadata": {
      "needs_background": "light"
     },
     "output_type": "display_data"
    }
   ],
   "source": [
    "plt.plot(np.arange(len(train_ious)), train_ious)\n",
    "plt.plot(np.arange(len(train_ious)), val_ious)\n",
    "plt.plot(np.arange(0, 295, 5), mean_5_val_ious)"
   ]
  },
  {
   "cell_type": "code",
   "execution_count": null,
   "metadata": {},
   "outputs": [],
   "source": [
    "unet = unet.to('cpu')\n",
    "X_vis = train_images[:5]\n",
    "y_vis = train_labels[:5]\n",
    "res = unet(torch.from_numpy(X_vis))"
   ]
  },
  {
   "cell_type": "code",
   "execution_count": 16,
   "metadata": {},
   "outputs": [
    {
     "data": {
      "image/png": "[encoded data removed]",
      "text/plain": [
       "<Figure size 720x1296 with 10 Axes>"
      ]
     },
     "metadata": {
      "needs_background": "light"
     },
     "output_type": "display_data"
    }
   ],
   "source": [
    "fig, ax = plt.subplots(5,3)\n",
    "fig.set_figheight(18)\n",
    "fig.set_figwidth(10)\n",
    "for i in range(res.shape[0]):\n",
    "    \n",
    "    ax[i,0].imshow(res[i].squeeze().cpu().detach().numpy(), cmap='gray')\n",
    "    ax[i,1].imshow(y_vis[i].squeeze().cpu().detach().numpy(), cmap='gray')\n",
    "    ax[i,1].imshow(y_vis[i].squeeze().cpu().detach().numpy(), cmap='gray')\n",
    "plt.tight_layout()"
   ]
  },
  {
   "cell_type": "code",
   "execution_count": 120,
   "metadata": {},
   "outputs": [
    {
     "data": {
      "text/plain": [
       "(59,)"
      ]
     },
     "execution_count": 120,
     "metadata": {},
     "output_type": "execute_result"
    }
   ],
   "source": [
    "np.arange(0, 295, 5).shape"
   ]
  },
  {
   "cell_type": "code",
   "execution_count": null,
   "metadata": {},
   "outputs": [],
   "source": []
  }
 ],
 "metadata": {
  "kernelspec": {
   "display_name": "Python 3 (ipykernel)",
   "language": "python",
   "name": "python3"
  },
  "language_info": {
   "codemirror_mode": {
    "name": "ipython",
    "version": 3
   },
   "file_extension": ".py",
   "mimetype": "text/x-python",
   "name": "python",
   "nbconvert_exporter": "python",
   "pygments_lexer": "ipython3",
   "version": "3.9.11"
  },
  "vscode": {
   "interpreter": {
    "hash": "586f7db3c72cdbd2111a5fe733ffa252a59827d1d7df0e37a9fca40f971001cc"
   }
  }
 },
 "nbformat": 4,
 "nbformat_minor": 4
}

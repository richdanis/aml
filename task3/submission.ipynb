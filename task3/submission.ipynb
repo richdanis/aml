{
 "cells": [
  {
   "cell_type": "code",
   "execution_count": 1,
   "id": "2da757ad",
   "metadata": {},
   "outputs": [],
   "source": [
    "import pickle\n",
    "import gzip\n",
    "import numpy as np\n",
    "import os\n",
    "import time\n",
    "import cv2\n",
    "import torch\n",
    "import torch.nn as nn\n",
    "import torchvision.transforms as transforms\n",
    "from torch.utils.data import Dataset, DataLoader, TensorDataset\n",
    "import torch.optim as optim\n",
    "from matplotlib import pyplot as plt\n",
    "from torchsummary import summary\n",
    "import albumentations as A\n",
    "from albumentations.pytorch import ToTensorV2\n",
    "import random\n",
    "import torch.nn.functional as F\n",
    "from unet import Unet"
   ]
  },
  {
   "cell_type": "code",
   "execution_count": 2,
   "id": "0bd68158",
   "metadata": {},
   "outputs": [
    {
     "name": "stdout",
     "output_type": "stream",
     "text": [
      "Device used : mps\n"
     ]
    }
   ],
   "source": [
    "use_cuda = torch.cuda.is_available()\n",
    "device = torch.device(\"cuda:0\" if use_cuda else \"cpu\")\n",
    "\n",
    "mac=True\n",
    "if mac :\n",
    "    device = torch.device(\"mps\") # for silicon Mac\n",
    "    PYTORCH_ENABLE_MPS_FALLBACK=1\n",
    "\n",
    "print(f'Device used : {device}')"
   ]
  },
  {
   "cell_type": "code",
   "execution_count": 3,
   "id": "e3060935",
   "metadata": {},
   "outputs": [],
   "source": [
    "def load_zipped_pickle(filename):\n",
    "    with gzip.open(filename, 'rb') as f:\n",
    "        loaded_object = pickle.load(f)\n",
    "        return loaded_object\n",
    "\n",
    "def save_zipped_pickle(obj, filename):\n",
    "    with gzip.open(filename, 'wb') as f:\n",
    "        pickle.dump(obj, f, 2)"
   ]
  },
  {
   "cell_type": "code",
   "execution_count": 4,
   "id": "6d5d1826",
   "metadata": {},
   "outputs": [],
   "source": [
    "class TestDataset(Dataset):\n",
    "    \n",
    "    def __init__(self, video, transform=None):\n",
    "        self.transform = transform\n",
    "        self.images = video\n",
    "\n",
    "    def __len__(self):\n",
    "        return self.images.shape[2]#len(self.images)\n",
    "\n",
    "    def __getitem__(self, idx):\n",
    "        \n",
    "        image = self.images[:, :, idx]\n",
    "        \n",
    "        transformed = self.transform(image=image)\n",
    "        image = transformed[\"image\"]\n",
    "            \n",
    "        return torch.div(image, 255).float()"
   ]
  },
  {
   "cell_type": "code",
   "execution_count": 5,
   "id": "d731ed2c",
   "metadata": {},
   "outputs": [],
   "source": [
    "test_to_tensor = A.Compose(\n",
    "    [\n",
    "        A.Resize(128, 128),\n",
    "        A.augmentations.transforms.CLAHE(p=1),\n",
    "        ToTensorV2()\n",
    "    ]\n",
    ")"
   ]
  },
  {
   "cell_type": "code",
   "execution_count": 6,
   "id": "bd24e60f",
   "metadata": {},
   "outputs": [],
   "source": [
    "test_data = load_zipped_pickle(\"data/test.pkl\")"
   ]
  },
  {
   "cell_type": "code",
   "execution_count": 9,
   "id": "defc2909",
   "metadata": {},
   "outputs": [
    {
     "data": {
      "text/plain": [
       "Unet(\n",
       "  (max_pool): MaxPool2d(kernel_size=2, stride=2, padding=0, dilation=1, ceil_mode=False)\n",
       "  (block_enc_1): Sequential(\n",
       "    (0): Dropout(p=0.5, inplace=False)\n",
       "    (1): Conv2d(1, 8, kernel_size=(3, 3), stride=(1, 1), padding=same)\n",
       "    (2): ReLU()\n",
       "    (3): Conv2d(8, 8, kernel_size=(3, 3), stride=(1, 1), padding=same)\n",
       "    (4): ReLU()\n",
       "  )\n",
       "  (block_enc_2): Sequential(\n",
       "    (0): Dropout(p=0.5, inplace=False)\n",
       "    (1): Conv2d(8, 16, kernel_size=(3, 3), stride=(1, 1), padding=same)\n",
       "    (2): ReLU()\n",
       "    (3): Conv2d(16, 16, kernel_size=(3, 3), stride=(1, 1), padding=same)\n",
       "    (4): ReLU()\n",
       "  )\n",
       "  (block_enc_3): Sequential(\n",
       "    (0): Dropout(p=0.5, inplace=False)\n",
       "    (1): Conv2d(16, 32, kernel_size=(3, 3), stride=(1, 1), padding=same)\n",
       "    (2): ReLU()\n",
       "    (3): Conv2d(32, 32, kernel_size=(3, 3), stride=(1, 1), padding=same)\n",
       "    (4): ReLU()\n",
       "  )\n",
       "  (block_enc_4): Sequential(\n",
       "    (0): Dropout(p=0.5, inplace=False)\n",
       "    (1): Conv2d(32, 64, kernel_size=(3, 3), stride=(1, 1), padding=same)\n",
       "    (2): ReLU()\n",
       "    (3): Conv2d(64, 64, kernel_size=(3, 3), stride=(1, 1), padding=same)\n",
       "    (4): ReLU()\n",
       "  )\n",
       "  (block_inbetween): Sequential(\n",
       "    (0): Conv2d(64, 128, kernel_size=(3, 3), stride=(1, 1), padding=same)\n",
       "    (1): ReLU()\n",
       "    (2): Conv2d(128, 128, kernel_size=(3, 3), stride=(1, 1), padding=same)\n",
       "    (3): ReLU()\n",
       "    (4): ConvTranspose2d(128, 64, kernel_size=(2, 2), stride=(2, 2))\n",
       "  )\n",
       "  (block_dec_1): Sequential(\n",
       "    (0): Conv2d(128, 64, kernel_size=(3, 3), stride=(1, 1), padding=same)\n",
       "    (1): ReLU()\n",
       "    (2): Conv2d(64, 64, kernel_size=(3, 3), stride=(1, 1), padding=same)\n",
       "    (3): ReLU()\n",
       "    (4): ConvTranspose2d(64, 32, kernel_size=(2, 2), stride=(2, 2))\n",
       "  )\n",
       "  (block_dec_2): Sequential(\n",
       "    (0): Conv2d(64, 32, kernel_size=(3, 3), stride=(1, 1), padding=same)\n",
       "    (1): ReLU()\n",
       "    (2): Conv2d(32, 32, kernel_size=(3, 3), stride=(1, 1), padding=same)\n",
       "    (3): ReLU()\n",
       "    (4): ConvTranspose2d(32, 16, kernel_size=(2, 2), stride=(2, 2))\n",
       "  )\n",
       "  (block_dec_3): Sequential(\n",
       "    (0): Conv2d(32, 16, kernel_size=(3, 3), stride=(1, 1), padding=same)\n",
       "    (1): ReLU()\n",
       "    (2): Conv2d(16, 16, kernel_size=(3, 3), stride=(1, 1), padding=same)\n",
       "    (3): ReLU()\n",
       "    (4): ConvTranspose2d(16, 8, kernel_size=(2, 2), stride=(2, 2))\n",
       "  )\n",
       "  (block_last): Sequential(\n",
       "    (0): Conv2d(16, 8, kernel_size=(3, 3), stride=(1, 1), padding=same)\n",
       "    (1): ReLU()\n",
       "    (2): Conv2d(8, 8, kernel_size=(3, 3), stride=(1, 1), padding=same)\n",
       "    (3): ReLU()\n",
       "    (4): Conv2d(8, 1, kernel_size=(1, 1), stride=(1, 1))\n",
       "    (5): Sigmoid()\n",
       "  )\n",
       ")"
      ]
     },
     "execution_count": 9,
     "metadata": {},
     "output_type": "execute_result"
    }
   ],
   "source": [
    "# need to load model (unet) as well\n",
    "# code is not tested\n",
    "\n",
    "# choose the version of the model\n",
    "model_version='V01'\n",
    "\n",
    "# choose the checkpoint from which to load the auto-encoder\n",
    "epoch_load=150\n",
    "\n",
    "\n",
    "# load model from checkpoint\n",
    "unet = Unet(filters=8, kernel=3).to(device)\n",
    "checkpoint = torch.load(f'model/model_{model_version}_epoch_{epoch_load}.pt')\n",
    "unet.load_state_dict(checkpoint['model_state_dict'])\n",
    "unet = unet.to(device)\n",
    "\n",
    "# bring model to evaluation mode\n",
    "unet.eval()"
   ]
  },
  {
   "cell_type": "code",
   "execution_count": 10,
   "id": "76aa7d15",
   "metadata": {},
   "outputs": [],
   "source": [
    "# make prediction for test\n",
    "predictions = []\n",
    "for d in test_data:\n",
    "\n",
    "    prediction = np.array(np.zeros_like(d['video']), dtype=bool)\n",
    "    height = prediction.shape[0]\n",
    "    width = prediction.shape[1]\n",
    "\n",
    "    test_to_original = A.Compose([A.Resize(height, width)])\n",
    "\n",
    "    video = d['video']\n",
    "    test_dataset = TestDataset(video, test_to_tensor)\n",
    "\n",
    "    test_loader = DataLoader(test_dataset, batch_size=16, pin_memory=True, shuffle=False)\n",
    "\n",
    "    with torch.no_grad():\n",
    "        out = torch.Tensor().to(device)\n",
    "        for x in test_loader:\n",
    "            x = x.to(device)\n",
    "            #print(unet(x).shape)\n",
    "            out = torch.cat((out, unet(x)),dim=0)\n",
    "\n",
    "\n",
    "    out = out.cpu().numpy()\n",
    "\n",
    "    #print(out[0].squeeze().shape)\n",
    "        \n",
    "    for i in range(out.shape[0]):\n",
    "        prediction[:,:,i] = (test_to_original(image=out[i].squeeze())[\"image\"]> 0.5)#.transpose(1, 2, 0)\n",
    "    \n",
    "    # DATA Strucure\n",
    "    predictions.append({\n",
    "        'name': d['name'],\n",
    "        'prediction': prediction\n",
    "        }\n",
    "    )"
   ]
  },
  {
   "cell_type": "code",
   "execution_count": 13,
   "id": "d6bad4ee",
   "metadata": {},
   "outputs": [
    {
     "data": {
      "image/png": "[encoded data removed]",
      "text/plain": [
       "<Figure size 640x480 with 2 Axes>"
      ]
     },
     "metadata": {},
     "output_type": "display_data"
    }
   ],
   "source": [
    "video = 3\n",
    "frame = 10\n",
    "plt.imshow(predictions[video]['prediction'][:,:,frame])\n",
    "#plt.imshow(out[0].squeeze()> 0.5)\n",
    "plt.colorbar()\n",
    "plt.show()\n"
   ]
  },
  {
   "cell_type": "code",
   "execution_count": 12,
   "id": "b76ee8e0",
   "metadata": {},
   "outputs": [],
   "source": [
    "# save in correct format\n",
    "save_zipped_pickle(predictions, 'data/my_predictions.pkl')"
   ]
  }
 ],
 "metadata": {
  "kernelspec": {
   "display_name": "Python 3 (ipykernel)",
   "language": "python",
   "name": "python3"
  },
  "language_info": {
   "codemirror_mode": {
    "name": "ipython",
    "version": 3
   },
   "file_extension": ".py",
   "mimetype": "text/x-python",
   "name": "python",
   "nbconvert_exporter": "python",
   "pygments_lexer": "ipython3",
   "version": "3.10.6"
  },
  "vscode": {
   "interpreter": {
    "hash": "b72a1a9fcdc4a37b876d59b8fde098d6bda68dcbb49ecf7e0339451022590265"
   }
  }
 },
 "nbformat": 4,
 "nbformat_minor": 5
}

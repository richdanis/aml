{
 "cells": [
  {
   "cell_type": "code",
   "execution_count": null,
   "id": "2da757ad",
   "metadata": {},
   "outputs": [],
   "source": [
    "import pickle\n",
    "import gzip\n",
    "import numpy as np\n",
    "import os\n",
    "import time\n",
    "import cv2\n",
    "import torch\n",
    "import torch.nn as nn\n",
    "import torchvision.transforms as transforms\n",
    "from torch.utils.data import Dataset, DataLoader, TensorDataset\n",
    "import torch.optim as optim\n",
    "from matplotlib import pyplot as plt\n",
    "from torchsummary import summary\n",
    "import albumentations as A\n",
    "from albumentations.pytorch import ToTensorV2\n",
    "import random\n",
    "import torch.nn.functional as F"
   ]
  },
  {
   "cell_type": "code",
   "execution_count": null,
   "id": "0bd68158",
   "metadata": {},
   "outputs": [],
   "source": [
    "use_cuda = torch.cuda.is_available()\n",
    "device = torch.device(\"cuda:0\" if use_cuda else \"cpu\")"
   ]
  },
  {
   "cell_type": "code",
   "execution_count": null,
   "id": "e3060935",
   "metadata": {},
   "outputs": [],
   "source": [
    "def load_zipped_pickle(filename):\n",
    "    with gzip.open(filename, 'rb') as f:\n",
    "        loaded_object = pickle.load(f)\n",
    "        return loaded_object\n",
    "\n",
    "def save_zipped_pickle(obj, filename):\n",
    "    with gzip.open(filename, 'wb') as f:\n",
    "        pickle.dump(obj, f, 2)"
   ]
  },
  {
   "cell_type": "code",
   "execution_count": null,
   "id": "6d5d1826",
   "metadata": {},
   "outputs": [],
   "source": [
    "class TestDataset(Dataset):\n",
    "    \n",
    "    def __init__(self, images, transform=None):\n",
    "        self.transform = transform\n",
    "        self.images = images\n",
    "\n",
    "    def __len__(self):\n",
    "        return len(self.images)\n",
    "\n",
    "    def __getitem__(self, idx):\n",
    "        \n",
    "        image = self.images[:, :, idx]\n",
    "        \n",
    "        transformed = self.transform(image=image)\n",
    "        image = transformed[\"image\"]\n",
    "            \n",
    "        return torch.div(image, 255).float()"
   ]
  },
  {
   "cell_type": "code",
   "execution_count": null,
   "id": "d731ed2c",
   "metadata": {},
   "outputs": [],
   "source": [
    "test_to_tensor = A.Compose(\n",
    "    [\n",
    "        A.Resize(128, 128),\n",
    "        A.augmentations.transforms.CLAHE(p=1),\n",
    "        ToTensorV2()\n",
    "    ]\n",
    ")"
   ]
  },
  {
   "cell_type": "code",
   "execution_count": null,
   "id": "bd24e60f",
   "metadata": {},
   "outputs": [],
   "source": [
    "test_data = load_zipped_pickle(\"data/test.pkl\")"
   ]
  },
  {
   "cell_type": "code",
   "execution_count": null,
   "id": "defc2909",
   "metadata": {},
   "outputs": [],
   "source": [
    "# need to load model (unet) as well\n",
    "# code is not tested"
   ]
  },
  {
   "cell_type": "code",
   "execution_count": null,
   "id": "76aa7d15",
   "metadata": {},
   "outputs": [],
   "source": [
    "# make prediction for test\n",
    "predictions = []\n",
    "for d in test_data:\n",
    "\n",
    "    prediction = np.array(np.zeros_like(d['video']), dtype=bool)\n",
    "    height = prediction.shape[0]\n",
    "    width = prediction.shape[1]\n",
    "\n",
    "    test_to_original = A.Compose([A.Resize(height, width)])\n",
    "\n",
    "    video = d['video']\n",
    "    test_dataset = TestDataset(video, test_to_tensor)\n",
    "    test_loader = DataLoader(test_dataset, batch_size=16, pin_memory=True)\n",
    "\n",
    "    with torch.no_grad():\n",
    "        out = torch.Tensor().to(device)\n",
    "        for x in test_loader:\n",
    "            x = x.to(device)\n",
    "            torch.cat((out, unet(x)))\n",
    "\n",
    "    for i in range(out.shape[0]):\n",
    "        out[i] = test_to_original(image=out[i])[\"image\"]\n",
    "\n",
    "    out = (out > 0.5).cpu().numpy()\n",
    "    out = out.transpose(1, 2, 0)\n",
    "\n",
    "    prediction[int(height/2)-50:int(height/2+50), int(width/2)-50:int(width/2+50)] = out[int(height/2)-50:int(height/2+50), int(width/2)-50:int(width/2+50)]\n",
    "    \n",
    "    # DATA Strucure\n",
    "    predictions.append({\n",
    "        'name': d['name'],\n",
    "        'prediction': prediction\n",
    "        }\n",
    "    )"
   ]
  },
  {
   "cell_type": "code",
   "execution_count": null,
   "id": "b76ee8e0",
   "metadata": {},
   "outputs": [],
   "source": [
    "# save in correct format\n",
    "save_zipped_pickle(predictions, 'data/my_predictions.pkl')"
   ]
  }
 ],
 "metadata": {
  "kernelspec": {
   "display_name": "Python 3 (ipykernel)",
   "language": "python",
   "name": "python3"
  },
  "language_info": {
   "codemirror_mode": {
    "name": "ipython",
    "version": 3
   },
   "file_extension": ".py",
   "mimetype": "text/x-python",
   "name": "python",
   "nbconvert_exporter": "python",
   "pygments_lexer": "ipython3",
   "version": "3.9.11"
  }
 },
 "nbformat": 4,
 "nbformat_minor": 5
}

{
 "cells": [
  {
   "cell_type": "code",
   "execution_count": 17,
   "id": "5ebd492a",
   "metadata": {},
   "outputs": [],
   "source": [
    "import numpy as np\n",
    "import pandas as pd\n",
    "import sklearn\n",
    "import matplotlib.pyplot as plt\n",
    "import biosppy\n",
    "from sklearn.preprocessing import normalize\n",
    "from sklearn.ensemble import GradientBoostingClassifier\n",
    "from sklearn.metrics import f1_score\n",
    "from sklearn.impute import KNNImputer\n",
    "from sklearn.model_selection import KFold, GridSearchCV"
   ]
  },
  {
   "cell_type": "code",
   "execution_count": 18,
   "id": "d0e16ed5",
   "metadata": {},
   "outputs": [],
   "source": [
    "from sklearn.ensemble import RandomForestClassifier,ExtraTreesClassifier\n",
    "from sklearn.feature_selection import SelectFromModel"
   ]
  },
  {
   "cell_type": "code",
   "execution_count": 30,
   "id": "97f26a5e",
   "metadata": {},
   "outputs": [],
   "source": [
    "def dataImputation(X):\n",
    "    imputer = KNNImputer(n_neighbors=5)\n",
    "    X = imputer.fit_transform(X)\n",
    "    return X"
   ]
  },
  {
   "cell_type": "code",
   "execution_count": 31,
   "id": "dc52459e",
   "metadata": {},
   "outputs": [],
   "source": [
    "def FeatureSelectionModel(X,y):\n",
    "    clf = RandomForestClassifier(random_state=0)\n",
    "    clf.fit(X, y)\n",
    "    model = SelectFromModel(clf, max_features=100,prefit=True,threshold=-np.inf)\n",
    "    return model\n",
    "\n",
    "def FeatureSelection(model,X):\n",
    "    return model.transform(X)\n",
    "\n",
    "def check_corr(X, thresold):\n",
    "    corr_matrix = np.corrcoef(X.T)\n",
    "    check_dict = {}\n",
    "    for i in range(X.shape[1]-1):\n",
    "        for j in range(i+1,X.shape[1]):\n",
    "            if corr_matrix[i,j]>thresold:\n",
    "                check_dict[(i,j)] = corr_matrix[i,j]\n",
    "    return check_dict"
   ]
  },
  {
   "cell_type": "code",
   "execution_count": 32,
   "id": "d6a9dc97",
   "metadata": {},
   "outputs": [],
   "source": [
    "X_train_features_last = pd.read_csv('data/X_train_features.csv').iloc[:,1:]\n",
    "X_test_features_last = pd.read_csv('data/X_test_features.csv').iloc[:,1:]\n",
    "X_train_features_new = pd.read_csv('data/X_train_features_new.csv').iloc[:,1:]\n",
    "X_test_features_new = pd.read_csv('data/X_test_features_new.csv',).iloc[:,1:]\n",
    "y = pd.read_csv('data/y_train.csv').loc[:,'y']"
   ]
  },
  {
   "cell_type": "code",
   "execution_count": 33,
   "id": "e6d5221a",
   "metadata": {},
   "outputs": [],
   "source": [
    "X_train_features = pd.concat([X_train_features_last, X_train_features_new], axis=1)\n",
    "X_test_features = pd.concat([X_test_features_last, X_test_features_new], axis=1)"
   ]
  },
  {
   "cell_type": "markdown",
   "id": "96a83fe7",
   "metadata": {},
   "source": [
    "Replace infinities"
   ]
  },
  {
   "cell_type": "code",
   "execution_count": 34,
   "id": "d8ed7d7f",
   "metadata": {},
   "outputs": [],
   "source": [
    "X_train_features = X_train_features.replace(-np.inf,-1)\n",
    "X_test_features = X_test_features.replace(-np.inf,-1)\n",
    "X_train_features = X_train_features.replace(np.inf,-1)\n",
    "X_test_features = X_test_features.replace(np.inf,-1)"
   ]
  },
  {
   "cell_type": "markdown",
   "id": "5b27bc36",
   "metadata": {},
   "source": [
    "KNN"
   ]
  },
  {
   "cell_type": "code",
   "execution_count": 35,
   "id": "7b12d58b",
   "metadata": {},
   "outputs": [],
   "source": [
    "X_train_features_knn = dataImputation(X_train_features)\n",
    "X_test_features_knn = dataImputation(X_test_features)"
   ]
  },
  {
   "cell_type": "code",
   "execution_count": 36,
   "id": "93471400",
   "metadata": {},
   "outputs": [],
   "source": [
    "model = FeatureSelectionModel(X_train_features_knn,y)\n",
    "X_train_features_knn = FeatureSelection(model,X_train_features_knn)\n",
    "X_test_features_knn = FeatureSelection(model,X_test_features_knn)"
   ]
  },
  {
   "cell_type": "code",
   "execution_count": 37,
   "id": "bd5afe10",
   "metadata": {},
   "outputs": [],
   "source": [
    "pd.DataFrame(X_train_features_knn).to_csv('data/X_train_features_knn_100.csv')\n",
    "pd.DataFrame(X_test_features_knn).to_csv('data/X_test_features_knn_100.csv')"
   ]
  },
  {
   "cell_type": "markdown",
   "id": "fcbc55f5",
   "metadata": {},
   "source": [
    "Fill Zero"
   ]
  },
  {
   "cell_type": "code",
   "execution_count": 38,
   "id": "8f27a70d",
   "metadata": {},
   "outputs": [],
   "source": [
    "X_train_features_fill0 = X_train_features.fillna(0)\n",
    "X_test_features_fill0 = X_test_features.fillna(0)"
   ]
  },
  {
   "cell_type": "code",
   "execution_count": 39,
   "id": "eb40742e",
   "metadata": {},
   "outputs": [
    {
     "name": "stderr",
     "output_type": "stream",
     "text": [
      "C:\\Users\\Richard\\miniconda3\\envs\\pytcu10\\lib\\site-packages\\sklearn\\base.py:443: UserWarning: X has feature names, but SelectFromModel was fitted without feature names\n",
      "  warnings.warn(\n",
      "C:\\Users\\Richard\\miniconda3\\envs\\pytcu10\\lib\\site-packages\\sklearn\\base.py:443: UserWarning: X has feature names, but SelectFromModel was fitted without feature names\n",
      "  warnings.warn(\n"
     ]
    }
   ],
   "source": [
    "model = FeatureSelectionModel(X_train_features_fill0,y)\n",
    "X_train_features_fill0= FeatureSelection(model,X_train_features_fill0)\n",
    "X_test_features_fill0 = FeatureSelection(model,X_test_features_fill0)"
   ]
  },
  {
   "cell_type": "code",
   "execution_count": 40,
   "id": "db9d77b3",
   "metadata": {},
   "outputs": [],
   "source": [
    "pd.DataFrame(X_train_features_fill0).to_csv('data/X_train_features_fill0_100.csv')\n",
    "pd.DataFrame(X_test_features_fill0).to_csv('data/X_test_features_fill0_100.csv')"
   ]
  },
  {
   "cell_type": "code",
   "execution_count": 68,
   "id": "8c4a6360",
   "metadata": {},
   "outputs": [],
   "source": [
    "def check_corr(X, thresold):\n",
    "    corr_matrix = np.corrcoef(X.T)\n",
    "    check_dict = {}\n",
    "    for i in range(X.shape[1]-1):\n",
    "        for j in range(i+1,X.shape[1]):\n",
    "            if corr_matrix[i,j]>thresold:\n",
    "                check_dict[(i,j)] = corr_matrix[i,j]\n",
    "    return check_dict"
   ]
  },
  {
   "cell_type": "code",
   "execution_count": null,
   "id": "231f4296",
   "metadata": {},
   "outputs": [],
   "source": []
  }
 ],
 "metadata": {
  "kernelspec": {
   "display_name": "Python 3 (ipykernel)",
   "language": "python",
   "name": "python3"
  },
  "language_info": {
   "codemirror_mode": {
    "name": "ipython",
    "version": 3
   },
   "file_extension": ".py",
   "mimetype": "text/x-python",
   "name": "python",
   "nbconvert_exporter": "python",
   "pygments_lexer": "ipython3",
   "version": "3.9.11"
  }
 },
 "nbformat": 4,
 "nbformat_minor": 5
}

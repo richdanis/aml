{
 "cells": [
  {
   "cell_type": "code",
   "execution_count": null,
   "id": "5ebd492a",
   "metadata": {},
   "outputs": [],
   "source": [
    "import numpy as np\n",
    "import pandas as pd\n",
    "import pywt\n",
    "import sklearn\n",
    "import matplotlib.pyplot as plt\n",
    "import biosppy\n",
    "from sklearn.preprocessing import normalize\n",
    "from sklearn.ensemble import GradientBoostingClassifier\n",
    "from sklearn.metrics import f1_score\n",
    "from sklearn.impute import KNNImputer\n",
    "from sklearn.model_selection import KFold, GridSearchCV"
   ]
  },
  {
   "cell_type": "code",
   "execution_count": null,
   "id": "d0e16ed5",
   "metadata": {},
   "outputs": [],
   "source": [
    "from sklearn.ensemble import RandomForestClassifier,ExtraTreesClassifier\n",
    "from sklearn.feature_selection import SelectFromModel"
   ]
  },
  {
   "cell_type": "code",
   "execution_count": null,
   "id": "5e6f2330",
   "metadata": {},
   "outputs": [],
   "source": [
    "dl_train_1 = pd.read_csv('dense-5k_1.txt',sep=' ',header=None)\n",
    "dl_train_2 = pd.read_csv('dense-5k_2.txt',sep=' ',header=None)\n",
    "dl_train = dl_train_1.append(dl_train_2)\n",
    "dl_test_1 = pd.read_csv('dense1_5k-test.txt',sep=' ',header=None)\n",
    "dl_test_2 = pd.read_csv('dense2_5k-test.txt',sep=' ',header=None)\n",
    "dl_test = dl_test_1.append(dl_test_2)"
   ]
  },
  {
   "cell_type": "code",
   "execution_count": null,
   "id": "97f26a5e",
   "metadata": {},
   "outputs": [],
   "source": [
    "def dataImputation(X):\n",
    "    imputer = KNNImputer(n_neighbors=5)\n",
    "    X = imputer.fit_transform(X)\n",
    "    return X"
   ]
  },
  {
   "cell_type": "code",
   "execution_count": null,
   "id": "dc52459e",
   "metadata": {},
   "outputs": [],
   "source": [
    "def FeatureSelectionModel(X,y):\n",
    "    clf = RandomForestClassifier(random_state=0)\n",
    "    clf.fit(X, y)\n",
    "    model = SelectFromModel(clf, max_features=100,prefit=True,threshold=-np.inf)\n",
    "    return model\n",
    "\n",
    "def FeatureSelection(model,X):\n",
    "    return model.transform(X)"
   ]
  },
  {
   "cell_type": "code",
   "execution_count": null,
   "id": "42eb8423",
   "metadata": {},
   "outputs": [],
   "source": [
    "model = FeatureSelectionModel(dl_train,y)"
   ]
  },
  {
   "cell_type": "code",
   "execution_count": null,
   "id": "686e3ec4",
   "metadata": {},
   "outputs": [],
   "source": [
    "dl_train = FeatureSelection(model,dl_train)\n",
    "dl_test = FeatureSelection(model,dl_test)"
   ]
  },
  {
   "cell_type": "code",
   "execution_count": null,
   "id": "1e5452b4",
   "metadata": {},
   "outputs": [],
   "source": [
    "dl_test.shape"
   ]
  },
  {
   "cell_type": "code",
   "execution_count": null,
   "id": "bda7913b",
   "metadata": {},
   "outputs": [],
   "source": [
    "ecg_train = pd.read_csv('ECG_old_features_train.csv').drop('Unnamed: 0',axis=1)\n",
    "ecg_test = pd.read_csv('ECG_old_features_test.csv').drop('Unnamed: 0',axis=1)"
   ]
  },
  {
   "cell_type": "code",
   "execution_count": null,
   "id": "6a767ea6",
   "metadata": {},
   "outputs": [],
   "source": [
    "fef_train = pd.read_csv('feat_extract_features_train.csv').drop('Unnamed: 0',axis=1)\n",
    "fef_test = pd.read_csv('feat_extract_features_test.csv').drop('Unnamed: 0',axis=1)"
   ]
  },
  {
   "cell_type": "code",
   "execution_count": null,
   "id": "0e77e03e",
   "metadata": {},
   "outputs": [],
   "source": [
    "feat_train"
   ]
  },
  {
   "cell_type": "code",
   "execution_count": null,
   "id": "0cf009dc",
   "metadata": {},
   "outputs": [],
   "source": [
    "feat_train = pd.read_csv('new_feat_sd_train.csv').drop('Unnamed: 0',axis=1)\n",
    "feat_test = pd.read_csv('new_feat_sd_test.csv').drop('Unnamed: 0',axis=1)"
   ]
  },
  {
   "cell_type": "code",
   "execution_count": null,
   "id": "7ce6fd9f",
   "metadata": {},
   "outputs": [],
   "source": [
    "feat_train = feat_train.drop('3',1)\n",
    "feat_test = feat_test.drop('3',1)"
   ]
  },
  {
   "cell_type": "code",
   "execution_count": null,
   "id": "c308fdcb",
   "metadata": {},
   "outputs": [],
   "source": [
    "hrv_train = pd.read_csv('train-hrv.txt',sep=' ',header=None)\n",
    "hrv_test = pd.read_csv('test-hrv.txt',sep=' ',header=None)"
   ]
  },
  {
   "cell_type": "code",
   "execution_count": null,
   "id": "2308d6e9",
   "metadata": {},
   "outputs": [],
   "source": [
    "pr_train = pd.read_csv('train-pr.txt',sep=' ',header=None)\n",
    "pr_test = pd.read_csv('test-pr.txt',sep=' ',header=None)"
   ]
  },
  {
   "cell_type": "code",
   "execution_count": null,
   "id": "91ba3697",
   "metadata": {},
   "outputs": [],
   "source": [
    "soa_train = pd.read_csv('train-soa.txt',sep=' ',header=None)\n",
    "soa_test = pd.read_csv('test-soa.txt',sep=' ',header=None)"
   ]
  },
  {
   "cell_type": "code",
   "execution_count": null,
   "id": "610cb727",
   "metadata": {},
   "outputs": [],
   "source": [
    "of_train = pd.read_csv('train-other-features.txt',sep=' ',header=None)\n",
    "of_test = pd.read_csv('test-other-features.txt',sep=' ',header=None)"
   ]
  },
  {
   "cell_type": "code",
   "execution_count": null,
   "id": "c0bd7507",
   "metadata": {},
   "outputs": [],
   "source": [
    "X_train_features.to_csv('unimputated_features_train.csv')\n",
    "X_test_features.to_csv('unimputated_features_test.csv')"
   ]
  },
  {
   "cell_type": "code",
   "execution_count": null,
   "id": "bf111dff",
   "metadata": {},
   "outputs": [],
   "source": [
    "X_train_features = pd.concat([ecg_train,hrv_train,fef_train,pr_train,soa_train,of_train,feat_train],axis=1)\n",
    "X_test_features = pd.concat([ecg_test,hrv_test,fef_test,pr_test,soa_test,of_test,feat_test],axis=1)\n",
    "X_train_features.columns = [str(i) for i in range(X_train_features.shape[1])]\n",
    "X_test_features.columns = [str(i) for i in range(X_test_features.shape[1])]"
   ]
  },
  {
   "cell_type": "code",
   "execution_count": null,
   "id": "54c2ea5f",
   "metadata": {},
   "outputs": [],
   "source": [
    "X_train_features=np.array(X_train_features.fillna(0))\n",
    "X_test_features=np.array(X_test_features.fillna(0))"
   ]
  },
  {
   "cell_type": "code",
   "execution_count": null,
   "id": "501bfd2e",
   "metadata": {},
   "outputs": [],
   "source": [
    "#X_train_features_part = pd.concat([ecg_train,hrv_train,pr_train,soa_train],axis=1)\n",
    "#X_test_features_part = pd.concat([ecg_test,hrv_test,pr_test,soa_test],axis=1)\n",
    "#X_train_features_part.columns = [str(i) for i in range(X_train_features_part.shape[1])]\n",
    "#X_test_features_part.columns = [str(i) for i in range(X_test_features_part.shape[1])]"
   ]
  },
  {
   "cell_type": "code",
   "execution_count": null,
   "id": "689ce455",
   "metadata": {},
   "outputs": [],
   "source": [
    "stats_signal_train = pd.read_csv('train-signalstat.txt',sep=' ',header=None).fillna(0)\n",
    "stats_signal_test = pd.read_csv('test-signalstat.txt',sep=' ',header=None).fillna(0)\n",
    "X_train_features_withss = pd.concat([ecg_train,hrv_train,fef_train,pr_train,soa_train,of_train,feat_train,stats_signal_train],axis=1).fillna(0)\n",
    "X_test_features_withss = pd.concat([ecg_test,hrv_test,fef_test,pr_test,soa_test,of_test,feat_test,stats_signal_test],axis=1).fillna(0)"
   ]
  },
  {
   "cell_type": "code",
   "execution_count": null,
   "id": "8eaa6bc6",
   "metadata": {},
   "outputs": [],
   "source": [
    "model = FeatureSelectionModel(X_train_features_withss,y)\n",
    "X_train_features_withss_sl = FeatureSelection(model,X_train_features_withss)\n",
    "X_test_features_withss_sl = FeatureSelection(model,X_test_features_withss)"
   ]
  },
  {
   "cell_type": "code",
   "execution_count": null,
   "id": "25543707",
   "metadata": {},
   "outputs": [],
   "source": [
    "model = FeatureSelectionModel(stats_signal_train,y)\n",
    "stats_signal_train_sl = FeatureSelection(model,stats_signal_train)\n",
    "stats_signal_test_sl = FeatureSelection(model,stats_signal_test)"
   ]
  },
  {
   "cell_type": "code",
   "execution_count": null,
   "id": "22280e44",
   "metadata": {},
   "outputs": [],
   "source": [
    "X_test_features"
   ]
  },
  {
   "cell_type": "code",
   "execution_count": null,
   "id": "fa52ccf2",
   "metadata": {},
   "outputs": [],
   "source": [
    "a = list(np.where(pd.isnull(X_train_features)))\n",
    "a_kind = set(a[1])\n",
    "pect_count_dict_train = {}\n",
    "for i in a_kind:\n",
    "    pect_count_dict_train[i] = list(a[1]).count(i)/5117"
   ]
  },
  {
   "cell_type": "code",
   "execution_count": null,
   "id": "ff1e02c0",
   "metadata": {},
   "outputs": [],
   "source": [
    "pect_count_dict_train"
   ]
  },
  {
   "cell_type": "code",
   "execution_count": null,
   "id": "109c4ab6",
   "metadata": {},
   "outputs": [],
   "source": [
    "a = list(np.where(pd.isnull(X_test_features)))\n",
    "a_kind = set(a[1])\n",
    "pect_count_dict_test = {}\n",
    "for i in a_kind:\n",
    "    pect_count_dict_test[i] = list(a[1]).count(i)/5117"
   ]
  },
  {
   "cell_type": "code",
   "execution_count": null,
   "id": "6107309e",
   "metadata": {},
   "outputs": [],
   "source": [
    "pect_count_dict_test"
   ]
  },
  {
   "cell_type": "code",
   "execution_count": null,
   "id": "418df695",
   "metadata": {},
   "outputs": [],
   "source": [
    "X_train_features = X_train_features.drop(['75','76','138','139'],1)\n",
    "X_test_features = X_test_features.drop(['75','76','138','139'],1)"
   ]
  },
  {
   "cell_type": "code",
   "execution_count": null,
   "id": "b7cbaedd",
   "metadata": {},
   "outputs": [],
   "source": [
    "X = X_train_features.append(X_test_features)\n",
    "X = dataImputation(X)\n",
    "X.shape"
   ]
  },
  {
   "cell_type": "code",
   "execution_count": null,
   "id": "90b2a78b",
   "metadata": {},
   "outputs": [],
   "source": [
    "X_train_features = X[:X_train_features.shape[0]]\n",
    "X_test_features = X[X_train_features.shape[0]:]"
   ]
  },
  {
   "cell_type": "code",
   "execution_count": null,
   "id": "19cd5abd",
   "metadata": {},
   "outputs": [],
   "source": [
    "model = FeatureSelectionModel(X_train_features,y)"
   ]
  },
  {
   "cell_type": "code",
   "execution_count": null,
   "id": "28ae3a15",
   "metadata": {},
   "outputs": [],
   "source": [
    "X_train_features = FeatureSelection(model,X_train_features)\n",
    "X_test_features = FeatureSelection(model,X_test_features)"
   ]
  },
  {
   "cell_type": "code",
   "execution_count": null,
   "id": "0ad9f7eb",
   "metadata": {},
   "outputs": [],
   "source": [
    "X_test_features.shape"
   ]
  },
  {
   "cell_type": "code",
   "execution_count": null,
   "id": "b6efa2b8",
   "metadata": {},
   "outputs": [],
   "source": [
    "X_train_features_op = pd.DataFrame(X_train_features)\n",
    "X_test_features_op = pd.DataFrame(X_test_features)"
   ]
  },
  {
   "cell_type": "code",
   "execution_count": null,
   "id": "d98736dd",
   "metadata": {},
   "outputs": [],
   "source": [
    "X_train_features_op.to_csv('X_train_features_100.csv',index=None)\n",
    "X_test_features_op.to_csv('X_test_features_100.csv',index=None)"
   ]
  },
  {
   "cell_type": "code",
   "execution_count": null,
   "id": "c3c8199d",
   "metadata": {},
   "outputs": [],
   "source": [
    "a = pd.read_csv('X_train_features_100.csv')\n",
    "a"
   ]
  },
  {
   "cell_type": "code",
   "execution_count": null,
   "id": "20a33656",
   "metadata": {},
   "outputs": [],
   "source": [
    "X_train_features_op"
   ]
  },
  {
   "cell_type": "code",
   "execution_count": null,
   "id": "74f506fd",
   "metadata": {},
   "outputs": [],
   "source": [
    "X_train_features = dataImputation(X_train_features)\n",
    "X_train_features"
   ]
  },
  {
   "cell_type": "code",
   "execution_count": null,
   "id": "e6938a2f",
   "metadata": {},
   "outputs": [],
   "source": [
    "X_test_features = dataImputation(X_test_features)"
   ]
  },
  {
   "cell_type": "code",
   "execution_count": null,
   "id": "978bb1e1",
   "metadata": {},
   "outputs": [],
   "source": [
    "y = np.array(pd.read_csv('y_train.csv',index_col='id'))\n",
    "X_train_features = np.array(X_train_features.fillna(0))\n",
    "X_train_features_withss = np.array(X_train_features_withss.fillna(0))\n",
    "X_test_features = np.array(X_test_features.fillna(0))\n",
    "X_test_features_withss = np.array(X_test_features_withss.fillna(0))"
   ]
  },
  {
   "cell_type": "code",
   "execution_count": null,
   "id": "b70172f4",
   "metadata": {},
   "outputs": [],
   "source": [
    "X_train_features_withss.shape"
   ]
  },
  {
   "cell_type": "code",
   "execution_count": null,
   "id": "e4f24f9a",
   "metadata": {},
   "outputs": [],
   "source": [
    "X_train_features_with30ss = np.concatenate([X_train_features,stats_signal_train_sl],axis=1)\n",
    "X_test_features_with30ss = np.concatenate([X_test_features,stats_signal_test_sl],axis=1)"
   ]
  },
  {
   "cell_type": "code",
   "execution_count": null,
   "id": "7152e9d5",
   "metadata": {},
   "outputs": [],
   "source": [
    "X_train_features_withDL = np.concatenate([X_train_features,dl_train],axis=1)\n",
    "X_test_features_withDL = np.concatenate([X_test_features,dl_test],axis=1)"
   ]
  },
  {
   "cell_type": "code",
   "execution_count": null,
   "id": "f40ecdfa",
   "metadata": {},
   "outputs": [],
   "source": [
    "num_folds = 5\n",
    "kf = sklearn.model_selection.KFold(num_folds)\n",
    "lr = [0.01, 0.05, 0.1, 0.25, 0.5]\n",
    "n_estimators = [600]\n",
    "max_depth = [5, 6, 7, 8, 9]\n",
    "avg_F1 = []\n",
    "conf_mat = np.zeros((4,4))\n",
    "for ne_i in n_estimators:\n",
    "    avg_F1_i = []\n",
    "    for train_index, test_index in kf.split(X_train_features):\n",
    "        x_trn, y_trn = X_train_features[train_index], y[train_index]\n",
    "        x_tst, y_tst = X_train_features[test_index], y[test_index]\n",
    "        clf = sklearn.ensemble.GradientBoostingClassifier(learning_rate=0.1, n_estimators=ne_i, max_depth=8, \n",
    "                                    min_samples_split=50, min_samples_leaf=30,\n",
    "                                    max_features='sqrt', random_state=1, subsample=0.8)\n",
    "        clf.fit(x_trn, y_trn)\n",
    "        y_pred = clf.predict(x_tst)\n",
    "        print(f1_score(y_tst, y_pred, average='micro'))\n",
    "        avg_F1_i.append(f1_score(y_tst, y_pred, average='micro'))\n",
    "    avg_F1.append(avg_F1_i)\n",
    "#        conf_mat = conf_mat + confusion_matrix(y_tst, y_pred)/ num_folds\n",
    "avg_F1"
   ]
  },
  {
   "cell_type": "code",
   "execution_count": null,
   "id": "3190eaa3",
   "metadata": {},
   "outputs": [],
   "source": [
    "sum_dict_new"
   ]
  },
  {
   "cell_type": "code",
   "execution_count": null,
   "id": "cf3fdef8",
   "metadata": {},
   "outputs": [],
   "source": [
    "sum_dict_new['sub35:knn+filter0.9+gb, 0.858328393598'] = avg_F1[0]"
   ]
  },
  {
   "cell_type": "code",
   "execution_count": null,
   "id": "0bf46af6",
   "metadata": {},
   "outputs": [],
   "source": [
    "sum_dict['sub27:fill0+rf100+gb,0.858328393598']=avg_F1[0]"
   ]
  },
  {
   "cell_type": "code",
   "execution_count": null,
   "id": "b51f6d26",
   "metadata": {},
   "outputs": [],
   "source": [
    "sum_dict['sub25:rf100+gb,0.857142857143']=[0.8427734375,0.845703125,0.8543499511241447,0.8289345063538613,0.829912023460410611]"
   ]
  },
  {
   "cell_type": "code",
   "execution_count": null,
   "id": "812a1d5f",
   "metadata": {},
   "outputs": [],
   "source": [
    "sum_dict['sub24:144+gb,0.855957320688']=avg_F1[0]"
   ]
  },
  {
   "cell_type": "code",
   "execution_count": null,
   "id": "060d5ad8",
   "metadata": {},
   "outputs": [],
   "source": [
    "X_train_features.shape"
   ]
  },
  {
   "cell_type": "code",
   "execution_count": null,
   "id": "bbcfde48",
   "metadata": {},
   "outputs": [],
   "source": [
    "y_trn.shape"
   ]
  },
  {
   "cell_type": "code",
   "execution_count": null,
   "id": "2c37e04b",
   "metadata": {},
   "outputs": [],
   "source": [
    "ecg_train = np.array()"
   ]
  },
  {
   "cell_type": "code",
   "execution_count": null,
   "id": "5cd98436",
   "metadata": {},
   "outputs": [],
   "source": [
    "clf = sklearn.ensemble.GradientBoostingClassifier(learning_rate=0.1, n_estimators=600, max_depth=8, \n",
    "                                                  min_samples_split=50, min_samples_leaf=30,max_features='sqrt', \n",
    "                                                  random_state=1, subsample=0.8)\n",
    "clf.fit(X_train_features, y)\n",
    "predictions = clf.predict(X_test_features)\n",
    "ids = np.arange(0, len(predictions))\n",
    "output = pd.DataFrame({'id': ids,\n",
    "                           'y': predictions})\n",
    "output.to_csv(\"prediction_knn_filtered.csv\", index=False)"
   ]
  },
  {
   "cell_type": "code",
   "execution_count": null,
   "id": "f892faba",
   "metadata": {},
   "outputs": [],
   "source": [
    "X_train_features.shape"
   ]
  },
  {
   "cell_type": "code",
   "execution_count": null,
   "id": "beed742e",
   "metadata": {},
   "outputs": [],
   "source": [
    "y.shape"
   ]
  },
  {
   "cell_type": "code",
   "execution_count": null,
   "id": "9ae2870c",
   "metadata": {},
   "outputs": [],
   "source": [
    "X_train_features"
   ]
  },
  {
   "cell_type": "code",
   "execution_count": null,
   "id": "170f34b9",
   "metadata": {},
   "outputs": [],
   "source": [
    "X_train_features = pd.read_csv('X_train_features_143.csv')\n",
    "X_test_features = pd.read_csv('X_test_features_143.csv')"
   ]
  },
  {
   "cell_type": "code",
   "execution_count": null,
   "id": "480abefd",
   "metadata": {},
   "outputs": [],
   "source": [
    "def check_corr(X, thresold):\n",
    "    corr_matrix = np.corrcoef(X.T)\n",
    "    check_dict = {}\n",
    "    i_list = []\n",
    "    for i in range(X.shape[1]-1):\n",
    "        for j in range(i+1,X.shape[1]):\n",
    "            if corr_matrix[i,j]>thresold:\n",
    "                i_list.append(i)\n",
    "                check_dict[(i,j)] = corr_matrix[i,j]\n",
    "    return check_dict,list(set(i_list))"
   ]
  },
  {
   "cell_type": "code",
   "execution_count": null,
   "id": "b538ac37",
   "metadata": {},
   "outputs": [],
   "source": [
    "X = X_train_features.append(X_test_features)"
   ]
  },
  {
   "cell_type": "code",
   "execution_count": null,
   "id": "2f8890e2",
   "metadata": {},
   "outputs": [],
   "source": [
    "check_dict,i_list = check_corr(X, 0.9)\n",
    "len(i_list)"
   ]
  },
  {
   "cell_type": "code",
   "execution_count": null,
   "id": "46663c52",
   "metadata": {},
   "outputs": [],
   "source": [
    "check_dict_re, i_list_re = check_corr(X_filtered, 0.9)\n",
    "check_dict_re"
   ]
  },
  {
   "cell_type": "code",
   "execution_count": null,
   "id": "e5d09006",
   "metadata": {},
   "outputs": [],
   "source": [
    "X_filtered = X.drop([str(i) for i in i_list],1)"
   ]
  },
  {
   "cell_type": "code",
   "execution_count": null,
   "id": "b504e748",
   "metadata": {},
   "outputs": [],
   "source": [
    "X_train_features = X_filtered[:X_train_features.shape[0]]\n",
    "X_test_features = X_filtered[X_train_features.shape[0]:]"
   ]
  },
  {
   "cell_type": "code",
   "execution_count": null,
   "id": "16157246",
   "metadata": {},
   "outputs": [],
   "source": [
    "X_train_features,X_test_features = np.array(X_train_features),np.array(X_test_features)"
   ]
  },
  {
   "cell_type": "code",
   "execution_count": null,
   "id": "54fca133",
   "metadata": {},
   "outputs": [],
   "source": [
    "X_train_features.to_csv('X_train_features_107.csv',index=None)\n",
    "X_test_features.to_csv('X_test_features_107.csv',index=None)"
   ]
  },
  {
   "cell_type": "code",
   "execution_count": null,
   "id": "de974104",
   "metadata": {},
   "outputs": [],
   "source": [
    "rf = RandomForestClassifier(class_weight = 'balanced')\n",
    "rf.fit(X_train_features,y)"
   ]
  },
  {
   "cell_type": "code",
   "execution_count": null,
   "id": "53ec420d",
   "metadata": {
    "scrolled": true
   },
   "outputs": [],
   "source": [
    "n_estimators = [100, 300, 500, 800, 1200]\n",
    "max_depth = [5, 10, 15, 25, 30]\n",
    "min_samples_split = [2, 5, 10, 15, 100]\n",
    "min_samples_leaf = [1, 2, 5, 10]\n",
    "\n",
    "hyper_rf = dict(n_estimators = n_estimators, max_depth = max_depth, \n",
    "              min_samples_split = min_samples_split, min_samples_leaf = min_samples_leaf)\n",
    "\n",
    "\n",
    "gridrf = GridSearchCV(rf, hyper_rf, scoring='f1_micro',cv = 5, verbose = 1, n_jobs=-1)\n",
    "gridrf.fit(X_train_features,y)"
   ]
  },
  {
   "cell_type": "code",
   "execution_count": null,
   "id": "68a17a0a",
   "metadata": {
    "scrolled": false
   },
   "outputs": [],
   "source": [
    "gridrf.best_params_"
   ]
  },
  {
   "cell_type": "code",
   "execution_count": null,
   "id": "6a40a43d",
   "metadata": {},
   "outputs": [],
   "source": [
    "rf2 = RandomForestClassifier(class_weight={0: 0.4254677754677755,1: 2.842361111111111,\n",
    "                                          2: 0.859151973131822,3: 7.468978102189781})\n",
    "rf2.fit(X_train_features,y)"
   ]
  },
  {
   "cell_type": "code",
   "execution_count": null,
   "id": "f09dae0d",
   "metadata": {},
   "outputs": [],
   "source": [
    "n_estimators = [100, 300, 500, 800, 1200]\n",
    "max_depth = [5, 10, 15, 25, 30]\n",
    "min_samples_split = [2, 5, 10, 15, 100]\n",
    "min_samples_leaf = [1, 2, 5, 10]\n",
    "\n",
    "hyper_rf = dict(n_estimators = n_estimators, max_depth = max_depth, \n",
    "              min_samples_split = min_samples_split, min_samples_leaf = min_samples_leaf)\n",
    "\n",
    "\n",
    "gridrf2 = GridSearchCV(rf2, hyper_rf, scoring='f1_micro',cv = 5, verbose = 1, n_jobs=-1)\n",
    "gridrf2.fit(X_train_features,y)"
   ]
  },
  {
   "cell_type": "code",
   "execution_count": null,
   "id": "22777463",
   "metadata": {},
   "outputs": [],
   "source": [
    "gridrf2.best_params_"
   ]
  },
  {
   "cell_type": "code",
   "execution_count": null,
   "id": "4bcf385d",
   "metadata": {},
   "outputs": [],
   "source": [
    "num_folds = 5\n",
    "kf = sklearn.model_selection.KFold(num_folds)\n",
    "lr = [0.01, 0.05, 0.1, 0.25, 0.5]\n",
    "n_estimators = [600]\n",
    "max_depth = [5, 6, 7, 8, 9]\n",
    "avg_F1 = []\n",
    "conf_mat = np.zeros((4,4))\n",
    "for ne_i in n_estimators:\n",
    "    avg_F1_i = []\n",
    "    for train_index, test_index in kf.split(X_train_features):\n",
    "        x_trn, y_trn = X_train_features[train_index], y[train_index]\n",
    "        x_tst, y_tst = X_train_features[test_index], y[test_index]\n",
    "        clf = RandomForestClassifier(max_depth=15, min_samples_leaf=1,min_samples_split=2,n_estimators=800)\n",
    "        clf.fit(x_trn, y_trn)\n",
    "        y_pred = clf.predict(x_tst)\n",
    "        print(f1_score(y_tst, y_pred, average='micro'))\n",
    "        avg_F1_i.append(f1_score(y_tst, y_pred, average='micro'))\n",
    "    avg_F1.append(avg_F1_i)\n",
    "#        conf_mat = conf_mat + confusion_matrix(y_tst, y_pred)/ num_folds\n",
    "avg_F1"
   ]
  },
  {
   "cell_type": "code",
   "execution_count": null,
   "id": "68c9f35f",
   "metadata": {},
   "outputs": [],
   "source": [
    "gb = sklearn.ensemble.GradientBoostingClassifier(min_samples_split = 50, min_samples_leaf = 30,max_features='sqrt')\n",
    "lr = [0.01, 0.05, 0.1, 0.25, 0.5]\n",
    "n_estimators = [600, 750, 1000]\n",
    "max_depth = [5, 6, 7, 8, 9]\n",
    "\n",
    "\n",
    "hyper_gb = dict(n_estimators = n_estimators,max_depth = max_depth, learning_rate = lr)\n",
    "\n",
    "\n",
    "\n",
    "gridgb = GridSearchCV(gb, hyper_gb,scoring='f1_micro',cv = 5, verbose = 1, n_jobs=-1)\n",
    "gridgb.fit(X_train_features,y)"
   ]
  },
  {
   "cell_type": "code",
   "execution_count": null,
   "id": "672b343e",
   "metadata": {},
   "outputs": [],
   "source": [
    "gridgb.best_params_"
   ]
  },
  {
   "cell_type": "code",
   "execution_count": null,
   "id": "cf229554",
   "metadata": {},
   "outputs": [],
   "source": [
    "from sklearn.discriminant_analysis import LinearDiscriminantAnalysis"
   ]
  },
  {
   "cell_type": "code",
   "execution_count": null,
   "id": "15a3ebba",
   "metadata": {
    "scrolled": false
   },
   "outputs": [],
   "source": [
    "lda = LinearDiscriminantAnalysis()\n",
    "\n",
    "param_grid = {\n",
    "    'n_components': [1,2, 3, 4, 5, 6, 7, 8, 9, 10],\n",
    "    'solver':['svd', 'lsqr', 'eigen'],\n",
    "    'shrinkage':np.linspace(0.0, 1, 100),\n",
    "    'store_covariance': ['True', 'False'],\n",
    "    'tol': [ 0.0001, 0.001, 0.01, 0.1]\n",
    "}\n",
    "\n",
    "gridlda = GridSearchCV(lda, param_grid, cv=5, scoring='f1_micro',  verbose=1, n_jobs=-1)\n",
    "gridlda.fit(X_train_features, y)"
   ]
  },
  {
   "cell_type": "code",
   "execution_count": null,
   "id": "771ffdef",
   "metadata": {},
   "outputs": [],
   "source": [
    "gridlda.best_params_"
   ]
  },
  {
   "cell_type": "code",
   "execution_count": null,
   "id": "be37e218",
   "metadata": {},
   "outputs": [],
   "source": [
    "lda = LinearDiscriminantAnalysis()\n",
    "\n",
    "param_grid = {\n",
    "    'n_components': [1,2, 3, 4, 5, 6, 7, 8, 9, 10],\n",
    "    'solver':['svd', 'lsqr', 'eigen'],\n",
    "    'shrinkage':np.linspace(0.0, 1, 100),\n",
    "    'store_covariance': ['True', 'False'],\n",
    "    'tol': [ 0.0001, 0.001, 0.01, 0.1]\n",
    "}\n",
    "\n",
    "gridlda = GridSearchCV(lda, param_grid, cv=5, scoring='f1_micro',  verbose=1, n_jobs=-1)\n",
    "gridlda.fit(X_train_features, y)"
   ]
  },
  {
   "cell_type": "code",
   "execution_count": null,
   "id": "e9d86570",
   "metadata": {},
   "outputs": [],
   "source": [
    "LinearDiscriminantAnalysis(n_components=1,  solver='lsqr',shrinkage=0.5555555555555556, store_covariance='True', tol= 0.0001) "
   ]
  },
  {
   "cell_type": "code",
   "execution_count": null,
   "id": "b8d4f5c6",
   "metadata": {},
   "outputs": [],
   "source": [
    "et = ExtraTreesClassifier(class_weight = 'balanced')\n",
    "\n",
    "paramsExtraTrees = {\n",
    "    'n_estimators':[20,50,100,500,1000,1500,1800, 2000],\n",
    "    'max_depth':[2,3,4,5,10,100,200,1000],\n",
    "    'min_samples_split':[2,3,5,6,10,15],\n",
    "    'min_samples_leaf': [2,4,5,6,8,10,15],\n",
    "    'max_features':['sqrt', 'log2'], \n",
    "}\n",
    "\n",
    "gridet = GridSearchCV(et, paramsExtraTrees, cv=5, scoring='f1_micro',  verbose=1, n_jobs=-1)\n",
    "gridet.fit(X_train_features, y)"
   ]
  },
  {
   "cell_type": "code",
   "execution_count": null,
   "id": "2ba6c1cd",
   "metadata": {},
   "outputs": [],
   "source": [
    "gridet.best_params_"
   ]
  },
  {
   "cell_type": "code",
   "execution_count": null,
   "id": "72d9b1f6",
   "metadata": {},
   "outputs": [],
   "source": [
    "ExtraTreesClassifier(class_weight = 'balanced',max_depth=1000,\n",
    "                     max_features='sqrt',min_samples_leaf=2,\n",
    "                     min_samples_split=2,n_estimators=1000)"
   ]
  },
  {
   "cell_type": "code",
   "execution_count": null,
   "id": "c9c576f3",
   "metadata": {},
   "outputs": [],
   "source": [
    "from xgboost import XGBClassifier"
   ]
  },
  {
   "cell_type": "code",
   "execution_count": null,
   "id": "fcc68eaa",
   "metadata": {},
   "outputs": [],
   "source": [
    "clf1 = XGBClassifier(max_depth = 4, n_estimators = 1350, learning_rate = 0.05)\n",
    "clf2 = sklearn.ensemble.GradientBoostingClassifier(learning_rate=0.25, max_depth=9, \n",
    "                                                   n_estimators=750,min_samples_split = 50, \n",
    "                                                   min_samples_leaf = 30,max_features='sqrt', \n",
    "                                                   subsample=0.8)\n",
    "clf3 = RandomForestClassifier(max_depth=15, min_samples_leaf=1,min_samples_split=2,n_estimators=800,\n",
    "                              class_weight={0: 0.4254677754677755,1: 2.842361111111111,\n",
    "                                            2: 0.859151973131822,3: 7.468978102189781})\n",
    "clf4 = LinearDiscriminantAnalysis(n_components=1,  solver='lsqr',shrinkage=0.5555555555555556, store_covariance='True', tol= 0.0001)\n",
    "clf5 = ExtraTreesClassifier(class_weight = 'balanced',max_depth=1000,\n",
    "                            max_features='sqrt',min_samples_leaf=2,\n",
    "                            min_samples_split=2,n_estimators=1000)"
   ]
  },
  {
   "cell_type": "code",
   "execution_count": null,
   "id": "f681b8e1",
   "metadata": {},
   "outputs": [],
   "source": [
    "estimators = [('xgb',clf1),('gb',clf2),('rf',clf3),('lda',clf4),('et',clf5)]"
   ]
  },
  {
   "cell_type": "code",
   "execution_count": null,
   "id": "669ef036",
   "metadata": {},
   "outputs": [],
   "source": [
    "from sklearn.ensemble import StackingClassifier"
   ]
  },
  {
   "cell_type": "code",
   "execution_count": null,
   "id": "aeaa6436",
   "metadata": {},
   "outputs": [],
   "source": [
    "num_folds = 5\n",
    "kf = sklearn.model_selection.KFold(num_folds)\n",
    "avg_F1_stack = []\n",
    "from sklearn.model_selection import train_test_split\n",
    "for i in range(5):\n",
    "    x_trn, x_tst, y_trn, y_tst = train_test_split(X_train_features, y, test_size=0.15,random_state=i)\n",
    "    clf = StackingClassifier(estimators=estimators)\n",
    "    clf.fit(x_trn, y_trn)\n",
    "    y_pred = clf.predict(x_tst)\n",
    "    a = f1_score(y_tst, y_pred, average='micro')\n",
    "    print(a)\n",
    "    avg_F1_stack.append(a)"
   ]
  },
  {
   "cell_type": "code",
   "execution_count": null,
   "id": "9203ae37",
   "metadata": {},
   "outputs": [],
   "source": [
    "y = np.array(pd.read_csv('y_train.csv',index_col='id'))"
   ]
  },
  {
   "cell_type": "code",
   "execution_count": null,
   "id": "42fa5179",
   "metadata": {},
   "outputs": [],
   "source": [
    "reg = StackingClassifier(estimators=estimators)"
   ]
  },
  {
   "cell_type": "code",
   "execution_count": null,
   "id": "8c4a6360",
   "metadata": {},
   "outputs": [],
   "source": [
    "X_train, X_test, y_train, y_test = train_test_split(X, y, test_size=0.15,random_state=0)"
   ]
  }
 ],
 "metadata": {
  "kernelspec": {
   "display_name": "quantech",
   "language": "python",
   "name": "python3"
  },
  "language_info": {
   "codemirror_mode": {
    "name": "ipython",
    "version": 3
   },
   "file_extension": ".py",
   "mimetype": "text/x-python",
   "name": "python",
   "nbconvert_exporter": "python",
   "pygments_lexer": "ipython3",
   "version": "3.9.7 (default, Sep 16 2021, 08:50:36) \n[Clang 10.0.0 ]"
  },
  "vscode": {
   "interpreter": {
    "hash": "586f7db3c72cdbd2111a5fe733ffa252a59827d1d7df0e37a9fca40f971001cc"
   }
  }
 },
 "nbformat": 4,
 "nbformat_minor": 5
}

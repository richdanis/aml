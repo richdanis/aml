{
 "cells": [
  {
   "cell_type": "code",
   "execution_count": 19,
   "id": "34d4ad87",
   "metadata": {},
   "outputs": [],
   "source": [
    "from sklearn.metrics import f1_score\n",
    "import pandas as pd\n",
    "from sklearn.preprocessing import RobustScaler\n",
    "import numpy as np\n",
    "from sklearn.model_selection import train_test_split\n",
    "import lightgbm\n",
    "import xgboost\n",
    "import sklearn\n",
    "from sklearn.ensemble import RandomForestClassifier, VotingClassifier\n",
    "from sklearn.model_selection import StratifiedKFold\n",
    "from sklearn.model_selection import RandomizedSearchCV\n",
    "from sklearn.utils import class_weight"
   ]
  },
  {
   "cell_type": "code",
   "execution_count": 20,
   "id": "b5fef342",
   "metadata": {},
   "outputs": [],
   "source": [
    "df_X_last = pd.read_csv(\"data/X_train_features.csv\", index_col=0)\n",
    "# df_X = pd.read_csv(\"data/X_train_features_new.csv\", index_col=0)\n",
    "X = pd.read_csv(\"data/X_train_features_final.csv\", index_col=0).to_numpy()\n",
    "Y = pd.read_csv(\"data/y_train.csv\", index_col=\"id\").to_numpy().squeeze()"
   ]
  },
  {
   "cell_type": "markdown",
   "id": "300df6db",
   "metadata": {},
   "source": [
    "Class Weights"
   ]
  },
  {
   "cell_type": "code",
   "execution_count": 21,
   "id": "932bc3d4",
   "metadata": {},
   "outputs": [],
   "source": [
    "class_weights = class_weight.compute_class_weight('balanced', classes=np.unique(Y), y=Y)"
   ]
  },
  {
   "cell_type": "code",
   "execution_count": 22,
   "id": "8b7f5f06",
   "metadata": {},
   "outputs": [],
   "source": [
    "weights = dict()\n",
    "for i in range(4):\n",
    "    weights[i] = class_weights[i]"
   ]
  },
  {
   "cell_type": "code",
   "execution_count": 23,
   "id": "f4949302",
   "metadata": {},
   "outputs": [
    {
     "name": "stdout",
     "output_type": "stream",
     "text": [
      "{'n_estimators': [250, 270, 300], 'max_features': ['sqrt'], 'max_depth': [3, 5, 8, None], 'min_samples_split': [2, 5, 8, 15], 'min_samples_leaf': [1], 'bootstrap': [False]}\n"
     ]
    }
   ],
   "source": [
    "from sklearn.model_selection import RandomizedSearchCV\n",
    "\n",
    "n_estimators = [250, 270, 300]\n",
    "\n",
    "max_features = ['sqrt']\n",
    "\n",
    "max_depth = [3, 5, 8, None]\n",
    "\n",
    "min_samples_split = [2, 5, 8, 15]\n",
    "\n",
    "min_samples_leaf = [1]\n",
    "\n",
    "bootstrap = [False]\n",
    "\n",
    "random_grid = {'n_estimators': n_estimators,\n",
    "               'max_features': max_features,\n",
    "               'max_depth': max_depth,\n",
    "               'min_samples_split': min_samples_split,\n",
    "               'min_samples_leaf': min_samples_leaf,\n",
    "               'bootstrap': bootstrap}\n",
    "print(random_grid)"
   ]
  },
  {
   "cell_type": "code",
   "execution_count": 24,
   "id": "c1bd681b",
   "metadata": {},
   "outputs": [],
   "source": [
    "rf = RandomForestClassifier(class_weight=weights)\n",
    "rf_random = RandomizedSearchCV(estimator = rf, param_distributions = random_grid, scoring='f1_micro', n_iter = 100, cv = 5, verbose=2, random_state=42, n_jobs = -1)"
   ]
  },
  {
   "cell_type": "code",
   "execution_count": 25,
   "id": "656b3567",
   "metadata": {},
   "outputs": [
    {
     "name": "stderr",
     "output_type": "stream",
     "text": [
      "C:\\Users\\Richard\\miniconda3\\envs\\pytcu10\\lib\\site-packages\\sklearn\\model_selection\\_search.py:306: UserWarning: The total space of parameters 48 is smaller than n_iter=100. Running 48 iterations. For exhaustive searches, use GridSearchCV.\n",
      "  warnings.warn(\n"
     ]
    },
    {
     "name": "stdout",
     "output_type": "stream",
     "text": [
      "Fitting 5 folds for each of 48 candidates, totalling 240 fits\n"
     ]
    },
    {
     "data": {
      "text/html": [
       "<style>#sk-container-id-2 {color: black;background-color: white;}#sk-container-id-2 pre{padding: 0;}#sk-container-id-2 div.sk-toggleable {background-color: white;}#sk-container-id-2 label.sk-toggleable__label {cursor: pointer;display: block;width: 100%;margin-bottom: 0;padding: 0.3em;box-sizing: border-box;text-align: center;}#sk-container-id-2 label.sk-toggleable__label-arrow:before {content: \"▸\";float: left;margin-right: 0.25em;color: #696969;}#sk-container-id-2 label.sk-toggleable__label-arrow:hover:before {color: black;}#sk-container-id-2 div.sk-estimator:hover label.sk-toggleable__label-arrow:before {color: black;}#sk-container-id-2 div.sk-toggleable__content {max-height: 0;max-width: 0;overflow: hidden;text-align: left;background-color: #f0f8ff;}#sk-container-id-2 div.sk-toggleable__content pre {margin: 0.2em;color: black;border-radius: 0.25em;background-color: #f0f8ff;}#sk-container-id-2 input.sk-toggleable__control:checked~div.sk-toggleable__content {max-height: 200px;max-width: 100%;overflow: auto;}#sk-container-id-2 input.sk-toggleable__control:checked~label.sk-toggleable__label-arrow:before {content: \"▾\";}#sk-container-id-2 div.sk-estimator input.sk-toggleable__control:checked~label.sk-toggleable__label {background-color: #d4ebff;}#sk-container-id-2 div.sk-label input.sk-toggleable__control:checked~label.sk-toggleable__label {background-color: #d4ebff;}#sk-container-id-2 input.sk-hidden--visually {border: 0;clip: rect(1px 1px 1px 1px);clip: rect(1px, 1px, 1px, 1px);height: 1px;margin: -1px;overflow: hidden;padding: 0;position: absolute;width: 1px;}#sk-container-id-2 div.sk-estimator {font-family: monospace;background-color: #f0f8ff;border: 1px dotted black;border-radius: 0.25em;box-sizing: border-box;margin-bottom: 0.5em;}#sk-container-id-2 div.sk-estimator:hover {background-color: #d4ebff;}#sk-container-id-2 div.sk-parallel-item::after {content: \"\";width: 100%;border-bottom: 1px solid gray;flex-grow: 1;}#sk-container-id-2 div.sk-label:hover label.sk-toggleable__label {background-color: #d4ebff;}#sk-container-id-2 div.sk-serial::before {content: \"\";position: absolute;border-left: 1px solid gray;box-sizing: border-box;top: 0;bottom: 0;left: 50%;z-index: 0;}#sk-container-id-2 div.sk-serial {display: flex;flex-direction: column;align-items: center;background-color: white;padding-right: 0.2em;padding-left: 0.2em;position: relative;}#sk-container-id-2 div.sk-item {position: relative;z-index: 1;}#sk-container-id-2 div.sk-parallel {display: flex;align-items: stretch;justify-content: center;background-color: white;position: relative;}#sk-container-id-2 div.sk-item::before, #sk-container-id-2 div.sk-parallel-item::before {content: \"\";position: absolute;border-left: 1px solid gray;box-sizing: border-box;top: 0;bottom: 0;left: 50%;z-index: -1;}#sk-container-id-2 div.sk-parallel-item {display: flex;flex-direction: column;z-index: 1;position: relative;background-color: white;}#sk-container-id-2 div.sk-parallel-item:first-child::after {align-self: flex-end;width: 50%;}#sk-container-id-2 div.sk-parallel-item:last-child::after {align-self: flex-start;width: 50%;}#sk-container-id-2 div.sk-parallel-item:only-child::after {width: 0;}#sk-container-id-2 div.sk-dashed-wrapped {border: 1px dashed gray;margin: 0 0.4em 0.5em 0.4em;box-sizing: border-box;padding-bottom: 0.4em;background-color: white;}#sk-container-id-2 div.sk-label label {font-family: monospace;font-weight: bold;display: inline-block;line-height: 1.2em;}#sk-container-id-2 div.sk-label-container {text-align: center;}#sk-container-id-2 div.sk-container {/* jupyter's `normalize.less` sets `[hidden] { display: none; }` but bootstrap.min.css set `[hidden] { display: none !important; }` so we also need the `!important` here to be able to override the default hidden behavior on the sphinx rendered scikit-learn.org. See: https://github.com/scikit-learn/scikit-learn/issues/21755 */display: inline-block !important;position: relative;}#sk-container-id-2 div.sk-text-repr-fallback {display: none;}</style><div id=\"sk-container-id-2\" class=\"sk-top-container\"><div class=\"sk-text-repr-fallback\"><pre>RandomizedSearchCV(cv=5,\n",
       "                   estimator=RandomForestClassifier(class_weight={0: 0.4221947194719472,\n",
       "                                                                  1: 2.8876975169300225,\n",
       "                                                                  2: 0.867876526458616,\n",
       "                                                                  3: 7.525}),\n",
       "                   n_iter=100, n_jobs=-1,\n",
       "                   param_distributions={&#x27;bootstrap&#x27;: [False],\n",
       "                                        &#x27;max_depth&#x27;: [3, 5, 8, None],\n",
       "                                        &#x27;max_features&#x27;: [&#x27;sqrt&#x27;],\n",
       "                                        &#x27;min_samples_leaf&#x27;: [1],\n",
       "                                        &#x27;min_samples_split&#x27;: [2, 5, 8, 15],\n",
       "                                        &#x27;n_estimators&#x27;: [250, 270, 300]},\n",
       "                   random_state=42, scoring=&#x27;f1_micro&#x27;, verbose=2)</pre><b>In a Jupyter environment, please rerun this cell to show the HTML representation or trust the notebook. <br />On GitHub, the HTML representation is unable to render, please try loading this page with nbviewer.org.</b></div><div class=\"sk-container\" hidden><div class=\"sk-item sk-dashed-wrapped\"><div class=\"sk-label-container\"><div class=\"sk-label sk-toggleable\"><input class=\"sk-toggleable__control sk-hidden--visually\" id=\"sk-estimator-id-4\" type=\"checkbox\" ><label for=\"sk-estimator-id-4\" class=\"sk-toggleable__label sk-toggleable__label-arrow\">RandomizedSearchCV</label><div class=\"sk-toggleable__content\"><pre>RandomizedSearchCV(cv=5,\n",
       "                   estimator=RandomForestClassifier(class_weight={0: 0.4221947194719472,\n",
       "                                                                  1: 2.8876975169300225,\n",
       "                                                                  2: 0.867876526458616,\n",
       "                                                                  3: 7.525}),\n",
       "                   n_iter=100, n_jobs=-1,\n",
       "                   param_distributions={&#x27;bootstrap&#x27;: [False],\n",
       "                                        &#x27;max_depth&#x27;: [3, 5, 8, None],\n",
       "                                        &#x27;max_features&#x27;: [&#x27;sqrt&#x27;],\n",
       "                                        &#x27;min_samples_leaf&#x27;: [1],\n",
       "                                        &#x27;min_samples_split&#x27;: [2, 5, 8, 15],\n",
       "                                        &#x27;n_estimators&#x27;: [250, 270, 300]},\n",
       "                   random_state=42, scoring=&#x27;f1_micro&#x27;, verbose=2)</pre></div></div></div><div class=\"sk-parallel\"><div class=\"sk-parallel-item\"><div class=\"sk-item\"><div class=\"sk-label-container\"><div class=\"sk-label sk-toggleable\"><input class=\"sk-toggleable__control sk-hidden--visually\" id=\"sk-estimator-id-5\" type=\"checkbox\" ><label for=\"sk-estimator-id-5\" class=\"sk-toggleable__label sk-toggleable__label-arrow\">estimator: RandomForestClassifier</label><div class=\"sk-toggleable__content\"><pre>RandomForestClassifier(class_weight={0: 0.4221947194719472,\n",
       "                                     1: 2.8876975169300225,\n",
       "                                     2: 0.867876526458616, 3: 7.525})</pre></div></div></div><div class=\"sk-serial\"><div class=\"sk-item\"><div class=\"sk-estimator sk-toggleable\"><input class=\"sk-toggleable__control sk-hidden--visually\" id=\"sk-estimator-id-6\" type=\"checkbox\" ><label for=\"sk-estimator-id-6\" class=\"sk-toggleable__label sk-toggleable__label-arrow\">RandomForestClassifier</label><div class=\"sk-toggleable__content\"><pre>RandomForestClassifier(class_weight={0: 0.4221947194719472,\n",
       "                                     1: 2.8876975169300225,\n",
       "                                     2: 0.867876526458616, 3: 7.525})</pre></div></div></div></div></div></div></div></div></div></div>"
      ],
      "text/plain": [
       "RandomizedSearchCV(cv=5,\n",
       "                   estimator=RandomForestClassifier(class_weight={0: 0.4221947194719472,\n",
       "                                                                  1: 2.8876975169300225,\n",
       "                                                                  2: 0.867876526458616,\n",
       "                                                                  3: 7.525}),\n",
       "                   n_iter=100, n_jobs=-1,\n",
       "                   param_distributions={'bootstrap': [False],\n",
       "                                        'max_depth': [3, 5, 8, None],\n",
       "                                        'max_features': ['sqrt'],\n",
       "                                        'min_samples_leaf': [1],\n",
       "                                        'min_samples_split': [2, 5, 8, 15],\n",
       "                                        'n_estimators': [250, 270, 300]},\n",
       "                   random_state=42, scoring='f1_micro', verbose=2)"
      ]
     },
     "execution_count": 25,
     "metadata": {},
     "output_type": "execute_result"
    }
   ],
   "source": [
    "rf_random.fit(X, Y)"
   ]
  },
  {
   "cell_type": "code",
   "execution_count": 31,
   "id": "2d6f1221",
   "metadata": {},
   "outputs": [
    {
     "data": {
      "text/plain": [
       "{'n_estimators': 250,\n",
       " 'min_samples_split': 8,\n",
       " 'min_samples_leaf': 1,\n",
       " 'max_features': 'sqrt',\n",
       " 'max_depth': None,\n",
       " 'bootstrap': False}"
      ]
     },
     "execution_count": 31,
     "metadata": {},
     "output_type": "execute_result"
    }
   ],
   "source": [
    "rf_random.best_params_"
   ]
  },
  {
   "cell_type": "code",
   "execution_count": 40,
   "id": "176cc088",
   "metadata": {},
   "outputs": [],
   "source": [
    "# best params\n",
    "{'n_estimators': 250,\n",
    " 'min_samples_split': 8,\n",
    " 'min_samples_leaf': 1,\n",
    " 'max_features': 'sqrt',\n",
    " 'max_depth': None,\n",
    " 'bootstrap': False}"
   ]
  },
  {
   "cell_type": "markdown",
   "id": "0e3534bc",
   "metadata": {},
   "source": [
    "Evaluate"
   ]
  },
  {
   "cell_type": "code",
   "execution_count": 29,
   "id": "7f8fc283",
   "metadata": {},
   "outputs": [],
   "source": [
    "skf = StratifiedKFold(n_splits=5)\n",
    "f1_base = []\n",
    "f1_optim = []\n",
    "\n",
    "for train_index, test_index in skf.split(X, Y):\n",
    "    clf = xgboost.XGBClassifier()\n",
    "    \n",
    "    clf.fit(X[train_index], Y[train_index])\n",
    "    y_pred = clf.predict(X[test_index])\n",
    "    f1_base.append(f1_score(Y[test_index], y_pred, average='micro'))\n",
    "    \n",
    "    clf_optim = rf_random.best_estimator_\n",
    "    clf_optim.fit(X[train_index], Y[train_index])\n",
    "    y_pred = clf_optim.predict(X[test_index])\n",
    "    f1_optim.append(f1_score(Y[test_index], y_pred, average='micro'))"
   ]
  },
  {
   "cell_type": "code",
   "execution_count": 18,
   "id": "f64206f1",
   "metadata": {},
   "outputs": [
    {
     "name": "stdout",
     "output_type": "stream",
     "text": [
      "0.8516713251466277\n",
      "0.84737082264174\n"
     ]
    }
   ],
   "source": [
    "# knn\n",
    "print(np.mean(f1_base))\n",
    "print(np.mean(f1_optim))"
   ]
  },
  {
   "cell_type": "code",
   "execution_count": 63,
   "id": "ce523dd5",
   "metadata": {},
   "outputs": [
    {
     "name": "stdout",
     "output_type": "stream",
     "text": [
      "0.8450249725073314\n",
      "0.8481520726417401\n"
     ]
    }
   ],
   "source": [
    "# knn\n",
    "print(np.mean(f1_base))\n",
    "print(np.mean(f1_optim))"
   ]
  },
  {
   "cell_type": "code",
   "execution_count": 30,
   "id": "9482a2e1",
   "metadata": {},
   "outputs": [
    {
     "name": "stdout",
     "output_type": "stream",
     "text": [
      "0.8516713251466277\n",
      "0.8471745555351907\n"
     ]
    }
   ],
   "source": [
    "# knn\n",
    "print(np.mean(f1_base))\n",
    "print(np.mean(f1_optim))"
   ]
  },
  {
   "cell_type": "code",
   "execution_count": null,
   "id": "39333d2c",
   "metadata": {},
   "outputs": [],
   "source": []
  }
 ],
 "metadata": {
  "kernelspec": {
   "display_name": "Python 3 (ipykernel)",
   "language": "python",
   "name": "python3"
  },
  "language_info": {
   "codemirror_mode": {
    "name": "ipython",
    "version": 3
   },
   "file_extension": ".py",
   "mimetype": "text/x-python",
   "name": "python",
   "nbconvert_exporter": "python",
   "pygments_lexer": "ipython3",
   "version": "3.9.11"
  }
 },
 "nbformat": 4,
 "nbformat_minor": 5
}

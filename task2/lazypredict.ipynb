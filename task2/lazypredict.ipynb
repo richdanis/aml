{
 "cells": [
  {
   "cell_type": "code",
   "execution_count": 304,
   "metadata": {},
   "outputs": [],
   "source": [
    "import lazypredict\n",
    "import pandas as pd\n",
    "from sklearn.preprocessing import RobustScaler\n",
    "import numpy as np\n",
    "from sklearn.impute import SimpleImputer\n",
    "from lazypredict.Supervised import LazyClassifier\n",
    "from sklearn.model_selection import train_test_split\n",
    "import lightgbm\n",
    "import xgboost\n",
    "import sklearn\n",
    "import catboost\n",
    "from sklearn.ensemble import RandomForestClassifier\n",
    "from sklearn.feature_selection import SelectKBest, f_classif\n",
    "from sklearn.ensemble import IsolationForest\n",
    "from pyod.models.ecod import ECOD"
   ]
  },
  {
   "cell_type": "code",
   "execution_count": 305,
   "metadata": {},
   "outputs": [],
   "source": [
    "df_X_last = pd.read_csv(\"data/X_train_features.csv\", index_col=0)\n",
    "df_X_richard = pd.read_csv(\"data/template_features_v3.csv\", index_col=0)\n",
    "df_X_tim = pd.read_csv(\"data/full_waveform_features.csv\", index_col=0)\n",
    "df_X_pyHRV = pd.read_csv(\"data/pyHRV_features.csv\", index_col=0)\n",
    "df_X_hrv_analysis = pd.read_csv(\"data/hrv-analysis_features.csv\", index_col=0)\n",
    "df_X = pd.concat((df_X_tim,df_X_richard,df_X_pyHRV,df_X_hrv_analysis),axis=1)\n",
    "df_Y = pd.read_csv(\"data/Y_train.csv\", index_col=\"id\")"
   ]
  },
  {
   "cell_type": "markdown",
   "metadata": {},
   "source": [
    "Remove highly correlated features"
   ]
  },
  {
   "cell_type": "code",
   "execution_count": 306,
   "metadata": {},
   "outputs": [],
   "source": [
    "def rm_corr(X):\n",
    "    corr_matrix = X.corr().abs()\n",
    "\n",
    "    # Select upper triangle of correlation matrix\n",
    "    upper = corr_matrix.where(np.triu(np.ones(corr_matrix.shape), k=1).astype(bool))\n",
    "\n",
    "    # Find features with correlation greater than 0.9\n",
    "    to_drop = [column for column in upper.columns if any(upper[column] > 0.9)]\n",
    "    print(\"Removed columns: \", len(to_drop))\n",
    "    # Drop features \n",
    "    X.drop(to_drop, axis=1, inplace=True)\n",
    "    # X_test.drop(to_drop, axis=1, inplace=True)\n",
    "    \n",
    "    return X"
   ]
  },
  {
   "cell_type": "code",
   "execution_count": 307,
   "metadata": {},
   "outputs": [
    {
     "name": "stdout",
     "output_type": "stream",
     "text": [
      "Removed columns:  45\n"
     ]
    }
   ],
   "source": [
    "df_X = rm_corr(df_X)"
   ]
  },
  {
   "cell_type": "markdown",
   "metadata": {},
   "source": [
    "Normalize"
   ]
  },
  {
   "cell_type": "code",
   "execution_count": 308,
   "metadata": {},
   "outputs": [],
   "source": [
    "df_X.replace([np.inf, -np.inf], np.nan, inplace=True)\n",
    "transformer = RobustScaler()\n",
    "X = transformer.fit_transform(df_X)\n",
    "# nans are no problem"
   ]
  },
  {
   "cell_type": "markdown",
   "metadata": {},
   "source": [
    "Impute missing values"
   ]
  },
  {
   "cell_type": "code",
   "execution_count": 309,
   "metadata": {},
   "outputs": [],
   "source": [
    "imp_median = SimpleImputer(missing_values=np.nan, strategy='median')\n",
    "X = imp_median.fit_transform(X)"
   ]
  },
  {
   "cell_type": "code",
   "execution_count": 310,
   "metadata": {},
   "outputs": [
    {
     "data": {
      "text/plain": [
       "(5117, 79)"
      ]
     },
     "execution_count": 310,
     "metadata": {},
     "output_type": "execute_result"
    }
   ],
   "source": [
    "X.shape"
   ]
  },
  {
   "cell_type": "markdown",
   "metadata": {},
   "source": [
    "Simple Outlier Removal"
   ]
  },
  {
   "cell_type": "code",
   "execution_count": 311,
   "metadata": {},
   "outputs": [
    {
     "name": "stdout",
     "output_type": "stream",
     "text": [
      "303\n",
      "45\n",
      "148\n"
     ]
    }
   ],
   "source": [
    "Y = df_Y.to_numpy()\n",
    "for i in range(3):\n",
    "    class_i = np.squeeze(Y==i)\n",
    "    ids = np.where(class_i)[0]\n",
    "    X_c = X[class_i]\n",
    "    # preds = IsolationForest(random_state=0, contamination = 0.06).fit_predict(X_c)\n",
    "    clf = ECOD()\n",
    "    clf.fit(X_c)\n",
    "    preds = clf.predict(X_c)\n",
    "    outlier_ids = ids[preds == 1] # minus 1 for isolation forest\n",
    "    Y = np.delete(Y, outlier_ids, axis=0)\n",
    "    X = np.delete(X, outlier_ids, axis=0)\n",
    "    print(outlier_ids.shape[0])"
   ]
  },
  {
   "cell_type": "code",
   "execution_count": 312,
   "metadata": {},
   "outputs": [
    {
     "data": {
      "text/plain": [
       "(4621, 79)"
      ]
     },
     "execution_count": 312,
     "metadata": {},
     "output_type": "execute_result"
    }
   ],
   "source": [
    "X.shape"
   ]
  },
  {
   "cell_type": "code",
   "execution_count": 313,
   "metadata": {},
   "outputs": [],
   "source": [
    "X = SelectKBest(f_classif, k=70).fit_transform(X, Y)"
   ]
  },
  {
   "cell_type": "code",
   "execution_count": 314,
   "metadata": {},
   "outputs": [
    {
     "name": "stdout",
     "output_type": "stream",
     "text": [
      "'tuple' object has no attribute '__name__'\n",
      "Invalid Classifier(s)\n"
     ]
    },
    {
     "name": "stderr",
     "output_type": "stream",
     "text": [
      "100%|████████████████████████████████████████████████████████████████████████████████████| 4/4 [00:11<00:00,  2.94s/it]\n"
     ]
    },
    {
     "data": {
      "text/html": [
       "<div>\n",
       "<style scoped>\n",
       "    .dataframe tbody tr th:only-of-type {\n",
       "        vertical-align: middle;\n",
       "    }\n",
       "\n",
       "    .dataframe tbody tr th {\n",
       "        vertical-align: top;\n",
       "    }\n",
       "\n",
       "    .dataframe thead th {\n",
       "        text-align: right;\n",
       "    }\n",
       "</style>\n",
       "<table border=\"1\" class=\"dataframe\">\n",
       "  <thead>\n",
       "    <tr style=\"text-align: right;\">\n",
       "      <th></th>\n",
       "      <th>Accuracy</th>\n",
       "      <th>Balanced Accuracy</th>\n",
       "      <th>ROC AUC</th>\n",
       "      <th>F1 Score</th>\n",
       "      <th>Time Taken</th>\n",
       "    </tr>\n",
       "    <tr>\n",
       "      <th>Model</th>\n",
       "      <th></th>\n",
       "      <th></th>\n",
       "      <th></th>\n",
       "      <th></th>\n",
       "      <th></th>\n",
       "    </tr>\n",
       "  </thead>\n",
       "  <tbody>\n",
       "    <tr>\n",
       "      <th>XGBClassifier</th>\n",
       "      <td>0.86</td>\n",
       "      <td>0.79</td>\n",
       "      <td>None</td>\n",
       "      <td>0.85</td>\n",
       "      <td>5.42</td>\n",
       "    </tr>\n",
       "    <tr>\n",
       "      <th>LGBMClassifier</th>\n",
       "      <td>0.85</td>\n",
       "      <td>0.78</td>\n",
       "      <td>None</td>\n",
       "      <td>0.85</td>\n",
       "      <td>2.09</td>\n",
       "    </tr>\n",
       "    <tr>\n",
       "      <th>RandomForestClassifier</th>\n",
       "      <td>0.85</td>\n",
       "      <td>0.74</td>\n",
       "      <td>None</td>\n",
       "      <td>0.84</td>\n",
       "      <td>3.22</td>\n",
       "    </tr>\n",
       "    <tr>\n",
       "      <th>ExtraTreesClassifier</th>\n",
       "      <td>0.84</td>\n",
       "      <td>0.73</td>\n",
       "      <td>None</td>\n",
       "      <td>0.84</td>\n",
       "      <td>1.04</td>\n",
       "    </tr>\n",
       "  </tbody>\n",
       "</table>\n",
       "</div>"
      ],
      "text/plain": [
       "                        Accuracy  Balanced Accuracy ROC AUC  F1 Score  \\\n",
       "Model                                                                   \n",
       "XGBClassifier               0.86               0.79    None      0.85   \n",
       "LGBMClassifier              0.85               0.78    None      0.85   \n",
       "RandomForestClassifier      0.85               0.74    None      0.84   \n",
       "ExtraTreesClassifier        0.84               0.73    None      0.84   \n",
       "\n",
       "                        Time Taken  \n",
       "Model                               \n",
       "XGBClassifier                 5.42  \n",
       "LGBMClassifier                2.09  \n",
       "RandomForestClassifier        3.22  \n",
       "ExtraTreesClassifier          1.04  "
      ]
     },
     "execution_count": 314,
     "metadata": {},
     "output_type": "execute_result"
    }
   ],
   "source": [
    "X_train, X_test, y_train, y_test = train_test_split(X, Y,test_size=.2,random_state=0)\n",
    "classifiers = [(\"LGBMClassifier\", lightgbm.LGBMClassifier), (\"XGBClassifier\", xgboost.XGBClassifier), \\\n",
    "               (\"RandomForestClassifier\", sklearn.ensemble.RandomForestClassifier), \\\n",
    "                (\"ExtraTreesClassifier\", sklearn.ensemble.ExtraTreesClassifier)]\n",
    "# catboost classifier takes very long but is similar in performance to these other classifiers\n",
    "clf = LazyClassifier(verbose=0,ignore_warnings=True, custom_metric=None, classifiers=classifiers)\n",
    "models,predictions = clf.fit(X_train, X_test, y_train, y_test)\n",
    "models"
   ]
  },
  {
   "cell_type": "code",
   "execution_count": 244,
   "metadata": {},
   "outputs": [],
   "source": [
    "Y = df_Y.to_numpy()"
   ]
  },
  {
   "cell_type": "code",
   "execution_count": 246,
   "metadata": {},
   "outputs": [
    {
     "name": "stdout",
     "output_type": "stream",
     "text": [
      "3030\n",
      "443\n",
      "1474\n",
      "170\n"
     ]
    }
   ],
   "source": [
    "print(np.sum(Y==0))\n",
    "print(np.sum(Y==1))\n",
    "print(np.sum(Y==2))\n",
    "print(np.sum(Y==3))"
   ]
  },
  {
   "cell_type": "code",
   "execution_count": null,
   "metadata": {},
   "outputs": [],
   "source": []
  }
 ],
 "metadata": {
  "kernelspec": {
   "display_name": "Python 3 (ipykernel)",
   "language": "python",
   "name": "python3"
  },
  "language_info": {
   "codemirror_mode": {
    "name": "ipython",
    "version": 3
   },
   "file_extension": ".py",
   "mimetype": "text/x-python",
   "name": "python",
   "nbconvert_exporter": "python",
   "pygments_lexer": "ipython3",
   "version": "3.9.11"
  },
  "vscode": {
   "interpreter": {
    "hash": "b72a1a9fcdc4a37b876d59b8fde098d6bda68dcbb49ecf7e0339451022590265"
   }
  }
 },
 "nbformat": 4,
 "nbformat_minor": 2
}
{
 "cells": [
  {
   "cell_type": "code",
   "execution_count": 42,
   "metadata": {},
   "outputs": [],
   "source": [
    "from sklearn.metrics import f1_score\n",
    "import pandas as pd\n",
    "from sklearn.preprocessing import RobustScaler\n",
    "import numpy as np\n",
    "import xgboost\n",
    "import lightgbm\n",
    "import catboost\n",
    "from sklearn.ensemble import RandomForestClassifier, VotingClassifier, ExtraTreesClassifier\n",
    "from sklearn.svm import LinearSVC\n",
    "from pyod.models.ecod import ECOD\n",
    "from sklearn.utils import class_weight\n",
    "from sklearn.model_selection import StratifiedKFold"
   ]
  },
  {
   "cell_type": "code",
   "execution_count": 43,
   "metadata": {},
   "outputs": [],
   "source": [
    "X = pd.read_csv(\"data/X_train_features_final.csv\", index_col=0).to_numpy()\n",
    "X_last = pd.read_csv(\"data/X_train_features.csv\", index_col=0).to_numpy()\n",
    "df_X_test = pd.read_csv(\"data/X_test_features_final.csv\", index_col=0)\n",
    "Y = pd.read_csv(\"data/y_train.csv\", index_col=\"id\").to_numpy().squeeze()"
   ]
  },
  {
   "cell_type": "markdown",
   "id": "300df6db",
   "metadata": {},
   "source": [
    "Class Weights"
   ]
  },
  {
   "cell_type": "code",
   "execution_count": 44,
   "id": "932bc3d4",
   "metadata": {},
   "outputs": [],
   "source": [
    "class_weights = class_weight.compute_class_weight('balanced', classes=np.unique(Y), y=Y)"
   ]
  },
  {
   "cell_type": "code",
   "execution_count": 45,
   "id": "8b7f5f06",
   "metadata": {},
   "outputs": [],
   "source": [
    "weights = dict()\n",
    "for i in range(4):\n",
    "    weights[i] = class_weights[i]"
   ]
  },
  {
   "cell_type": "markdown",
   "metadata": {},
   "source": [
    "Simple Outlier Removal"
   ]
  },
  {
   "cell_type": "code",
   "execution_count": 39,
   "metadata": {},
   "outputs": [
    {
     "name": "stdout",
     "output_type": "stream",
     "text": [
      "31\n",
      "5\n",
      "15\n"
     ]
    }
   ],
   "source": [
    "for i in range(3):\n",
    "    class_i = np.squeeze(Y==i)\n",
    "    ids = np.where(class_i)[0]\n",
    "    X_c = X[class_i]\n",
    "    clf = ECOD(contamination=0.01)\n",
    "    clf.fit(X_c)\n",
    "    preds = clf.predict(X_c)\n",
    "    outlier_ids = ids[preds == 1] # minus 1 for isolation forest\n",
    "    Y = np.delete(Y, outlier_ids, axis=0)\n",
    "    X = np.delete(X, outlier_ids, axis=0)\n",
    "    print(outlier_ids.shape[0])"
   ]
  },
  {
   "cell_type": "code",
   "execution_count": 46,
   "metadata": {},
   "outputs": [
    {
     "name": "stderr",
     "output_type": "stream",
     "text": [
      "C:\\Users\\Richard\\miniconda3\\envs\\pytcu10\\lib\\site-packages\\xgboost\\sklearn.py:1421: UserWarning: `use_label_encoder` is deprecated in 1.7.0.\n",
      "  warnings.warn(\"`use_label_encoder` is deprecated in 1.7.0.\")\n"
     ]
    }
   ],
   "source": [
    "clf1 = xgboost.XGBClassifier(use_label_encoder=False,n_estimators=700, max_depth=8, learning_rate=0.05)\n",
    "clf2 = RandomForestClassifier(n_estimators=270, min_samples_split=8, bootstrap=False, class_weight=weights)\n",
    "clf3 = lightgbm.LGBMClassifier(n_estimators=200, max_depth=8, learning_rate=0.1)\n",
    "clf4 = ExtraTreesClassifier()\n",
    "# clf5 = catboost.CatBoostClassifier(logging_level='Silent')\n",
    "\n",
    "eclf1 = VotingClassifier(estimators=[\n",
    "    ('xgb', clf1), ('rf', clf2), ('lgbm', clf3), ('extra_trees', clf4)], voting='hard')"
   ]
  },
  {
   "cell_type": "code",
   "execution_count": 47,
   "metadata": {},
   "outputs": [
    {
     "name": "stderr",
     "output_type": "stream",
     "text": [
      "C:\\Users\\Richard\\miniconda3\\envs\\pytcu10\\lib\\site-packages\\xgboost\\sklearn.py:1421: UserWarning: `use_label_encoder` is deprecated in 1.7.0.\n",
      "  warnings.warn(\"`use_label_encoder` is deprecated in 1.7.0.\")\n",
      "C:\\Users\\Richard\\miniconda3\\envs\\pytcu10\\lib\\site-packages\\xgboost\\sklearn.py:1421: UserWarning: `use_label_encoder` is deprecated in 1.7.0.\n",
      "  warnings.warn(\"`use_label_encoder` is deprecated in 1.7.0.\")\n",
      "C:\\Users\\Richard\\miniconda3\\envs\\pytcu10\\lib\\site-packages\\xgboost\\sklearn.py:1421: UserWarning: `use_label_encoder` is deprecated in 1.7.0.\n",
      "  warnings.warn(\"`use_label_encoder` is deprecated in 1.7.0.\")\n",
      "C:\\Users\\Richard\\miniconda3\\envs\\pytcu10\\lib\\site-packages\\xgboost\\sklearn.py:1421: UserWarning: `use_label_encoder` is deprecated in 1.7.0.\n",
      "  warnings.warn(\"`use_label_encoder` is deprecated in 1.7.0.\")\n",
      "C:\\Users\\Richard\\miniconda3\\envs\\pytcu10\\lib\\site-packages\\xgboost\\sklearn.py:1421: UserWarning: `use_label_encoder` is deprecated in 1.7.0.\n",
      "  warnings.warn(\"`use_label_encoder` is deprecated in 1.7.0.\")\n"
     ]
    }
   ],
   "source": [
    "skf = StratifiedKFold(n_splits=5)\n",
    "f1_base = []\n",
    "f1_optim = []\n",
    "\n",
    "for train_index, test_index in skf.split(X, Y):\n",
    "    clf = xgboost.XGBClassifier()\n",
    "    \n",
    "    clf.fit(X_last[train_index], Y[train_index])\n",
    "    y_pred = clf.predict(X_last[test_index])\n",
    "    f1_base.append(f1_score(Y[test_index], y_pred, average='micro'))\n",
    "    \n",
    "    eclf1.fit(X[train_index], Y[train_index])\n",
    "    y_pred = eclf1.predict(X[test_index])\n",
    "    f1_optim.append(f1_score(Y[test_index], y_pred, average='micro'))"
   ]
  },
  {
   "cell_type": "code",
   "execution_count": 48,
   "metadata": {},
   "outputs": [
    {
     "name": "stdout",
     "output_type": "stream",
     "text": [
      "[0.8564453125, 0.8369140625, 0.8563049853372434, 0.8299120234604106, 0.8494623655913978]\n"
     ]
    }
   ],
   "source": [
    "print(f1_base)"
   ]
  },
  {
   "cell_type": "code",
   "execution_count": 49,
   "metadata": {},
   "outputs": [
    {
     "name": "stdout",
     "output_type": "stream",
     "text": [
      "[0.8486328125, 0.8544921875, 0.8543499511241447, 0.8514173998044967, 0.855327468230694]\n"
     ]
    }
   ],
   "source": [
    "print(f1_optim)"
   ]
  },
  {
   "cell_type": "code",
   "execution_count": 52,
   "metadata": {},
   "outputs": [
    {
     "name": "stdout",
     "output_type": "stream",
     "text": [
      "0.0024868177877665734\n"
     ]
    }
   ],
   "source": [
    "print(np.std(f1_optim))"
   ]
  },
  {
   "cell_type": "code",
   "execution_count": 77,
   "metadata": {},
   "outputs": [],
   "source": [
    "eclf1.fit(X, Y)\n",
    "y_pred = eclf1.predict(X_test)"
   ]
  },
  {
   "cell_type": "code",
   "execution_count": 79,
   "metadata": {},
   "outputs": [
    {
     "data": {
      "text/plain": [
       "(3411,)"
      ]
     },
     "execution_count": 79,
     "metadata": {},
     "output_type": "execute_result"
    }
   ],
   "source": [
    "y_pred.shape"
   ]
  },
  {
   "cell_type": "code",
   "execution_count": 80,
   "metadata": {},
   "outputs": [],
   "source": [
    "ids = np.arange(y_pred.shape[0])"
   ]
  },
  {
   "cell_type": "code",
   "execution_count": 81,
   "metadata": {},
   "outputs": [],
   "source": [
    "pd.DataFrame({\"id\": ids, \"y\": y_pred}).to_csv(\"sub_voting_class.csv\", index=False)"
   ]
  },
  {
   "cell_type": "code",
   "execution_count": null,
   "metadata": {},
   "outputs": [],
   "source": []
  }
 ],
 "metadata": {
  "kernelspec": {
   "display_name": "Python 3 (ipykernel)",
   "language": "python",
   "name": "python3"
  },
  "language_info": {
   "codemirror_mode": {
    "name": "ipython",
    "version": 3
   },
   "file_extension": ".py",
   "mimetype": "text/x-python",
   "name": "python",
   "nbconvert_exporter": "python",
   "pygments_lexer": "ipython3",
   "version": "3.9.11"
  },
  "vscode": {
   "interpreter": {
    "hash": "b72a1a9fcdc4a37b876d59b8fde098d6bda68dcbb49ecf7e0339451022590265"
   }
  }
 },
 "nbformat": 4,
 "nbformat_minor": 2
}

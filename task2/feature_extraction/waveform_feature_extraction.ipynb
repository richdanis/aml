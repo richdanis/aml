{
 "cells": [
  {
   "cell_type": "code",
   "execution_count": 1,
   "metadata": {},
   "outputs": [],
   "source": [
    "from tqdm import tqdm\n",
    "import pandas as pd \n",
    "from full_waveform_statistics import full_waveform_statistics, wavelet_statistics\n",
    "from full_Goodfellow_preprocess import filter_invert"
   ]
  },
  {
   "cell_type": "code",
   "execution_count": 2,
   "metadata": {},
   "outputs": [],
   "source": [
    "def extract_feat(df):\n",
    "    fw=None\n",
    "    wl=None\n",
    "    for id in tqdm(df.index):\n",
    "        signal = df.loc[id,:].dropna()\n",
    "        signal_flt= filter_invert(signal)\n",
    "        fw_stats = full_waveform_statistics(signal=signal_flt)\n",
    "        wavelet_stats = wavelet_statistics(signal=signal_flt)\n",
    "        \n",
    "        fw = pd.concat((fw,pd.DataFrame(fw_stats,      index = [id])),axis=0)\n",
    "        wl = pd.concat((wl,pd.DataFrame(wavelet_stats, index = [id])),axis=0)\n",
    "        \n",
    "    full_waveform_features = pd.concat((fw,wl),axis=1)\n",
    "    return full_waveform_features"
   ]
  },
  {
   "cell_type": "code",
   "execution_count": 3,
   "metadata": {},
   "outputs": [],
   "source": [
    "X_train = pd.read_csv(\"data/X_train.csv\", index_col=\"id\")"
   ]
  },
  {
   "cell_type": "code",
   "execution_count": 4,
   "metadata": {},
   "outputs": [
    {
     "name": "stderr",
     "output_type": "stream",
     "text": [
      "100%|██████████| 5117/5117 [03:54<00:00, 21.84it/s]\n"
     ]
    }
   ],
   "source": [
    "feat = extract_feat(X_train)\n",
    "feat.to_csv(\"data/full_waveform_features.csv\")"
   ]
  },
  {
   "cell_type": "code",
   "execution_count": 5,
   "metadata": {},
   "outputs": [],
   "source": [
    "X_test = pd.read_csv(\"data/X_test.csv\", index_col=\"id\")"
   ]
  },
  {
   "cell_type": "code",
   "execution_count": 6,
   "metadata": {},
   "outputs": [
    {
     "name": "stderr",
     "output_type": "stream",
     "text": [
      "100%|██████████| 3411/3411 [02:33<00:00, 22.26it/s]\n"
     ]
    }
   ],
   "source": [
    "feat = extract_feat(X_test)\n",
    "feat.to_csv(\"data/full_waveform_features_test.csv\")"
   ]
  },
  {
   "cell_type": "code",
   "execution_count": null,
   "metadata": {},
   "outputs": [],
   "source": []
  }
 ],
 "metadata": {
  "kernelspec": {
   "display_name": "Python 3 (ipykernel)",
   "language": "python",
   "name": "python3"
  },
  "language_info": {
   "codemirror_mode": {
    "name": "ipython",
    "version": 3
   },
   "file_extension": ".py",
   "mimetype": "text/x-python",
   "name": "python",
   "nbconvert_exporter": "python",
   "pygments_lexer": "ipython3",
   "version": "3.9.11"
  },
  "vscode": {
   "interpreter": {
    "hash": "b72a1a9fcdc4a37b876d59b8fde098d6bda68dcbb49ecf7e0339451022590265"
   }
  }
 },
 "nbformat": 4,
 "nbformat_minor": 2
}
